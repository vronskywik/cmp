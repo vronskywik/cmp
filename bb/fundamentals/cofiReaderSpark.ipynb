{
 "cells": [
  {
   "cell_type": "markdown",
   "metadata": {},
   "source": [
    "## Cofi Slim Reader: A full history of Bloomberg Company Financials\n",
    "- Fields: list supported @ https://docs.google.com/spreadsheets/d/1Z0SdHMhST9UMooVSWsEZB26TTSylt3glIU0xrWB41U8/edit#gid=0\n",
    "- Global company examples (id_bb_company) in this testing notebook: ['101743','13561981', '101534', '111680', '118412', '100232', '115114', '115709', '111100' , '179551', '11092218']"
   ]
  },
  {
   "cell_type": "code",
   "execution_count": 42,
   "metadata": {
    "tags": []
   },
   "outputs": [],
   "source": [
    "%%capture\n",
    "!pip install --upgrade bloomberg.es.lacus.location\n",
    "!pip install matplotlib"
   ]
  },
  {
   "cell_type": "code",
   "execution_count": 43,
   "metadata": {
    "tags": []
   },
   "outputs": [],
   "source": [
    "import pandas as pd\n",
    "import matplotlib.pyplot as plt\n",
    "import numpy as np\n",
    "import pyarrow.dataset as ds\n",
    "import pyspark.sql.functions as F\n",
    "\n",
    "from bloomberg.es.lacus.location import LacusLocation\n",
    "\n",
    "pd.set_option(\"max_columns\", None)\n",
    "pd.set_option(\"max_rows\", 500)"
   ]
  },
  {
   "cell_type": "code",
   "execution_count": 44,
   "metadata": {
    "tags": []
   },
   "outputs": [],
   "source": [
    "def setup_dsp_pyspark(\n",
    "    env=\"dev\",\n",
    "    driver_memory=\"16g\",\n",
    "    driver_cores=4,\n",
    "    driver_max_result_size=\"16g\",\n",
    "    executor_memory=\"16g\",\n",
    "    executor_cores=5,\n",
    "    num_executors=5,\n",
    "    app_name=\"lqa-jupyter\",\n",
    "    datastore_version=\"0.1.23\",\n",
    "    iceberg_runtime_version=\"0.11.0\",\n",
    "    iceberg_version=\"1.0.24\",\n",
    "    write_to_dev=True,\n",
    "):\n",
    "    from pyspark import SparkConf, SparkContext\n",
    "    from pyspark.sql import SQLContext, SparkSession\n",
    "\n",
    "    SparkSession.builder.config(\n",
    "        \"spark.jars\",\n",
    "        \"http://artprod.dev.bloomberg.com/artifactory/scala-repos/com/bloomberg/raap/datastore-python_2.11/{0}-RELEASE/datastore-python_2.11-{0}-RELEASE-assembly.jar,http://artifactory.inf.bloomberg.com/artifactory/root-repos/org/apache/iceberg/iceberg-spark-runtime/{1}/iceberg-spark-runtime-{1}.jar,http://artifactory.inf.bloomberg.com/artifactory/root-repos/com/bloomberg/lacus/iceberg/{2}/iceberg-{2}.jar\".format(\n",
    "            datastore_version, iceberg_runtime_version, iceberg_version\n",
    "        ),\n",
    "    )\n",
    "    SparkSession.builder.config(\n",
    "        \"spark.driver.extraJavaOptions\",\n",
    "        \"-Ddatastore.location=/groups/lqa/datastore -Denv.id=dev -Djava.net.preferIPv4Stack=true -DHADOOP_USER_NAME=lqa -Dhive.metastore.uris=thrift://es-presto-meta-{env}.bdns.bloomberg.com:9083 -Dlacus.iceberg.useWarehouseDirectory=true\".format(\n",
    "            env=env\n",
    "        ),\n",
    "    )\n",
    "    SparkSession.builder.config(\n",
    "        \"spark.executor.extraJavaOptions\",\n",
    "        \"-Ddatastore.location=/groups/lqa/datastore -Denv.id=dev -DHADOOP_USER_NAME=lqa -DHADOOP_CONF_DIR=/job/.local/lqa_hadoop_conf\",\n",
    "    )\n",
    "    SparkSession.builder.config(\"spark.driver.memory\", driver_memory)\n",
    "    SparkSession.builder.config(\"spark.executor.memory\", executor_memory)\n",
    "    SparkSession.builder.config(\"spark.executor.cores\", str(executor_cores))\n",
    "    SparkSession.builder.config(\"spark.executor.instances\", str(num_executors))\n",
    "    SparkSession.builder.config(\"spark.driver.maxResultSize\", str(driver_max_result_size))\n",
    "    SparkSession.builder.config(\"spark.driver.cores\", str(driver_cores))\n",
    "    SparkSession.builder.config(\"spark.app.name\", app_name)\n",
    "    SparkSession.builder.config(\n",
    "        \"spark.hadoop.fs.s3a.endpoint\", \"http://s3.prod.obdc.bcs.bloomberg.com\"\n",
    "    )\n",
    "\n",
    "    # To write to dev\n",
    "    if write_to_dev:\n",
    "        SparkSession.builder.config(\n",
    "            \"spark.hadoop.fs.s3a.bucket.public-iceberg-dev.endpoint\", \"http://s3.dev.obdc.bcs.bloomberg.com\"\n",
    "        )\n",
    "        SparkSession.builder.config(\n",
    "            \"spark.sql.warehouse.dir\", \"s3a://public-iceberg-dev/\"\n",
    "        )\n",
    "\n",
    "    sess = SparkSession.builder.enableHiveSupport().getOrCreate()\n",
    "    return sess"
   ]
  },
  {
   "cell_type": "code",
   "execution_count": 45,
   "metadata": {},
   "outputs": [
    {
     "data": {
      "text/html": [
       "\n",
       "            <div>\n",
       "                <p><b>SparkSession - hive</b></p>\n",
       "                \n",
       "                <div>\n",
       "                    <p><b>SparkContext</b></p>\n",
       "                    <p><a href=\"/sprk/4040/jobs/\">Spark UI</a></p>\n",
       "                    <dl>\n",
       "                      <dt>Version</dt>\n",
       "                        <dd><code>v2.4.4</code></dd>\n",
       "                      <dt>AppName</dt>\n",
       "                        <dd><code>lqa-jupyter</code></dd>\n",
       "                    </dl>\n",
       "                    <br>\n",
       "                    <b>Executor Status</b>\n",
       "                    <dl>\n",
       "                      <dt>Running</dt>\n",
       "                        <dd><code>5</code></dd>\n",
       "                      <dt>Pending</dt>\n",
       "                        <dd><code>0</code></dd>\n",
       "                      <dt>Failed</dt>\n",
       "                        <dd><code>0</code></dd>\n",
       "                    </dl>\n",
       "                </div>\n",
       "                \n",
       "            </div>\n",
       "        "
      ],
      "text/plain": [
       "<pyspark.sql.session.SparkSession at 0x7fc3f012d710>"
      ]
     },
     "execution_count": 45,
     "metadata": {},
     "output_type": "execute_result"
    }
   ],
   "source": [
    "spark = setup_dsp_pyspark()\n",
    "spark"
   ]
  },
  {
   "cell_type": "code",
   "execution_count": 46,
   "metadata": {
    "jupyter": {
     "source_hidden": true
    }
   },
   "outputs": [],
   "source": [
    "#spark.stop()"
   ]
  },
  {
   "cell_type": "markdown",
   "metadata": {},
   "source": [
    "##### User inputs"
   ]
  },
  {
   "cell_type": "code",
   "execution_count": 47,
   "metadata": {
    "tags": []
   },
   "outputs": [],
   "source": [
    "company = 101534  # Select a companies id_bb_compamny from list above\n",
    "item = \"bs_tot_cap\"  # Select item from cofiSlim list\n",
    "period = \"%A%\"  # Select period (A for Annual, Q for namr interims & S for elsewehre interims)"
   ]
  },
  {
   "cell_type": "code",
   "execution_count": 73,
   "metadata": {
    "jupyter": {
     "source_hidden": true
    }
   },
   "outputs": [],
   "source": [
    "# select cofi item from list above\n",
    "cols = [\n",
    "    \n",
    "    \"id_bb_company\",\n",
    "    \"long_comp_name\",\n",
    "    \"eqy_fund_year\",\n",
    "    \"latest_period_end_dt_full_record\",\n",
    "    \"fund_per\",\n",
    "    \"rank_num\",\n",
    "    \"sequence_num\",\n",
    "    \"fundamental_public_date\",\n",
    "    \"dl_snapshot_date_source\",\n",
    "    \"eqy_fund_crncy\",\n",
    "    item\n",
    "]\n",
    "\n",
    "# Only run these if you are pulling all period types\n",
    "#cofiSlim[\"fund_per\"] = pd.Categorical(cofiSlim[\"fund_per\"], [\"Q1\", \"Q2\", \"Q3\", \"Q4\", \"S1\", \"S2\", \"A\"])\n",
    "\n",
    "drops = [\n",
    "    \n",
    "    \"id_bb_company\",\n",
    "    \"long_comp_name\",\n",
    "    \"eqy_fund_year\",\n",
    "    \"fund_per\",\n",
    "    \"eqy_fund_crncy\",\n",
    "    \"latest_period_end_dt_full_record\",\n",
    "    item\n",
    "]\n",
    "\n",
    "pit = [\n",
    "    \n",
    "    \"id_bb_company\",\n",
    "    \"long_comp_name\",\n",
    "    \"eqy_fund_year\",\n",
    "    \"fund_per\",\n",
    "    \"latest_period_end_dt_full_record\",\n",
    "    \"fundamental_public_date\",\n",
    "    \"eqy_fund_crncy\"\n",
    "]\n",
    "\n",
    "latest = [\n",
    "    \n",
    "    \"id_bb_company\",\n",
    "    \"long_comp_name\",\n",
    "    \"eqy_fund_year\",\n",
    "    \"fund_per\",\n",
    "    \"latest_period_end_dt_full_record\",\n",
    "    \"eqy_fund_crncy\",\n",
    "    \n",
    "]\n",
    "\n",
    "# Sample List of companies\n",
    "companies = (\n",
    "    101743, # MSFT US Equity\n",
    "    13561981, # V US Equity\n",
    "    101534, # ULVR LN Equity\n",
    "    111680, # DGE LN Equity\n",
    "    118412, # SAP GY Equity\n",
    "    100232, # BHP AT Equity\n",
    "    115114, #7203 JT Equity (Toyota)\n",
    "    115709, # DBS SP Equity\n",
    "    111100, # ANTO LN Equity\n",
    "    179551, # CNI US Equity\n",
    "    11092218, # FB US Equity\n",
    "    69466781, # COIN US Equity\n",
    "    130891 # 000002 CH Equity (CHINA VANKE CO LTD -A)\n",
    ")\n",
    "filters = [f\"id_bb_company in {companies}\"]\n",
    "\n",
    "# Dates for pull (current & hist)\n",
    "sm_st = \"2020-01-01\"\n",
    "sm_end = \"2021-01-01\"\n",
    "\n",
    "st_dt = \"1980-01-01\"\n",
    "end_dt = \"2021-04-01\"\n",
    "\n",
    "hist_st_dt = \"1980-01-01\"\n",
    "hist_end_dt = \"2019-09-30\"\n",
    "\n",
    "items = [\n",
    "    \"bs_other_intangible_assets\",\n",
    "    \"bs_cash_near_cash_item\",\n",
    "    \"bs_acct_note_rcv\",\n",
    "    \"bs_inventories\",\n",
    "    \"bs_cur_asset_report\",\n",
    "    \"bs_net_fix_asset\",\n",
    "    \"bs_tot_asset\",\n",
    "    \"bs_acct_payable\",\n",
    "    \"bs_st_borrow\",\n",
    "    \"bs_cur_liab\",\n",
    "    \"bs_lt_borrow\",\n",
    "    \"bs_pfd_eqty_and_hybrid_cptl\",\n",
    "    \"minority_noncontrolling_interest\",\n",
    "    \"bs_sh_out\",\n",
    "    \"bs_curr_portion_lt_debt\",\n",
    "    \"bs_tot_liab2\",\n",
    "    \"bs_tot_cap\",\n",
    "    \"total_equity\",\n",
    "    \"tot_common_eqy\",\n",
    "    \"tang_book_val_per_sh\",\n",
    "    \"tot_debt_to_tot_asset\",\n",
    "    \"cur_ratio\",\n",
    "    \"working_capital\",\n",
    "    \"net_debt\",\n",
    "    \"short_and_long_term_debt\",\n",
    "    \"tot_debt_to_tot_eqy\",\n",
    "    \"px_to_book_ratio\",\n",
    "    \"bs_num_of_tsy_sh\",\n",
    "    \"cash_flow_per_sh\",\n",
    "    \"px_to_cash_flow\",\n",
    "    \"ev_to_t12m_ebitda\",\n",
    "    \"earn_yld\",\n",
    "    \"revenue_per_sh\",\n",
    "    \"return_com_eqy\",\n",
    "    \"return_on_inv_capital\",\n",
    "    \"return_on_asset\",\n",
    "    \"pe_ratio\",\n",
    "    \"px_to_sales_ratio\",\n",
    "    \"cf_net_inc\",\n",
    "    \"cf_depr_amort\",\n",
    "    \"cf_cash_from_oper\",\n",
    "    \"cf_cap_expend_prpty_add\",\n",
    "    \"cf_cash_from_inv_act\",\n",
    "    \"cf_dvd_paid\",\n",
    "    \"cf_cash_from_fnc_act\",\n",
    "    \"cf_decr_lt_borrow\",\n",
    "    \"cf_depr_exp\",\n",
    "    \"cf_nt_csh_rcvd_pd_for_acquis_div\",\n",
    "    \"chng_work_cap\",\n",
    "    \"cf_free_cash_flow\",\n",
    "    \"free_cash_flow_yield\",\n",
    "    \"sales_rev_turn\",\n",
    "    \"is_cogs_to_fe_and_pp_and_g\",\n",
    "    \"is_operating_expn\",\n",
    "    \"is_oper_inc\",\n",
    "    \"is_int_expense\",\n",
    "    \"is_inc_tax_exp\",\n",
    "    \"min_noncontrol_interest_credits\",\n",
    "    \"net_income\",\n",
    "    \"is_eps\",\n",
    "    \"is_diluted_eps\",\n",
    "    \"is_earn_bef_xo_items_per_sh\",\n",
    "    \"is_cap_int_exp\",\n",
    "    \"is_basic_eps_cont_ops\",\n",
    "    \"is_dil_eps_cont_ops\",\n",
    "    \"is_dil_eps_bef_xo\",\n",
    "    \"ebit\",\n",
    "    \"ebitda\",\n",
    "    \"eqy_dps\",\n",
    "    \"gross_margin\",\n",
    "    \"interest_coverage_ratio\",\n",
    "    \"net_rev\",\n",
    "    \"prof_margin\",\n",
    "    \"ebitda_to_revenue\",\n",
    "    \"is_avg_num_sh_for_eps\",\n",
    "]"
   ]
  },
  {
   "cell_type": "code",
   "execution_count": 49,
   "metadata": {},
   "outputs": [],
   "source": [
    "cofi_slim = LacusLocation(data_name=\"cofi_slim_20210625\",db_name=\"qrp\",catalog=\"icebergdev\").get(df_type=\"spark\")"
   ]
  },
  {
   "cell_type": "code",
   "execution_count": 50,
   "metadata": {},
   "outputs": [
    {
     "data": {
      "text/plain": [
       "'import os\\nos.environ[\"PRESTO_USER\"] = \"\"\\nos.environ[\"PRESTO_PASSWORD\"] = \"\"'"
      ]
     },
     "execution_count": 50,
     "metadata": {},
     "output_type": "execute_result"
    }
   ],
   "source": [
    "# use this to clear incorrect credential (toolkit) entry, ie reset the credential requirements and try again\n",
    "\n",
    "'''import os\n",
    "os.environ[\"PRESTO_USER\"] = \"\"\n",
    "os.environ[\"PRESTO_PASSWORD\"] = \"\"'''"
   ]
  },
  {
   "cell_type": "markdown",
   "metadata": {},
   "source": [
    "##### Latest"
   ]
  },
  {
   "cell_type": "code",
   "execution_count": 66,
   "metadata": {},
   "outputs": [
    {
     "name": "stdout",
     "output_type": "stream",
     "text": [
      "+-------------+--------------+-------------+--------------------------------+--------+--------+------------+-----------------------+-----------------------+--------------+----------+\n",
      "|id_bb_company|long_comp_name|eqy_fund_year|latest_period_end_dt_full_record|fund_per|rank_num|sequence_num|fundamental_public_date|dl_snapshot_date_source|eqy_fund_crncy|bs_tot_cap|\n",
      "+-------------+--------------+-------------+--------------------------------+--------+--------+------------+-----------------------+-----------------------+--------------+----------+\n",
      "|       101534|  Unilever PLC|         2020|                      2020-12-31|       A|       3|          17|             2021-03-10|             2021-03-11|           EUR|   44902.0|\n",
      "|       101534|  Unilever PLC|         2019|                      2019-12-31|       A|       3|          23|             2020-03-09|             2020-03-10|           EUR|   41761.0|\n",
      "|       101534|  Unilever PLC|         2018|                      2018-12-31|       A|       4|          37|             2019-07-25|             2019-08-03|           EUR|   38855.0|\n",
      "|       101534|  Unilever PLC|         2017|                      2017-12-31|       A|       4|          29|             2020-03-09|             2020-12-22|           EUR|   40615.0|\n",
      "|       101534|  Unilever PLC|         2016|                      2016-12-31|       A|       3|          17|             2017-02-28|             2016-12-31|           EUR|   33390.0|\n",
      "|       101534|  Unilever PLC|         2015|                      2015-12-31|       A|       3|          17|             2016-02-23|             2015-12-31|           EUR|   30874.0|\n",
      "|       101534|  Unilever PLC|         2014|                      2014-12-31|       A|       3|          16|             2015-01-20|             2014-12-31|           EUR|   26635.0|\n",
      "|       101534|  Unilever PLC|         2013|                      2013-12-31|       A|       3|          17|             2014-01-21|             2013-12-31|           EUR|   26017.0|\n",
      "|       101534|  Unilever PLC|         2012|                      2012-12-31|       A|       4|          19|             2014-01-21|             2012-12-31|           EUR|   26044.0|\n",
      "|       101534|  Unilever PLC|         2011|                      2011-12-31|       A|       3|          20|             2012-03-07|             2019-05-11|           EUR|   28515.0|\n",
      "|       101534|  Unilever PLC|         2010|                      2010-12-31|       A|       2|           5|             2011-02-03|             2010-12-31|           EUR|   24612.0|\n",
      "|       101534|  Unilever PLC|         2009|                      2009-12-31|       A|       3|          16|             2010-04-20|             2009-12-31|           EUR|   22413.0|\n",
      "|       101534|  Unilever PLC|         2008|                      2008-12-31|       A|       3|          12|             2009-03-06|             2008-12-31|           EUR|   21760.0|\n",
      "|       101534|  Unilever PLC|         2007|                      2007-12-31|       A|       3|          11|             2008-03-18|             2019-05-14|           EUR|   22714.0|\n",
      "|       101534|  Unilever PLC|         2006|                      2006-12-31|       A|       3|          13|             2007-02-07|             2006-12-31|           EUR|   20460.0|\n",
      "|       101534|  Unilever PLC|         2005|                      2005-12-31|       A|       4|           8|             2007-03-30|             2005-12-31|           EUR|   21381.0|\n",
      "|       101534|  Unilever PLC|         2004|                      2004-12-31|       A|       3|           4|             2005-02-10|             2004-12-31|           EUR|   17944.0|\n",
      "|       101534|  Unilever PLC|         2003|                      2003-12-31|       A|       3|           4|             2004-03-19|             2003-12-31|           EUR|   22260.0|\n",
      "|       101534|  Unilever PLC|         2002|                      2002-12-31|       A|       4|           8|             2004-03-26|             2002-12-31|           EUR|   25191.0|\n",
      "|       101534|  Unilever PLC|         2001|                      2001-12-31|       A|       3|           4|             2002-02-14|             2001-12-31|           EUR|  33171.81|\n",
      "|       101534|  Unilever PLC|         2000|                      2000-12-31|       A|       3|           4|             2001-02-08|             2000-12-31|           EUR|  38584.66|\n",
      "|       101534|  Unilever PLC|         1999|                      1999-12-31|       A|       3|           4|             2000-03-30|             1999-12-31|           EUR|  13116.34|\n",
      "|       101534|  Unilever PLC|         1998|                      1998-12-31|       A|       3|           4|             1999-02-23|             1998-12-31|           EUR|    6890.0|\n",
      "|       101534|  Unilever PLC|         1997|                      1997-12-31|       A|       3|           4|             1998-02-10|             1997-12-31|           EUR|   10398.0|\n",
      "|       101534|  Unilever PLC|         1996|                      1996-12-31|       A|       3|           3|             1997-02-11|             1996-12-31|           EUR|    8905.0|\n",
      "|       101534|  Unilever PLC|         1995|                      1995-12-31|       A|       3|           4|             1996-02-20|             1995-12-31|           EUR|    9359.0|\n",
      "|       101534|  Unilever PLC|         1994|                      1994-12-31|       A|       4|           8|             1996-02-20|             1994-12-31|           EUR|    8746.0|\n",
      "|       101534|  Unilever PLC|         1993|                      1993-12-31|       A|       3|           3|             1994-02-22|             1993-12-31|           EUR|    7752.0|\n",
      "|       101534|  Unilever PLC|         1992|                      1992-12-31|       A|       3|           3|             1993-02-23|             1992-12-31|           EUR|    7739.0|\n",
      "|       101534|  Unilever PLC|         1991|                      1991-12-31|       A|       3|           3|             1992-03-23|             1991-12-31|           EUR|    6399.0|\n",
      "|       101534|  Unilever PLC|         1990|                      1990-12-31|       A|       3|           3|             1991-03-22|             1990-12-31|           EUR|    6045.0|\n",
      "|       101534|  Unilever PLC|         1989|                      1989-12-31|       A|       3|           4|             1990-03-19|             1989-12-31|           EUR|    6008.0|\n",
      "|       101534|  Unilever PLC|         1988|                      1988-12-31|       A|       3|           4|             1989-03-20|             1988-12-31|           EUR|    5521.0|\n",
      "+-------------+--------------+-------------+--------------------------------+--------+--------+------------+-----------------------+-----------------------+--------------+----------+\n",
      "\n"
     ]
    }
   ],
   "source": [
    "cofi_slim.select(*cols) \\\n",
    "    .filter(cofi_slim[\"id_bb_company\"] == company) \\\n",
    "    .filter(cofi_slim.fund_per.like(period)) \\\n",
    "    .dropna(subset=[item]) \\\n",
    "    .dropDuplicates(drops) \\\n",
    "    .orderBy(\"eqy_fund_year\", \"fund_per\", \"rank_num\", \"sequence_num\", ascending=False) \\\n",
    "    .dropDuplicates(latest) \\\n",
    "    .orderBy(\"eqy_fund_year\", ascending=False) \\\n",
    "    .show(200)"
   ]
  },
  {
   "cell_type": "markdown",
   "metadata": {},
   "source": [
    "##### Point in time"
   ]
  },
  {
   "cell_type": "code",
   "execution_count": 74,
   "metadata": {},
   "outputs": [
    {
     "name": "stdout",
     "output_type": "stream",
     "text": [
      "+-------------+--------------+-------------+--------------------------------+--------+--------+------------+-----------------------+-----------------------+--------------+----------+\n",
      "|id_bb_company|long_comp_name|eqy_fund_year|latest_period_end_dt_full_record|fund_per|rank_num|sequence_num|fundamental_public_date|dl_snapshot_date_source|eqy_fund_crncy|bs_tot_cap|\n",
      "+-------------+--------------+-------------+--------------------------------+--------+--------+------------+-----------------------+-----------------------+--------------+----------+\n",
      "|       101534|  Unilever PLC|         2020|                      2020-12-31|       A|       3|          17|             2021-03-10|             2021-03-11|           EUR|   44902.0|\n",
      "|       101534|  Unilever PLC|         2020|                      2020-12-31|       A|       2|           3|             2021-02-04|             2021-02-04|           EUR|   44960.0|\n",
      "|       101534|  Unilever PLC|         2019|                      2019-12-31|       A|       3|          23|             2020-03-09|             2020-03-10|           EUR|   41761.0|\n",
      "|       101534|  Unilever PLC|         2019|                      2019-12-31|       A|       2|           4|             2020-01-30|             2020-01-30|           EUR|   42143.0|\n",
      "|       101534|  Unilever PLC|         2018|                      2018-12-31|       A|       4|          38|             2020-03-09|             2020-03-10|           EUR|   38711.0|\n",
      "|       101534|  Unilever PLC|         2018|                      2018-12-31|       A|       4|          37|             2019-07-25|             2019-08-03|           EUR|   38855.0|\n",
      "|       101534|  Unilever PLC|         2018|                      2018-12-31|       A|       3|          24|             2019-03-11|             2018-12-31|           EUR|   37049.0|\n",
      "|       101534|  Unilever PLC|         2018|                      2018-12-31|       A|       2|           4|             2019-01-31|             2018-12-31|           EUR|   37177.0|\n",
      "|       101534|  Unilever PLC|         2017|                      2017-12-31|       A|       4|          29|             2020-03-09|             2020-12-22|           EUR|   40615.0|\n",
      "|       101534|  Unilever PLC|         2017|                      2017-12-31|       A|       3|          18|             2018-02-28|             2017-12-31|           EUR|   38670.0|\n",
      "|       101534|  Unilever PLC|         2017|                      2017-12-31|       A|       2|           5|             2018-02-01|             2017-12-31|           EUR|   38817.0|\n",
      "|       101534|  Unilever PLC|         2016|                      2016-12-31|       A|       3|          17|             2017-02-28|             2016-12-31|           EUR|   33390.0|\n",
      "|       101534|  Unilever PLC|         2016|                      2016-12-31|       A|       2|           5|             2017-01-26|             2016-12-31|           EUR|   33575.0|\n",
      "|       101534|  Unilever PLC|         2015|                      2015-12-31|       A|       3|          17|             2016-02-23|             2015-12-31|           EUR|   30874.0|\n",
      "|       101534|  Unilever PLC|         2015|                      2015-12-31|       A|       2|           5|             2016-01-19|             2015-12-31|           EUR|   30725.0|\n",
      "|       101534|  Unilever PLC|         2014|                      2014-12-31|       A|       3|          16|             2015-01-20|             2014-12-31|           EUR|   26635.0|\n",
      "|       101534|  Unilever PLC|         2013|                      2013-12-31|       A|       3|          17|             2014-01-21|             2013-12-31|           EUR|   26017.0|\n",
      "|       101534|  Unilever PLC|         2012|                      2012-12-31|       A|       4|          19|             2014-01-21|             2012-12-31|           EUR|   26044.0|\n",
      "|       101534|  Unilever PLC|         2012|                      2012-12-31|       A|       3|          15|             2013-01-22|             2012-12-31|           EUR|   25811.0|\n",
      "|       101534|  Unilever PLC|         2011|                      2011-12-31|       A|       3|          20|             2012-03-07|             2019-05-11|           EUR|   28515.0|\n",
      "|       101534|  Unilever PLC|         2011|                      2011-12-31|       A|       2|           7|             2012-02-02|             2019-06-01|           EUR|   28639.0|\n",
      "|       101534|  Unilever PLC|         2010|                      2010-12-31|       A|       3|          14|             2011-04-01|             2010-12-31|           EUR|   24309.0|\n",
      "|       101534|  Unilever PLC|         2010|                      2010-12-31|       A|       2|           5|             2011-02-03|             2010-12-31|           EUR|   24612.0|\n",
      "|       101534|  Unilever PLC|         2009|                      2009-12-31|       A|       3|          16|             2010-04-20|             2009-12-31|           EUR|   22413.0|\n",
      "|       101534|  Unilever PLC|         2009|                      2009-12-31|       A|       2|           4|             2010-02-04|             2009-12-31|           EUR|   22507.0|\n",
      "|       101534|  Unilever PLC|         2008|                      2008-12-31|       A|       3|          12|             2009-03-06|             2008-12-31|           EUR|   21760.0|\n",
      "|       101534|  Unilever PLC|         2008|                      2008-12-31|       A|       2|           6|             2009-02-05|             2019-06-01|           EUR|   21577.0|\n",
      "|       101534|  Unilever PLC|         2007|                      2007-12-31|       A|       3|          11|             2008-03-18|             2019-05-14|           EUR|   22714.0|\n",
      "|       101534|  Unilever PLC|         2007|                      2007-12-31|       A|       2|           5|             2008-02-07|             2019-06-01|           EUR|   22665.0|\n",
      "|       101534|  Unilever PLC|         2006|                      2006-12-31|       A|       3|          13|             2007-02-07|             2006-12-31|           EUR|   20460.0|\n",
      "|       101534|  Unilever PLC|         2005|                      2005-12-31|       A|       4|           8|             2007-03-30|             2005-12-31|           EUR|   21381.0|\n",
      "|       101534|  Unilever PLC|         2005|                      2005-12-31|       A|       3|           3|             2006-03-27|             2005-12-31|           EUR|   21228.0|\n",
      "|       101534|  Unilever PLC|         2004|                      2004-12-31|       A|       3|           4|             2005-02-10|             2004-12-31|           EUR|   17944.0|\n",
      "|       101534|  Unilever PLC|         2003|                      2003-12-31|       A|       3|           4|             2004-03-19|             2003-12-31|           EUR|   22260.0|\n",
      "|       101534|  Unilever PLC|         2002|                      2002-12-31|       A|       4|           8|             2004-03-26|             2002-12-31|           EUR|   25191.0|\n",
      "|       101534|  Unilever PLC|         2002|                      2002-12-31|       A|       3|           4|             2003-03-19|             2002-12-31|           EUR|   26939.0|\n",
      "|       101534|  Unilever PLC|         2001|                      2001-12-31|       A|       3|           4|             2002-02-14|             2001-12-31|           EUR|  33171.81|\n",
      "|       101534|  Unilever PLC|         2000|                      2000-12-31|       A|       3|           4|             2001-02-08|             2000-12-31|           EUR|  38584.66|\n",
      "|       101534|  Unilever PLC|         1999|                      1999-12-31|       A|       3|           4|             2000-03-30|             1999-12-31|           EUR|  13116.34|\n",
      "|       101534|  Unilever PLC|         1998|                      1998-12-31|       A|       3|           4|             1999-02-23|             1998-12-31|           EUR|    6890.0|\n",
      "|       101534|  Unilever PLC|         1997|                      1997-12-31|       A|       3|           4|             1998-02-10|             1997-12-31|           EUR|   10398.0|\n",
      "|       101534|  Unilever PLC|         1996|                      1996-12-31|       A|       3|           3|             1997-02-11|             1996-12-31|           EUR|    8905.0|\n",
      "|       101534|  Unilever PLC|         1995|                      1995-12-31|       A|       3|           4|             1996-02-20|             1995-12-31|           EUR|    9359.0|\n",
      "|       101534|  Unilever PLC|         1994|                      1994-12-31|       A|       4|           8|             1996-02-20|             1994-12-31|           EUR|    8746.0|\n",
      "|       101534|  Unilever PLC|         1994|                      1994-12-31|       A|       3|           4|             1995-02-21|             1994-12-31|           EUR|    8757.0|\n",
      "|       101534|  Unilever PLC|         1993|                      1993-12-31|       A|       3|           3|             1994-02-22|             1993-12-31|           EUR|    7752.0|\n",
      "|       101534|  Unilever PLC|         1992|                      1992-12-31|       A|       3|           3|             1993-02-23|             1992-12-31|           EUR|    7739.0|\n",
      "|       101534|  Unilever PLC|         1991|                      1991-12-31|       A|       3|           3|             1992-03-23|             1991-12-31|           EUR|    6399.0|\n",
      "|       101534|  Unilever PLC|         1990|                      1990-12-31|       A|       3|           3|             1991-03-22|             1990-12-31|           EUR|    6045.0|\n",
      "|       101534|  Unilever PLC|         1989|                      1989-12-31|       A|       3|           4|             1990-03-19|             1989-12-31|           EUR|    6008.0|\n",
      "|       101534|  Unilever PLC|         1988|                      1988-12-31|       A|       3|           4|             1989-03-20|             1988-12-31|           EUR|    5521.0|\n",
      "+-------------+--------------+-------------+--------------------------------+--------+--------+------------+-----------------------+-----------------------+--------------+----------+\n",
      "\n"
     ]
    }
   ],
   "source": [
    "cofi_slim.select(*cols) \\\n",
    "    .filter(cofi_slim[\"id_bb_company\"] == company) \\\n",
    "    .filter(cofi_slim.fund_per.like(period)) \\\n",
    "    .dropna(subset=[item]) \\\n",
    "    .dropDuplicates(drops) \\\n",
    "    .orderBy(\"eqy_fund_year\", \"fund_per\", \"rank_num\", \"sequence_num\", ascending=False) \\\n",
    "    .dropDuplicates(pit) \\\n",
    "    .orderBy(\"eqy_fund_year\", \"fund_per\", \"rank_num\", \"sequence_num\", ascending=False) \\\n",
    "    .show(200)"
   ]
  }
 ],
 "metadata": {
  "kernelspec": {
   "display_name": "Python 3 (ipykernel)",
   "language": "python",
   "name": "python3"
  },
  "language_info": {
   "codemirror_mode": {
    "name": "ipython",
    "version": 3
   },
   "file_extension": ".py",
   "mimetype": "text/x-python",
   "name": "python",
   "nbconvert_exporter": "python",
   "pygments_lexer": "ipython3",
   "version": "3.10.2"
  }
 },
 "nbformat": 4,
 "nbformat_minor": 4
}
