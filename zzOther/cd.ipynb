{
 "cells": [
  {
   "cell_type": "code",
   "execution_count": null,
   "metadata": {},
   "outputs": [],
   "source": [
    "/*\n",
    "Enter your query here.\n",
    "Please append a semicolon \";\" at the end of the query\n",
    "*/\n",
    "\n",
    "SELECT DISTINCT P.NAME PROFESSOR_NAME, C.NAME COURSE_NAME\n",
    "FROM PROFESSOR P\n",
    "INNER JOIN SCHEDULE S ON P.ID=S.PROFESSOR_ID\n",
    "INNER JOIN COURSE C ON C.ID=S.COURSE_ID;"
   ]
  },
  {
   "cell_type": "code",
   "execution_count": 1,
   "metadata": {},
   "outputs": [
    {
     "ename": "SyntaxError",
     "evalue": "invalid syntax (1754150633.py, line 1)",
     "output_type": "error",
     "traceback": [
      "\u001b[0;36m  Input \u001b[0;32mIn [1]\u001b[0;36m\u001b[0m\n\u001b[0;31m    select p.product_id,\u001b[0m\n\u001b[0m           ^\u001b[0m\n\u001b[0;31mSyntaxError\u001b[0m\u001b[0;31m:\u001b[0m invalid syntax\n"
     ]
    }
   ],
   "source": [
    "select p.product_id,\n",
    "round(cast(sum(p.price*us.units) as decimal)/sum(us.units),2)\n",
    "from prices as p, UnitsSold as us\n",
    "where us.purchase_date between p.start_date and p.end_date\n",
    "and p.product_id = us.product_id\n",
    "group by p.product_id\n"
   ]
  },
  {
   "cell_type": "code",
   "execution_count": 2,
   "metadata": {},
   "outputs": [
    {
     "name": "stdout",
     "output_type": "stream",
     "text": [
      "  state_code  English  Math  Physics  Chemistry\n",
      "0      NY123        1     1        1          0\n"
     ]
    },
    {
     "name": "stderr",
     "output_type": "stream",
     "text": [
      "/var/folders/87/mngdtl395015kkpjbht_xrfw0000gn/T/ipykernel_10434/2952657700.py:13: FutureWarning: The default value of regex will change from True to False in a future version.\n",
      "  df['state_code'] = df['state_code'].str.replace(r'[^a-zA-Z0-9]', '')\n"
     ]
    }
   ],
   "source": [
    "import pandas as pd\n",
    "\n",
    "# Sample dataframe creation (Replace this with your actual dataframe)\n",
    "data = {'school_id': [1, 2, 3, 4],\n",
    "        'state_code': ['NY123', 'CA456', 'TX789', 'NY123'],\n",
    "        'subjects': ['math english physics', 'chemistry english', 'math physics', 'math chemistry']}\n",
    "df = pd.DataFrame(data)\n",
    "\n",
    "# Drop schools offering fewer than 3 subjects\n",
    "df = df[df['subjects'].apply(lambda x: len(x.split())) >= 3]\n",
    "\n",
    "# Clean the 'state_code' column to contain only alpha-numeric characters\n",
    "df['state_code'] = df['state_code'].str.replace(r'[^a-zA-Z0-9]', '')\n",
    "\n",
    "# Split subjects and count occurrences for each state\n",
    "subjects_list = ['English', 'Math', 'Physics', 'Chemistry']\n",
    "for subject in subjects_list:\n",
    "    df[subject] = df['subjects'].apply(lambda x: x.split().count(subject.lower()))\n",
    "\n",
    "# Group by state and sum the counts for each subject\n",
    "result_df = df.groupby('state_code').agg({'English': 'sum', 'Math': 'sum', 'Physics': 'sum', 'Chemistry': 'sum'}).reset_index()\n",
    "\n",
    "print(result_df)"
   ]
  },
  {
   "cell_type": "code",
   "execution_count": 6,
   "metadata": {},
   "outputs": [
    {
     "name": "stdout",
     "output_type": "stream",
     "text": [
      "  state_code  English  Math  Physics  Chemistry\n",
      "0     NY1236        1     1        1          0\n"
     ]
    },
    {
     "name": "stderr",
     "output_type": "stream",
     "text": [
      "/var/folders/87/mngdtl395015kkpjbht_xrfw0000gn/T/ipykernel_10434/64748028.py:8: FutureWarning: The default value of regex will change from True to False in a future version.\n",
      "  df['state_code'] = df['state_code'].str.replace(r'[^a-zA-Z0-9]', '')\n",
      "/var/folders/87/mngdtl395015kkpjbht_xrfw0000gn/T/ipykernel_10434/64748028.py:8: SettingWithCopyWarning: \n",
      "A value is trying to be set on a copy of a slice from a DataFrame.\n",
      "Try using .loc[row_indexer,col_indexer] = value instead\n",
      "\n",
      "See the caveats in the documentation: https://pandas.pydata.org/pandas-docs/stable/user_guide/indexing.html#returning-a-view-versus-a-copy\n",
      "  df['state_code'] = df['state_code'].str.replace(r'[^a-zA-Z0-9]', '')\n",
      "/var/folders/87/mngdtl395015kkpjbht_xrfw0000gn/T/ipykernel_10434/64748028.py:13: SettingWithCopyWarning: \n",
      "A value is trying to be set on a copy of a slice from a DataFrame.\n",
      "Try using .loc[row_indexer,col_indexer] = value instead\n",
      "\n",
      "See the caveats in the documentation: https://pandas.pydata.org/pandas-docs/stable/user_guide/indexing.html#returning-a-view-versus-a-copy\n",
      "  df[subject] = df['subjects'].apply(lambda x: x.split().count(subject.lower()))\n",
      "/var/folders/87/mngdtl395015kkpjbht_xrfw0000gn/T/ipykernel_10434/64748028.py:13: SettingWithCopyWarning: \n",
      "A value is trying to be set on a copy of a slice from a DataFrame.\n",
      "Try using .loc[row_indexer,col_indexer] = value instead\n",
      "\n",
      "See the caveats in the documentation: https://pandas.pydata.org/pandas-docs/stable/user_guide/indexing.html#returning-a-view-versus-a-copy\n",
      "  df[subject] = df['subjects'].apply(lambda x: x.split().count(subject.lower()))\n",
      "/var/folders/87/mngdtl395015kkpjbht_xrfw0000gn/T/ipykernel_10434/64748028.py:13: SettingWithCopyWarning: \n",
      "A value is trying to be set on a copy of a slice from a DataFrame.\n",
      "Try using .loc[row_indexer,col_indexer] = value instead\n",
      "\n",
      "See the caveats in the documentation: https://pandas.pydata.org/pandas-docs/stable/user_guide/indexing.html#returning-a-view-versus-a-copy\n",
      "  df[subject] = df['subjects'].apply(lambda x: x.split().count(subject.lower()))\n",
      "/var/folders/87/mngdtl395015kkpjbht_xrfw0000gn/T/ipykernel_10434/64748028.py:13: SettingWithCopyWarning: \n",
      "A value is trying to be set on a copy of a slice from a DataFrame.\n",
      "Try using .loc[row_indexer,col_indexer] = value instead\n",
      "\n",
      "See the caveats in the documentation: https://pandas.pydata.org/pandas-docs/stable/user_guide/indexing.html#returning-a-view-versus-a-copy\n",
      "  df[subject] = df['subjects'].apply(lambda x: x.split().count(subject.lower()))\n"
     ]
    }
   ],
   "source": [
    "import pandas as pd\n",
    "\n",
    "def schoolCount(input_df):\n",
    "    # Drop schools offering <3 subjects\n",
    "    df = input[input['subjects'].apply(lambda x: len(x.split())) >= 3]\n",
    "\n",
    "    # Clean the 'state_code' to coantain only alpha-numeric chars\n",
    "    df['state_code'] = df['state_code'].str.replace(r'[^a-zA-Z0-9]', '')\n",
    "\n",
    "    # Split subjects and count occurrences for each state\n",
    "    subjects_list = ['english', 'math', 'physics', 'chemistry']\n",
    "    for subject in subjects_list:\n",
    "        df[subject] = df['subjects'].apply(lambda x: x.split().count(subject.lower()))\n",
    "\n",
    "    # Group by state and sum the counts for each subject\n",
    "    result_df = df.groupby('state_code').agg({'english': 'sum', 'math': 'sum', 'physics': 'sum', 'chemistry': 'sum'}).reset_index()\n",
    "    \n",
    "    return result_df\n",
    "\n",
    "# Sample dataframe creation (Replace this with your actual dataframe)\n",
    "data = {'school_id': [1, 2, 3, 4],\n",
    "        'state_code': ['NY1@@236££', '>)\"CA45@@6', 'TX789', 'NY123'],\n",
    "        'subjects': ['math english physics', 'chemistry english', 'math physics', 'math chemistry']}\n",
    "df = pd.DataFrame(data)\n",
    "\n",
    "result = process_school_data(df)\n",
    "print(result)"
   ]
  },
  {
   "cell_type": "code",
   "execution_count": null,
   "metadata": {},
   "outputs": [],
   "source": []
  }
 ],
 "metadata": {
  "kernelspec": {
   "display_name": "Python 3",
   "language": "python",
   "name": "python3"
  },
  "language_info": {
   "codemirror_mode": {
    "name": "ipython",
    "version": 3
   },
   "file_extension": ".py",
   "mimetype": "text/x-python",
   "name": "python",
   "nbconvert_exporter": "python",
   "pygments_lexer": "ipython3",
   "version": "3.10.2"
  }
 },
 "nbformat": 4,
 "nbformat_minor": 2
}
