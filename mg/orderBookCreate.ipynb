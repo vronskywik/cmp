{
 "cells": [
  {
   "cell_type": "code",
   "execution_count": 10,
   "metadata": {},
   "outputs": [],
   "source": [
    "import pandas as pd"
   ]
  },
  {
   "cell_type": "markdown",
   "metadata": {},
   "source": [
    "Create a function that takes BUY & SELL orders and represents them in a typical order book showing top 3 from each side, the BID & OFFER, close to matching. Make sure to aggregate the quantities at price points if neccessary."
   ]
  },
  {
   "cell_type": "code",
   "execution_count": 11,
   "metadata": {},
   "outputs": [],
   "source": [
    "# Pandas DF version\n",
    "\n",
    "buys = pd.DataFrame(columns = ['bid_quantity', 'bid_price'])\n",
    "sells = pd.DataFrame(columns = ['offer_quantity', 'offer_price'])\n",
    "\n",
    "def submit_order(side, quantity, price):\n",
    "\n",
    "    global buys, sells\n",
    "    \n",
    "    if side == \"BUY\":\n",
    "        buys = buys.append(pd.Series({\"bid_quantity\": quantity, \"bid_price\": price}), ignore_index=True)\n",
    "    elif side == \"SELL\":\n",
    "        sells = sells.append(pd.Series({\"offer_quantity\": quantity, \"offer_price\": price}), ignore_index=True)\n",
    "    else: raise Exception\n",
    "\n",
    "\n",
    "\n",
    "def show_orders():\n",
    "\n",
    "    global buys, sells\n",
    "    \n",
    "    buys = buys.groupby([\"bid_price\"]).sum()\n",
    "    sells = sells.groupby([\"offer_price\"]).sum()\n",
    "\n",
    "    buys = buys.sort_values(\"bid_price\", ascending=False)\n",
    "    sells = sells.sort_values(\"offer_price\", ascending=True)\n",
    "\n",
    "    #buys['side'] = \"BID\"\n",
    "    #sells['side'] = \"OFFER\"\n",
    "\n",
    "    buys = buys.head(3)\n",
    "    sells = sells.tail(3)\n",
    "\n",
    "    return buys, sells\n"
   ]
  },
  {
   "cell_type": "code",
   "execution_count": 12,
   "metadata": {},
   "outputs": [
    {
     "name": "stderr",
     "output_type": "stream",
     "text": [
      "/var/folders/87/mngdtl395015kkpjbht_xrfw0000gn/T/ipykernel_9179/2749209003.py:11: FutureWarning: The frame.append method is deprecated and will be removed from pandas in a future version. Use pandas.concat instead.\n",
      "  buys = buys.append(pd.Series({\"bid_quantity\": quantity, \"bid_price\": price}), ignore_index=True)\n",
      "/var/folders/87/mngdtl395015kkpjbht_xrfw0000gn/T/ipykernel_9179/2749209003.py:11: FutureWarning: The frame.append method is deprecated and will be removed from pandas in a future version. Use pandas.concat instead.\n",
      "  buys = buys.append(pd.Series({\"bid_quantity\": quantity, \"bid_price\": price}), ignore_index=True)\n",
      "/var/folders/87/mngdtl395015kkpjbht_xrfw0000gn/T/ipykernel_9179/2749209003.py:11: FutureWarning: The frame.append method is deprecated and will be removed from pandas in a future version. Use pandas.concat instead.\n",
      "  buys = buys.append(pd.Series({\"bid_quantity\": quantity, \"bid_price\": price}), ignore_index=True)\n",
      "/var/folders/87/mngdtl395015kkpjbht_xrfw0000gn/T/ipykernel_9179/2749209003.py:11: FutureWarning: The frame.append method is deprecated and will be removed from pandas in a future version. Use pandas.concat instead.\n",
      "  buys = buys.append(pd.Series({\"bid_quantity\": quantity, \"bid_price\": price}), ignore_index=True)\n",
      "/var/folders/87/mngdtl395015kkpjbht_xrfw0000gn/T/ipykernel_9179/2749209003.py:11: FutureWarning: The frame.append method is deprecated and will be removed from pandas in a future version. Use pandas.concat instead.\n",
      "  buys = buys.append(pd.Series({\"bid_quantity\": quantity, \"bid_price\": price}), ignore_index=True)\n",
      "/var/folders/87/mngdtl395015kkpjbht_xrfw0000gn/T/ipykernel_9179/2749209003.py:13: FutureWarning: The frame.append method is deprecated and will be removed from pandas in a future version. Use pandas.concat instead.\n",
      "  sells = sells.append(pd.Series({\"offer_quantity\": quantity, \"offer_price\": price}), ignore_index=True)\n",
      "/var/folders/87/mngdtl395015kkpjbht_xrfw0000gn/T/ipykernel_9179/2749209003.py:13: FutureWarning: The frame.append method is deprecated and will be removed from pandas in a future version. Use pandas.concat instead.\n",
      "  sells = sells.append(pd.Series({\"offer_quantity\": quantity, \"offer_price\": price}), ignore_index=True)\n",
      "/var/folders/87/mngdtl395015kkpjbht_xrfw0000gn/T/ipykernel_9179/2749209003.py:13: FutureWarning: The frame.append method is deprecated and will be removed from pandas in a future version. Use pandas.concat instead.\n",
      "  sells = sells.append(pd.Series({\"offer_quantity\": quantity, \"offer_price\": price}), ignore_index=True)\n",
      "/var/folders/87/mngdtl395015kkpjbht_xrfw0000gn/T/ipykernel_9179/2749209003.py:13: FutureWarning: The frame.append method is deprecated and will be removed from pandas in a future version. Use pandas.concat instead.\n",
      "  sells = sells.append(pd.Series({\"offer_quantity\": quantity, \"offer_price\": price}), ignore_index=True)\n",
      "/var/folders/87/mngdtl395015kkpjbht_xrfw0000gn/T/ipykernel_9179/2749209003.py:13: FutureWarning: The frame.append method is deprecated and will be removed from pandas in a future version. Use pandas.concat instead.\n",
      "  sells = sells.append(pd.Series({\"offer_quantity\": quantity, \"offer_price\": price}), ignore_index=True)\n",
      "/var/folders/87/mngdtl395015kkpjbht_xrfw0000gn/T/ipykernel_9179/2749209003.py:13: FutureWarning: The frame.append method is deprecated and will be removed from pandas in a future version. Use pandas.concat instead.\n",
      "  sells = sells.append(pd.Series({\"offer_quantity\": quantity, \"offer_price\": price}), ignore_index=True)\n"
     ]
    }
   ],
   "source": [
    "submit_order(\"BUY\", 100, 90)\n",
    "submit_order(\"BUY\", 1000, 95)\n",
    "submit_order(\"BUY\", 200, 85)\n",
    "submit_order(\"BUY\", 900, 100)\n",
    "submit_order(\"BUY\", 1100, 70)\n",
    "\n",
    "submit_order(\"SELL\", 50, 87)\n",
    "submit_order(\"SELL\", 45, 20)\n",
    "submit_order(\"SELL\", 20, 110)\n",
    "submit_order(\"SELL\", 10, 90)\n",
    "submit_order(\"SELL\", 5, 95)\n",
    "submit_order(\"SELL\", 5, 95)"
   ]
  },
  {
   "cell_type": "code",
   "execution_count": 8,
   "metadata": {},
   "outputs": [
    {
     "data": {
      "text/plain": [
       "(           bid_quantity\n",
       " bid_price              \n",
       " 100                 900\n",
       " 95                 1000\n",
       " 90                  100,\n",
       "              offer_quantity\n",
       " offer_price                \n",
       " 90                       10\n",
       " 95                       10\n",
       " 110                      20)"
      ]
     },
     "execution_count": 8,
     "metadata": {},
     "output_type": "execute_result"
    }
   ],
   "source": [
    "show_orders()"
   ]
  },
  {
   "cell_type": "markdown",
   "metadata": {},
   "source": [
    "## from web using native python dictionary"
   ]
  },
  {
   "cell_type": "code",
   "execution_count": 16,
   "metadata": {},
   "outputs": [],
   "source": [
    "def process_orders(orders):\n",
    "\n",
    "    buy_orders = {}\n",
    "    sell_orders = {}\n",
    "\n",
    "    for order in orders:\n",
    "        side, price, quantity = order\n",
    "\n",
    "        if side == 'BUY':\n",
    "            if price in buy_orders:\n",
    "                buy_orders[price] += quantity\n",
    "            else:\n",
    "                buy_orders[price] = quantity\n",
    "        elif side == 'SELL':\n",
    "            if price in sell_orders:\n",
    "                sell_orders[price] += quantity\n",
    "            else:\n",
    "                sell_orders[price] = quantity\n",
    "    \n",
    "    dict(sorted(buy_orders.items(), key=lambda item: item[0], reverse=True))\n",
    "    dict(sorted(sell_orders.items(), key=lambda item: item[0], reverse=False))\n",
    "\n",
    "    return buy_orders, sell_orders"
   ]
  },
  {
   "cell_type": "code",
   "execution_count": 3,
   "metadata": {},
   "outputs": [],
   "source": [
    "\n",
    "# Example usage, send through several indipendant sublists of orders\n",
    "orders = [\n",
    "    ('BUY', 11.60, 50),\n",
    "    ('SELL', 11.60, 50),\n",
    "    ('BUY', 10.60, 200),\n",
    "    ('SELL', 12.00, 150),\n",
    "    ('BUY', 10.60, 300),\n",
    "    ('BUY', 10.50, 100),\n",
    "    ('SELL', 21.75, 50),\n",
    "    ('BUY', 10.50, 200),\n",
    "    ('SELL', 11.70, 150),\n",
    "    ('BUY', 10.60, 300),\n",
    "    ('BUY', 9.50, 100),\n",
    "    ('SELL', 12.60, 50),\n",
    "    ('BUY', 5.50, 200),\n",
    "    ('SELL', 11.60, 150),\n",
    "    ('BUY', 9.60, 300)\n",
    "]\n",
    "\n",
    "orders3 = [\n",
    "    ('BUY', 11.60, 50),\n",
    "    ('SELL', 11.60, 50),\n",
    "    ('BUY', 10.75, 200),\n",
    "    ('SELL', 12.00, 150),\n",
    "    ('BUY', 10.60, 300),\n",
    "    ('BUY', 10.50, 100),\n",
    "    ('SELL', 21.75, 50),\n",
    "    ('BUY', 10.50, 200),\n",
    "    ('SELL', 11.70, 150),\n",
    "    ('BUY', 10.60, 300),\n",
    "    ('BUY', 9.50, 100),\n",
    "    ('SELL', 12.60, 50),\n",
    "    ('BUY', 5.50, 200),\n",
    "    ('SELL', 11.60, 150),\n",
    "    ('BUY', 9.60, 300)\n",
    "]"
   ]
  },
  {
   "cell_type": "code",
   "execution_count": 21,
   "metadata": {},
   "outputs": [],
   "source": [
    "buy_orders, sell_orders = process_orders(orders)"
   ]
  },
  {
   "cell_type": "code",
   "execution_count": 19,
   "metadata": {},
   "outputs": [],
   "source": [
    "buy_orders, sell_orders = process_orders([('BUY',11,5000)])"
   ]
  },
  {
   "cell_type": "code",
   "execution_count": 22,
   "metadata": {},
   "outputs": [
    {
     "name": "stdout",
     "output_type": "stream",
     "text": [
      "<class 'dict'>\n",
      "{11.6: 50, 10.75: 200, 10.6: 600, 10.5: 300, 9.5: 100, 5.5: 200, 9.6: 300}\n",
      "{11.6: 200, 12.0: 150, 21.75: 50, 11.7: 150, 12.6: 50}\n"
     ]
    }
   ],
   "source": [
    "print(type(buy_orders))\n",
    "print(buy_orders)\n",
    "print(sell_orders)"
   ]
  },
  {
   "cell_type": "code",
   "execution_count": 6,
   "metadata": {},
   "outputs": [
    {
     "name": "stdout",
     "output_type": "stream",
     "text": [
      "   Bid_Price  Bid_Quantity\n",
      "0      11.60            50\n",
      "1      10.75           200\n",
      "2      10.60           600\n",
      "   Offer_Price  Offer_Quantity\n",
      "0        11.60             200\n",
      "1        12.00             150\n",
      "2        21.75              50\n"
     ]
    }
   ],
   "source": [
    "import pandas as pd\n",
    "\n",
    "buy_df = pd.DataFrame({'Bid_Price': list(buy_orders.keys()), 'Bid_Quantity': list(buy_orders.values())})\n",
    "sell_df = pd.DataFrame({'Offer_Price': list(sell_orders.keys()), 'Offer_Quantity': list(sell_orders.values())})\n",
    "\n",
    "print(buy_df.head(3))\n",
    "print(sell_df.head(3))"
   ]
  },
  {
   "cell_type": "markdown",
   "metadata": {},
   "source": [
    "## Be able to keep adding orders to a growing dict\n",
    "## Python dict order processing & separate matching engine"
   ]
  },
  {
   "cell_type": "code",
   "execution_count": 1,
   "metadata": {},
   "outputs": [],
   "source": [
    "buy_orders, sell_orders = {}, {}\n",
    "\n",
    "def process_orders(orders, buy_orders=None, sell_orders=None):\n",
    "    if buy_orders is None:\n",
    "        buy_orders = {}\n",
    "    if sell_orders is None:\n",
    "        sell_orders = {}\n",
    "\n",
    "    for order in orders:\n",
    "        side, price, quantity = order\n",
    "\n",
    "        if side.upper() == 'BUY':\n",
    "            if price in buy_orders:\n",
    "                buy_orders[price] += quantity\n",
    "            else:\n",
    "                buy_orders[price] = quantity\n",
    "        elif side.upper() == 'SELL':\n",
    "            if price in sell_orders:\n",
    "                sell_orders[price] += quantity\n",
    "            else:\n",
    "                sell_orders[price] = quantity\n",
    "    \n",
    "    buy_orders = dict(sorted(buy_orders.items(), key=lambda item: item[0], reverse=True))\n",
    "    sell_orders = dict(sorted(sell_orders.items(), key=lambda item: item[0], reverse=False))\n",
    "\n",
    "    return buy_orders, sell_orders"
   ]
  },
  {
   "cell_type": "code",
   "execution_count": 4,
   "metadata": {},
   "outputs": [
    {
     "name": "stdout",
     "output_type": "stream",
     "text": [
      "{11.6: 50, 10.75: 200, 10.6: 600, 10.5: 300, 9.6: 300, 9.5: 100, 5.5: 200}\n",
      "{11.6: 200, 11.7: 150, 12.0: 150, 12.6: 50, 21.75: 50}\n"
     ]
    }
   ],
   "source": [
    "\n",
    "buy_orders, sell_orders = process_orders(orders3, buy_orders, sell_orders)\n",
    "print(buy_orders)\n",
    "print(sell_orders)"
   ]
  },
  {
   "cell_type": "code",
   "execution_count": 6,
   "metadata": {},
   "outputs": [],
   "source": [
    "def match_orders(buy_orders, sell_orders):\n",
    "    \n",
    "    matched_orders = []\n",
    "\n",
    "    buy_prices = sorted(buy_orders.keys(), reverse=True)\n",
    "    sell_prices = sorted(sell_orders.keys())\n",
    "\n",
    "    i, j = 0, 0\n",
    "    while i < len(buy_prices) and j < len(sell_prices):\n",
    "        buy_price, sell_price = buy_prices[i], sell_prices[j]\n",
    "\n",
    "        if buy_price >= sell_price:\n",
    "            # Match orders\n",
    "            matched_quantity = min(buy_orders[buy_price], sell_orders[sell_price])\n",
    "            matched_orders.append((sell_price, matched_quantity))\n",
    "\n",
    "            # Reduce quantities in buy_orders and sell_orders\n",
    "            buy_orders[buy_price] -= matched_quantity\n",
    "            sell_orders[sell_price] -= matched_quantity\n",
    "\n",
    "            # Remove entries with zero quantity\n",
    "            if buy_orders[buy_price] == 0:\n",
    "                del buy_orders[buy_price]\n",
    "            if sell_orders[sell_price] == 0:\n",
    "                del sell_orders[sell_price]\n",
    "\n",
    "            # Move to the next price level\n",
    "            if buy_orders.get(buy_price) == None:\n",
    "                i += 1\n",
    "            if sell_orders.get(sell_price) == None:\n",
    "                j += 1\n",
    "        else:\n",
    "            break\n",
    "\n",
    "    return matched_orders\n",
    "\n",
    "\n",
    "\n"
   ]
  },
  {
   "cell_type": "code",
   "execution_count": 9,
   "metadata": {},
   "outputs": [
    {
     "name": "stdout",
     "output_type": "stream",
     "text": [
      "Matched orders: []\n",
      "Remaining buy orders: {10.75: 200, 10.6: 600, 10.5: 300, 9.6: 300, 9.5: 100, 5.5: 200}\n",
      "Remaining sell orders: {11.6: 150, 11.7: 150, 12.0: 150, 12.6: 50, 21.75: 50}\n"
     ]
    }
   ],
   "source": [
    "matched_orders = match_orders(buy_orders, sell_orders)\n",
    "print(\"Matched orders:\", matched_orders)\n",
    "print(\"Remaining buy orders:\", buy_orders)\n",
    "print(\"Remaining sell orders:\", sell_orders)"
   ]
  },
  {
   "cell_type": "code",
   "execution_count": 8,
   "metadata": {},
   "outputs": [
    {
     "name": "stdout",
     "output_type": "stream",
     "text": [
      "   Bid_Price  Bid_Quantity\n",
      "0      11.60           250\n",
      "1      10.75          1000\n",
      "2      10.60          3000\n",
      "   Offer_Price  Offer_Quantity\n",
      "0         11.6            1000\n",
      "1         11.7             750\n",
      "2         12.0             750\n"
     ]
    }
   ],
   "source": [
    "import pandas as pd\n",
    "\n",
    "buy_df = pd.DataFrame({'Bid_Price': list(buy_orders.keys()), 'Bid_Quantity': list(buy_orders.values())})\n",
    "sell_df = pd.DataFrame({'Offer_Price': list(sell_orders.keys()), 'Offer_Quantity': list(sell_orders.values())})\n",
    "\n",
    "print(buy_df.head(3))\n",
    "print(sell_df.head(3))"
   ]
  },
  {
   "cell_type": "markdown",
   "metadata": {},
   "source": []
  }
 ],
 "metadata": {
  "kernelspec": {
   "display_name": "Python 3",
   "language": "python",
   "name": "python3"
  },
  "language_info": {
   "codemirror_mode": {
    "name": "ipython",
    "version": 3
   },
   "file_extension": ".py",
   "mimetype": "text/x-python",
   "name": "python",
   "nbconvert_exporter": "python",
   "pygments_lexer": "ipython3",
   "version": "3.10.2"
  }
 },
 "nbformat": 4,
 "nbformat_minor": 2
}
