{
 "cells": [
  {
   "cell_type": "markdown",
   "metadata": {
    "vscode": {
     "languageId": "bat"
    }
   },
   "source": [
    "build a python shopping cart total cost calculator with following items\n",
    "\n",
    "apples 1.60  \n",
    "pears 1.80  \n",
    "banannas 0.5  \n",
    "tea 2  \n",
    "coffee 5  \n",
    "milk 1.3  \n",
    "\n",
    "where there is a special offer when buying fruits, buy one fruit and get the second 1/2 price. can only be used in pairs of fruits and the cheapest one is 1/2 price. "
   ]
  },
  {
   "cell_type": "code",
   "execution_count": 13,
   "metadata": {},
   "outputs": [
    {
     "name": "stdout",
     "output_type": "stream",
     "text": [
      "Total Cost: $ 0.0\n",
      "\n",
      "Cost Per Item Group:\n",
      "Apples: $ 0.0\n",
      "Pears: $ 0.0\n",
      "Bananas: $ 0.0\n",
      "Tea: $ 0\n",
      "Coffee: $ 0\n",
      "Milk: $ 0.0\n"
     ]
    }
   ],
   "source": [
    "def calculate_total_cost(cart):\n",
    "    prices = {\n",
    "        \"apples\": 1.60,\n",
    "        \"pears\": 1.80,\n",
    "        \"bananas\": 0.50,\n",
    "        \"tea\": 2,\n",
    "        \"coffee\": 5,\n",
    "        \"milk\": 1.3\n",
    "    }\n",
    "\n",
    "    total_cost = 0\n",
    "\n",
    "    for item, quantity in cart.items():\n",
    "        if item in prices:\n",
    "            if item in [\"apples\", \"pears\", \"bananas\"]:\n",
    "                # Calculate the price with the special offer for fruits\n",
    "                total_cost += (prices[item] * (quantity // 2)) + (prices[item] * (quantity // 2) * 0.5)\n",
    "            else:\n",
    "                # For other items, just multiply price with quantity\n",
    "                total_cost += prices[item] * quantity\n",
    "\n",
    "    return total_cost\n",
    "\n",
    "def main():\n",
    "    cart = {\n",
    "        \"apples\": 1,\n",
    "        \"pears\": 0,\n",
    "        \"bananas\": 0,\n",
    "        \"tea\": 0,\n",
    "        \"coffee\": 0,\n",
    "        \"milk\": 0\n",
    "    }\n",
    "\n",
    "    total_cost = calculate_total_cost(cart)\n",
    "\n",
    "    print(\"Total Cost: $\", round(total_cost, 2))\n",
    "\n",
    "    # Calculate cost per item group\n",
    "    print(\"\\nCost Per Item Group:\")\n",
    "    for item, quantity in cart.items():\n",
    "        print(item.capitalize() + \": $\", round(calculate_total_cost({item: quantity}), 2))\n",
    "\n",
    "if __name__ == \"__main__\":\n",
    "    main()\n"
   ]
  },
  {
   "cell_type": "code",
   "execution_count": 8,
   "metadata": {},
   "outputs": [
    {
     "data": {
      "text/plain": [
       "2.4000000000000004"
      ]
     },
     "execution_count": 8,
     "metadata": {},
     "output_type": "execute_result"
    }
   ],
   "source": [
    "1.6*1.5"
   ]
  },
  {
   "cell_type": "code",
   "execution_count": null,
   "metadata": {},
   "outputs": [],
   "source": []
  }
 ],
 "metadata": {
  "kernelspec": {
   "display_name": "Python 3",
   "language": "python",
   "name": "python3"
  },
  "language_info": {
   "codemirror_mode": {
    "name": "ipython",
    "version": 3
   },
   "file_extension": ".py",
   "mimetype": "text/x-python",
   "name": "python",
   "nbconvert_exporter": "python",
   "pygments_lexer": "ipython3",
   "version": "3.10.2"
  }
 },
 "nbformat": 4,
 "nbformat_minor": 2
}
