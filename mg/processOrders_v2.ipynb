{
 "cells": [
  {
   "cell_type": "markdown",
   "metadata": {},
   "source": [
    "Project: Process Market Orders<br>\n",
    "Author: Vronsky Wikramanayake\n",
    "\n",
    "- Task: Create process_orders (v2) that takes a list of market orders as bid's or offers & return an aggregated view, top 3 based on price, for BUY's & SELL's.<br>\n",
    "- v2 Improvement: moved away from pandas for the main function, re wrote in raw python for efficinecy leveraging dict, and added pandas as optional allowing for better onward analytics.<br>\n",
    "- Additional function: match_orders to match on price & return unmatched orders from each side, BUY & SELL. \n",
    "- Python: tested on 3.10"
   ]
  },
  {
   "cell_type": "code",
   "execution_count": 1,
   "metadata": {},
   "outputs": [],
   "source": [
    "#several indipendant sublists of orders based on hourly buckets\n",
    "\n",
    "orders0800 = [\n",
    "    ('BUY', 11.60, 50),\n",
    "    ('SELL', 11.60, 50),\n",
    "    ('BUY', 11.60, 200),\n",
    "    ('SELL', 12.00, 150),\n",
    "    ('BUY', 11.60, 300),\n",
    "    ('BUY', 10.50, 100),\n",
    "    ('SELL', 21.75, 50),\n",
    "    ('BUY', 10.50, 200),\n",
    "    ('SELL', 12.00, 150),\n",
    "    ('BUY', 10.60, 300),\n",
    "    ('BUY', 9.50, 100),\n",
    "    ('SELL', 12.00, 50),\n",
    "    ('BUY', 5.50, 200),\n",
    "    ('SELL', 11.60, 150),\n",
    "    ('BUY', 9.60, 300)\n",
    "]\n",
    "\n",
    "orders0900 = [\n",
    "    ('BUY', 8.60, 50),\n",
    "    ('SELL', 11.60, 50),\n",
    "    ('BUY', 11.30, 200),\n",
    "    ('SELL', 12.00, 150),\n",
    "    ('BUY', 11.60, 300),\n",
    "    ('BUY', 10.90, 100),\n",
    "    ('SELL', 21.75, 50),\n",
    "    ('BUY', 10.50, 200),\n",
    "    ('SELL', 12.00, 1500),\n",
    "    ('BUY', 10.60, 300),\n",
    "    ('BUY', 9.50, 100),\n",
    "    ('SELL', 12.10, 50),\n",
    "    ('BUY', 5.70, 200),\n",
    "    ('SELL', 11.80, 150),\n",
    "    ('BUY', 9.70, 3000)\n",
    "]\n",
    "\n",
    "ordersException = [\n",
    "    ('HOLD', 8.60, 50)\n",
    "]"
   ]
  },
  {
   "cell_type": "code",
   "execution_count": 2,
   "metadata": {},
   "outputs": [],
   "source": [
    "buy_orders = {}\n",
    "sell_orders = {}\n",
    "\n",
    "def process_orders(orders):\n",
    "\n",
    "    #isolate the elements inside a typical order & define them\n",
    "    for order in orders:\n",
    "        side, price, quantity = order\n",
    "    \n",
    "    #loop through the sublists of orders, distinguish between BUY vs SELL, append quantity if price has been added, if not create a new order dict\n",
    "        if side == 'BUY':\n",
    "            if price in buy_orders:\n",
    "                buy_orders[price] += quantity\n",
    "            else:\n",
    "                buy_orders[price] = quantity\n",
    "        elif side == 'SELL':\n",
    "            if price in sell_orders:\n",
    "                sell_orders[price] += quantity\n",
    "            else:\n",
    "                sell_orders[price] = quantity\n",
    "        else: raise Exception(\"not a valid order\")\n",
    "    \n",
    "    #order each side of the order book appropriately by price and only show top 3 so that any matches can be easily seen\n",
    "    top3_buy_orders = dict(sorted(buy_orders.items(), key=lambda item: item[0], reverse=True)[:3])\n",
    "    top3_sell_orders = dict(sorted(sell_orders.items(), key=lambda item: item[0], reverse=False)[:3])\n",
    "\n",
    "    return top3_buy_orders, top3_sell_orders"
   ]
  },
  {
   "cell_type": "code",
   "execution_count": 11,
   "metadata": {},
   "outputs": [
    {
     "name": "stdout",
     "output_type": "stream",
     "text": [
      "{11.6: 1150, 11.3: 600, 10.9: 300}\n",
      "{11.6: 50, 11.8: 450, 12.0: 5300}\n"
     ]
    }
   ],
   "source": [
    "#operate process_orders on a set of raw orders for 0800 & 0900, print the results\n",
    "\n",
    "buy_orders, sell_orders = process_orders(orders0900)\n",
    "\n",
    "print(buy_orders)\n",
    "print(sell_orders)"
   ]
  },
  {
   "cell_type": "code",
   "execution_count": 4,
   "metadata": {},
   "outputs": [],
   "source": [
    "# write a matching process that matches on price and reduces the quantity matched\n",
    "\n",
    "matched_orders = []\n",
    "\n",
    "\n",
    "def match_orders(buy_orders, sell_orders):\n",
    "    \n",
    "    buy_prices = sorted(buy_orders.keys(), reverse=True)\n",
    "    sell_prices = sorted(sell_orders.keys())\n",
    "\n",
    "    i, j = 0, 0\n",
    "    while i < len(buy_prices) and j < len(sell_prices):\n",
    "        buy_price, sell_price = buy_prices[i], sell_prices[j]\n",
    "\n",
    "        if buy_price >= sell_price:\n",
    "            # Match orders\n",
    "            matched_quantity = min(buy_orders[buy_price], sell_orders[sell_price])\n",
    "            matched_orders.append((sell_price, matched_quantity))\n",
    "\n",
    "            # Reduce quantities in buy_orders and sell_orders\n",
    "            buy_orders[buy_price] -= matched_quantity\n",
    "            sell_orders[sell_price] -= matched_quantity\n",
    "\n",
    "            # Remove entries with zero quantity\n",
    "            if buy_orders[buy_price] == 0:\n",
    "                del buy_orders[buy_price]\n",
    "            if sell_orders[sell_price] == 0:\n",
    "                del sell_orders[sell_price]\n",
    "\n",
    "            # Move to the next price level\n",
    "            if buy_orders.get(buy_price) == None:\n",
    "                i += 1\n",
    "            if sell_orders.get(sell_price) == None:\n",
    "                j += 1\n",
    "        else:\n",
    "            break\n",
    "\n",
    "    return matched_orders"
   ]
  },
  {
   "cell_type": "code",
   "execution_count": 12,
   "metadata": {},
   "outputs": [
    {
     "name": "stdout",
     "output_type": "stream",
     "text": [
      "Matched orders: [(11.6, 200), (11.6, 50), (11.6, 50), (11.6, 50)]\n",
      "Remaining buy orders: {11.6: 1100, 11.3: 600, 10.9: 300}\n",
      "Remaining sell orders: {11.8: 450, 12.0: 5300}\n"
     ]
    }
   ],
   "source": [
    "matched_orders = match_orders(buy_orders, sell_orders)\n",
    "print(\"Matched orders:\", matched_orders)\n",
    "print(\"Remaining buy orders:\", buy_orders)\n",
    "print(\"Remaining sell orders:\", sell_orders)"
   ]
  },
  {
   "cell_type": "code",
   "execution_count": 11,
   "metadata": {},
   "outputs": [
    {
     "data": {
      "text/html": [
       "<div>\n",
       "<style scoped>\n",
       "    .dataframe tbody tr th:only-of-type {\n",
       "        vertical-align: middle;\n",
       "    }\n",
       "\n",
       "    .dataframe tbody tr th {\n",
       "        vertical-align: top;\n",
       "    }\n",
       "\n",
       "    .dataframe thead th {\n",
       "        text-align: right;\n",
       "    }\n",
       "</style>\n",
       "<table border=\"1\" class=\"dataframe\">\n",
       "  <thead>\n",
       "    <tr style=\"text-align: right;\">\n",
       "      <th></th>\n",
       "      <th>Bid_Price</th>\n",
       "      <th>Bid_Quantity</th>\n",
       "    </tr>\n",
       "  </thead>\n",
       "  <tbody>\n",
       "    <tr>\n",
       "      <th>0</th>\n",
       "      <td>11.6</td>\n",
       "      <td>850</td>\n",
       "    </tr>\n",
       "    <tr>\n",
       "      <th>1</th>\n",
       "      <td>11.3</td>\n",
       "      <td>200</td>\n",
       "    </tr>\n",
       "    <tr>\n",
       "      <th>2</th>\n",
       "      <td>10.9</td>\n",
       "      <td>100</td>\n",
       "    </tr>\n",
       "  </tbody>\n",
       "</table>\n",
       "</div>"
      ],
      "text/plain": [
       "   Bid_Price  Bid_Quantity\n",
       "0       11.6           850\n",
       "1       11.3           200\n",
       "2       10.9           100"
      ]
     },
     "metadata": {},
     "output_type": "display_data"
    },
    {
     "data": {
      "text/html": [
       "<div>\n",
       "<style scoped>\n",
       "    .dataframe tbody tr th:only-of-type {\n",
       "        vertical-align: middle;\n",
       "    }\n",
       "\n",
       "    .dataframe tbody tr th {\n",
       "        vertical-align: top;\n",
       "    }\n",
       "\n",
       "    .dataframe thead th {\n",
       "        text-align: right;\n",
       "    }\n",
       "</style>\n",
       "<table border=\"1\" class=\"dataframe\">\n",
       "  <thead>\n",
       "    <tr style=\"text-align: right;\">\n",
       "      <th></th>\n",
       "      <th>Offer_Price</th>\n",
       "      <th>Offer_Quantity</th>\n",
       "    </tr>\n",
       "  </thead>\n",
       "  <tbody>\n",
       "    <tr>\n",
       "      <th>0</th>\n",
       "      <td>11.6</td>\n",
       "      <td>250</td>\n",
       "    </tr>\n",
       "    <tr>\n",
       "      <th>1</th>\n",
       "      <td>11.8</td>\n",
       "      <td>150</td>\n",
       "    </tr>\n",
       "    <tr>\n",
       "      <th>2</th>\n",
       "      <td>12.0</td>\n",
       "      <td>2000</td>\n",
       "    </tr>\n",
       "  </tbody>\n",
       "</table>\n",
       "</div>"
      ],
      "text/plain": [
       "   Offer_Price  Offer_Quantity\n",
       "0         11.6             250\n",
       "1         11.8             150\n",
       "2         12.0            2000"
      ]
     },
     "metadata": {},
     "output_type": "display_data"
    }
   ],
   "source": [
    "#if you did want to move to pandas for further analytics.\n",
    "\n",
    "import pandas as pd\n",
    "\n",
    "buy_df = pd.DataFrame({'Bid_Price': list(buy_orders.keys()), 'Bid_Quantity': list(buy_orders.values())})\n",
    "sell_df = pd.DataFrame({'Offer_Price': list(sell_orders.keys()), 'Offer_Quantity': list(sell_orders.values())})\n",
    "\n",
    "display(buy_df)\n",
    "display(sell_df)"
   ]
  }
 ],
 "metadata": {
  "kernelspec": {
   "display_name": "Python 3",
   "language": "python",
   "name": "python3"
  },
  "language_info": {
   "codemirror_mode": {
    "name": "ipython",
    "version": 3
   },
   "file_extension": ".py",
   "mimetype": "text/x-python",
   "name": "python",
   "nbconvert_exporter": "python",
   "pygments_lexer": "ipython3",
   "version": "3.10.2"
  }
 },
 "nbformat": 4,
 "nbformat_minor": 2
}
