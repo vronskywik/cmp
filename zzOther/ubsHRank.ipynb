{
 "cells": [
  {
   "cell_type": "code",
   "execution_count": 7,
   "metadata": {},
   "outputs": [
    {
     "name": "stdout",
     "output_type": "stream",
     "text": [
      "2\n"
     ]
    }
   ],
   "source": [
    "def minimumSteps(loggedMoves):\n",
    "    stack = []\n",
    "    \n",
    "    for move in loggedMoves:\n",
    "        if \"../\" in move:\n",
    "            # move to parent\n",
    "            if stack:\n",
    "                stack.pop()\n",
    "        elif \"./\" in move:\n",
    "            # remain\n",
    "            continue\n",
    "        else:\n",
    "            # move to child\n",
    "            folder_name = move.strip(\"/\")\n",
    "            stack.append(folder_name)\n",
    "\n",
    "    # num moves required\n",
    "    return len(stack)\n",
    "\n",
    "# Example usage\n",
    "loggedMoves = ['x/', '../', 'y/', 'z/']\n",
    "result = minimumSteps(loggedMoves)\n",
    "print(result)"
   ]
  },
  {
   "cell_type": "code",
   "execution_count": null,
   "metadata": {
    "vscode": {
     "languageId": "sql"
    }
   },
   "outputs": [],
   "source": [
    "/*\n",
    "Enter your query below.\n",
    "Please append a semicolon \";\" at the end of the query\n",
    "*/\n",
    "\n",
    "select 'customer' as category, id, customer_name\n",
    "from customer\n",
    "where id not in (select distinct customer_id from invoice)\n",
    "\n",
    "UNION\n",
    "\n",
    "select 'product' as category, id, product_name\n",
    "from product\n",
    "where id not in (select distinct product_id from invoice_item);"
   ]
  },
  {
   "cell_type": "code",
   "execution_count": null,
   "metadata": {},
   "outputs": [],
   "source": [
    "from pyspark.sql import SparkSession, DataFrame, Window\n",
    "from main.base import PySparkJobInterface\n",
    "import pyspark.sql.functions as F\n",
    "\n",
    "\n",
    "class PySparkJob(PySparkJobInterface):\n",
    "\n",
    "    def init_spark_session(self) -> SparkSession:\n",
    "        return SparkSession.builder.appName('Banking Data Mining').master('local').getOrCreate()\n",
    "        \n",
    "\n",
    "    def extract_valid_transactions(self, accounts: DataFrame, transactions: DataFrame) -> DataFrame:\n",
    "        #join trans & accounts\n",
    "        joined = transactions.join(accounts, transactions.toAccountNumber == accounts.accountNumber, \"inner\")\n",
    "        \n",
    "        # filter for valid\n",
    "        valid = joined.filter(col(\"transferAmount\") <= col(\"balance\"))\n",
    "\n",
    "        return valid\n",
    "        ...\n",
    "\n",
    "    def distinct_transactions(self, transactions: DataFrame) -> int:\n",
    "        #select distinct trans\n",
    "        transCount = transactions.select(\"fromAccountNumber\").distinct().count()\n",
    "\n",
    "        return transCount\n",
    "        ...\n",
    "\n",
    "    def transactions_per_account(self, transactions: DataFrame) -> DataFrame:\n",
    "        #group\n",
    "        countAccount = transactions.groupBy(\"fromAccountNumber\").agg(count(transactionId).alias(\"transactionCount\"))\n",
    "\n",
    "        #ordering to help rank\n",
    "        sortedTrans = countAccount.orderBy(desc(\"transactionCount\"))\n",
    "\n",
    "        #top 10\n",
    "        top10 = sortedTrans.limit(10)\n",
    "\n",
    "        return top10 \n",
    "        ...\n"
   ]
  }
 ],
 "metadata": {
  "kernelspec": {
   "display_name": "Python 3",
   "language": "python",
   "name": "python3"
  },
  "language_info": {
   "codemirror_mode": {
    "name": "ipython",
    "version": 3
   },
   "file_extension": ".py",
   "mimetype": "text/x-python",
   "name": "python",
   "nbconvert_exporter": "python",
   "pygments_lexer": "ipython3",
   "version": "3.10.2"
  }
 },
 "nbformat": 4,
 "nbformat_minor": 2
}
