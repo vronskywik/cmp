{
 "cells": [
  {
   "cell_type": "markdown",
   "metadata": {},
   "source": [
    "TOPICS TO EXPECT:\n",
    "\n",
    "- Algorithms & data structures\n",
    "- Practical coding abilities & debugging (translating complex requirements into working code)\n",
    "- Designing systems\n",
    "- Drawing insights from Data (only for ML)\n",
    "- Unencountered problems and thought processes behind how to solve them\n",
    "- Resume review and experience\n",
    "\n",
    "GENERAL TIPS:\n",
    "\n",
    "- You will be writing a substantial amount of code.\n",
    "- Be prepared to speak about your previous accomplishments in past organizations.\n",
    "- We look for candidates with solid insight into solving complex problems who demonstrate clarity of thought.\n",
    "- The ability to learn a new topic and learn to learn it quickly sticks out to us at Voleon.\n",
    "- Above all, we want to gauge your fit into our organization and give you the best candidate experience possible."
   ]
  },
  {
   "cell_type": "markdown",
   "metadata": {},
   "source": []
  }
 ],
 "metadata": {
  "language_info": {
   "name": "python"
  }
 },
 "nbformat": 4,
 "nbformat_minor": 2
}
