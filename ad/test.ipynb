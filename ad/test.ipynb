{
 "cells": [
  {
   "cell_type": "code",
   "execution_count": 1,
   "metadata": {},
   "outputs": [
    {
     "name": "stdout",
     "output_type": "stream",
     "text": [
      "0030630230001000\n"
     ]
    }
   ],
   "source": [
    "byte_string = b'0030630230001000'\n",
    "decoded_string = byte_string.decode('utf-8')\n",
    "print(decoded_string)"
   ]
  },
  {
   "cell_type": "code",
   "execution_count": 2,
   "metadata": {},
   "outputs": [
    {
     "name": "stdout",
     "output_type": "stream",
     "text": [
      "  Instrument    Price                Time  Volume  AdjustedPrice\n",
      "0      ESH04  1062.75 2003-12-11 08:50:46       3        1062.75\n",
      "1      ESH04  1064.00 2003-12-11 09:21:45       5        1064.00\n",
      "2      ESH04  1066.50 2003-12-11 09:51:40      10        1066.50\n",
      "3      ESH04  1066.00 2003-12-11 10:54:14      20        1066.00\n",
      "4      ESH04  1065.50 2003-12-11 12:17:37      10        1065.50\n"
     ]
    }
   ],
   "source": [
    "import pandas as pd\n",
    "\n",
    "# Assuming df is your DataFrame with columns 'Instrument', 'Price', 'Time', 'Volume', 'Expiration'\n",
    "# Replace this with your actual DataFrame\n",
    "data = {\n",
    "    'Instrument': ['ESH04', 'ESH04', 'ESH04', 'ESH04', 'ESH04'],\n",
    "    'Price': [1062.75, 1064.00, 1066.50, 1066.00, 1065.50],\n",
    "    'Time': ['2003-12-11 08:50:46', '2003-12-11 09:21:45', '2003-12-11 09:51:40', '2003-12-11 10:54:14', '2003-12-11 12:17:37'],\n",
    "    'Volume': [3, 5, 10, 20, 10],\n",
    "    'Expiration': ['2004-03-19', '2004-03-19', '2004-03-19', '2004-03-19', '2004-03-19']\n",
    "}\n",
    "\n",
    "df = pd.DataFrame(data)\n",
    "df['Time'] = pd.to_datetime(df['Time'])\n",
    "df['Expiration'] = pd.to_datetime(df['Expiration'])\n",
    "\n",
    "# Sort the DataFrame by time\n",
    "df = df.sort_values(by='Time')\n",
    "\n",
    "# Create a column 'ContractID' to identify each contract\n",
    "df['ContractID'] = (df['Instrument'] + '_' + df['Expiration'].dt.strftime('%Y%m%d')).astype('category').cat.codes\n",
    "\n",
    "# Create a column 'AdjustedPrice' to store the adjusted prices\n",
    "df['AdjustedPrice'] = df['Price']\n",
    "\n",
    "# Apply roll adjustments\n",
    "for contract_id in df['ContractID'].unique():\n",
    "    contract_mask = df['ContractID'] == contract_id\n",
    "    roll_index = contract_mask.idxmax()  # Assume rolls happen at the first occurrence in time\n",
    "    next_contract_index = df[contract_mask].index.min()\n",
    "\n",
    "    if not pd.isnull(next_contract_index):\n",
    "        # Adjust prices for the roll\n",
    "        df.loc[roll_index:next_contract_index, 'AdjustedPrice'] -= df.loc[next_contract_index, 'Price'] - df.loc[roll_index, 'Price']\n",
    "\n",
    "# Drop unnecessary columns\n",
    "df = df.drop(['ContractID', 'Expiration'], axis=1)\n",
    "\n",
    "# Print the resulting DataFrame\n",
    "print(df)"
   ]
  },
  {
   "cell_type": "code",
   "execution_count": null,
   "metadata": {},
   "outputs": [],
   "source": []
  }
 ],
 "metadata": {
  "kernelspec": {
   "display_name": "Python 3",
   "language": "python",
   "name": "python3"
  },
  "language_info": {
   "codemirror_mode": {
    "name": "ipython",
    "version": 3
   },
   "file_extension": ".py",
   "mimetype": "text/x-python",
   "name": "python",
   "nbconvert_exporter": "python",
   "pygments_lexer": "ipython3",
   "version": "3.10.2"
  }
 },
 "nbformat": 4,
 "nbformat_minor": 2
}
