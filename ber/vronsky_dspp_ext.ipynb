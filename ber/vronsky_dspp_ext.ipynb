{
 "cells": [
  {
   "cell_type": "markdown",
   "metadata": {},
   "source": [
    "##### *Author: Vronsky Wikramanayake*"
   ]
  },
  {
   "cell_type": "markdown",
   "metadata": {},
   "source": [
    "### Remarks\n",
    "\n",
    "1. The market data file does not cover the number of id's or exchanges required to fulfill the entire executions file, so we lose more than half the instruments when we start to calculate items in part 4.\n",
    "2. Leaving the data in parquet and operating outside of pandas would be more performant for large batches or the entire universe of data. A better way to build analytics on such data would be to leave it in parquet and operate a spark job on it. There may also be several other direct operations with parquet, eg an abstract layer on top to serve analytics. Python (pandas) works here leveraging the merge_asof function. Would have to see if spark offers something similar.\n",
    "3. No data quality checks have been done on id level time series from either marketdata or executions, particularly looking for spikes and missing data on the martketdata file.\n",
    "4. The marketdata file only covers 3 venues whilst we have executed on 7, so when we join in marketdata, we assume we calculate best bid/ask & slippage based on the ability to trade on any venue with available volume.\n",
    "5. I have also bought in an additional column, market state when merging to create best, -1s & +1s, as this can add colour into seeing weather our slippage crosses between pre & post states around the open / close times per exchange.\n",
    "6. Note on tolerance from merge_asof: A tolerance of \"500ms\" has been applied the join on TradeTime & event_timestamp to allow some relaxation on looking for a time based join. The distinct ask is that we look at -1 and +1 seconds around the execution time for the other variations, hence why hard columns TradeTime_min_1 & TradeTime_1 were added. A tolerance of \"500ms\" has also been applied to the merging of these. A lot of the results for -1 & +1 will be missing unless we relax the tolerance further or we obtain more granular market data (if possible).\n",
    "7. Output in csv is available, other formats are available based on what the downstream usage might be relative to performance needs.\n",
    "\n",
    "##### Assumptions: Joins are possible where:\n",
    "- marketdata.market_state = exectuions.Phase\n",
    "- marketdata.listing_id = refdata.id"
   ]
  },
  {
   "cell_type": "code",
   "execution_count": 1,
   "metadata": {},
   "outputs": [],
   "source": [
    "#import libraries reuqired, pre installig may be required for some.\n",
    "\n",
    "import pandas as pd\n",
    "import pyarrow\n",
    "from datetime import datetime, timedelta\n",
    "import time\n",
    "import numpy as np\n",
    "import logging"
   ]
  },
  {
   "cell_type": "code",
   "execution_count": 2,
   "metadata": {},
   "outputs": [],
   "source": [
    "#setting max cols & rows for faster eyeballing of data.\n",
    "\n",
    "pd.set_option('display.max_rows', None)\n",
    "pd.set_option('display.max_columns', None)"
   ]
  },
  {
   "cell_type": "code",
   "execution_count": 3,
   "metadata": {},
   "outputs": [],
   "source": [
    "#use pandas built in parquet reader to load data into a pabdas dataframe.\n",
    "\n",
    "executions = pd.read_parquet('exectuions.parquet', engine='pyarrow')\n",
    "marketdata = pd.read_parquet('marketdata.parquet', engine='pyarrow')\n",
    "refdata = pd.read_parquet('refdata.parquet', engine='pyarrow')"
   ]
  },
  {
   "cell_type": "markdown",
   "metadata": {},
   "source": [
    "### 0. EDA (Exploratory Data Analysis)\n",
    "\n",
    "- Convert any date or time objects to datetime format, review samples of the data, understand data types & number of unique elements,  and also time horizons where applicable. "
   ]
  },
  {
   "cell_type": "markdown",
   "metadata": {},
   "source": [
    "#### Executions Data EDA"
   ]
  },
  {
   "cell_type": "code",
   "execution_count": 4,
   "metadata": {},
   "outputs": [
    {
     "data": {
      "text/html": [
       "<div>\n",
       "<style scoped>\n",
       "    .dataframe tbody tr th:only-of-type {\n",
       "        vertical-align: middle;\n",
       "    }\n",
       "\n",
       "    .dataframe tbody tr th {\n",
       "        vertical-align: top;\n",
       "    }\n",
       "\n",
       "    .dataframe thead th {\n",
       "        text-align: right;\n",
       "    }\n",
       "</style>\n",
       "<table border=\"1\" class=\"dataframe\">\n",
       "  <thead>\n",
       "    <tr style=\"text-align: right;\">\n",
       "      <th></th>\n",
       "      <th>ISIN</th>\n",
       "      <th>Currency</th>\n",
       "      <th>Venue</th>\n",
       "      <th>TradeTime</th>\n",
       "      <th>Price</th>\n",
       "      <th>Trade_id</th>\n",
       "      <th>Phase</th>\n",
       "      <th>Quantity</th>\n",
       "    </tr>\n",
       "  </thead>\n",
       "  <tbody>\n",
       "    <tr>\n",
       "      <th>4097</th>\n",
       "      <td>BE0003470755</td>\n",
       "      <td>EUR</td>\n",
       "      <td>XBRU</td>\n",
       "      <td>2022-09-02 13:54:18.867</td>\n",
       "      <td>82.32</td>\n",
       "      <td>4097</td>\n",
       "      <td>CONTINUOUS_TRADING</td>\n",
       "      <td>-24</td>\n",
       "    </tr>\n",
       "    <tr>\n",
       "      <th>4098</th>\n",
       "      <td>BE0003470755</td>\n",
       "      <td>EUR</td>\n",
       "      <td>XBRU</td>\n",
       "      <td>2022-09-02 13:55:02.917</td>\n",
       "      <td>82.30</td>\n",
       "      <td>4098</td>\n",
       "      <td>CONTINUOUS_TRADING</td>\n",
       "      <td>-28</td>\n",
       "    </tr>\n",
       "    <tr>\n",
       "      <th>4099</th>\n",
       "      <td>BE0003470755</td>\n",
       "      <td>EUR</td>\n",
       "      <td>XBRU</td>\n",
       "      <td>2022-09-02 13:55:45.674</td>\n",
       "      <td>82.26</td>\n",
       "      <td>4099</td>\n",
       "      <td>CONTINUOUS_TRADING</td>\n",
       "      <td>-76</td>\n",
       "    </tr>\n",
       "    <tr>\n",
       "      <th>4100</th>\n",
       "      <td>BE0003470755</td>\n",
       "      <td>EUR</td>\n",
       "      <td>XBRU</td>\n",
       "      <td>2022-09-02 13:56:08.132</td>\n",
       "      <td>82.22</td>\n",
       "      <td>4100</td>\n",
       "      <td>CONTINUOUS_TRADING</td>\n",
       "      <td>-37</td>\n",
       "    </tr>\n",
       "    <tr>\n",
       "      <th>4101</th>\n",
       "      <td>BE0003470755</td>\n",
       "      <td>EUR</td>\n",
       "      <td>XBRU</td>\n",
       "      <td>2022-09-02 13:56:27.827</td>\n",
       "      <td>82.22</td>\n",
       "      <td>4101</td>\n",
       "      <td>CONTINUOUS_TRADING</td>\n",
       "      <td>-14</td>\n",
       "    </tr>\n",
       "  </tbody>\n",
       "</table>\n",
       "</div>"
      ],
      "text/plain": [
       "              ISIN Currency Venue               TradeTime  Price  Trade_id  \\\n",
       "4097  BE0003470755      EUR  XBRU 2022-09-02 13:54:18.867  82.32      4097   \n",
       "4098  BE0003470755      EUR  XBRU 2022-09-02 13:55:02.917  82.30      4098   \n",
       "4099  BE0003470755      EUR  XBRU 2022-09-02 13:55:45.674  82.26      4099   \n",
       "4100  BE0003470755      EUR  XBRU 2022-09-02 13:56:08.132  82.22      4100   \n",
       "4101  BE0003470755      EUR  XBRU 2022-09-02 13:56:27.827  82.22      4101   \n",
       "\n",
       "                   Phase  Quantity  \n",
       "4097  CONTINUOUS_TRADING       -24  \n",
       "4098  CONTINUOUS_TRADING       -28  \n",
       "4099  CONTINUOUS_TRADING       -76  \n",
       "4100  CONTINUOUS_TRADING       -37  \n",
       "4101  CONTINUOUS_TRADING       -14  "
      ]
     },
     "execution_count": 4,
     "metadata": {},
     "output_type": "execute_result"
    }
   ],
   "source": [
    "executions['TradeTime'] = pd.to_datetime(executions['TradeTime'])\n",
    "executions.loc[executions['Phase'] == 'CONTINUOUS_TRADING'].sort_values(by=['ISIN','TradeTime'], ascending=True).head()"
   ]
  },
  {
   "cell_type": "code",
   "execution_count": 5,
   "metadata": {},
   "outputs": [
    {
     "data": {
      "text/plain": [
       "ISIN                 object\n",
       "Currency             object\n",
       "Venue                object\n",
       "TradeTime    datetime64[ns]\n",
       "Price               float64\n",
       "Trade_id              int64\n",
       "Phase                object\n",
       "Quantity              int64\n",
       "dtype: object"
      ]
     },
     "execution_count": 5,
     "metadata": {},
     "output_type": "execute_result"
    }
   ],
   "source": [
    "executions.dtypes"
   ]
  },
  {
   "cell_type": "code",
   "execution_count": 6,
   "metadata": {},
   "outputs": [
    {
     "data": {
      "text/plain": [
       "ISIN           66\n",
       "Currency        3\n",
       "Venue           6\n",
       "TradeTime    3846\n",
       "Price        1247\n",
       "Trade_id     4203\n",
       "Phase           2\n",
       "Quantity      711\n",
       "dtype: int64"
      ]
     },
     "execution_count": 6,
     "metadata": {},
     "output_type": "execute_result"
    }
   ],
   "source": [
    "executions.nunique()"
   ]
  },
  {
   "cell_type": "code",
   "execution_count": 7,
   "metadata": {},
   "outputs": [
    {
     "name": "stdout",
     "output_type": "stream",
     "text": [
      "['OPENING_AUCTION' 'CONTINUOUS_TRADING']\n"
     ]
    }
   ],
   "source": [
    "print(executions.Phase.unique())\n"
   ]
  },
  {
   "cell_type": "code",
   "execution_count": 8,
   "metadata": {},
   "outputs": [
    {
     "name": "stdout",
     "output_type": "stream",
     "text": [
      "2022-09-02 07:00:09.160000\n",
      "2022-09-02 15:36:21.730000\n"
     ]
    }
   ],
   "source": [
    "print(executions.TradeTime.min())\n",
    "print(executions.TradeTime.max())"
   ]
  },
  {
   "cell_type": "code",
   "execution_count": 9,
   "metadata": {},
   "outputs": [
    {
     "data": {
      "text/plain": [
       "<bound method Series.sort_index of Venue\n",
       "XBRU     403\n",
       "XCSE     511\n",
       "XETA    2904\n",
       "XETB      36\n",
       "XETS       6\n",
       "XSWX     343\n",
       "dtype: int64>"
      ]
     },
     "execution_count": 9,
     "metadata": {},
     "output_type": "execute_result"
    }
   ],
   "source": [
    "executions.groupby(['Venue']).size().sort_index\n"
   ]
  },
  {
   "cell_type": "markdown",
   "metadata": {},
   "source": [
    "### Marketdata EDA"
   ]
  },
  {
   "cell_type": "code",
   "execution_count": 10,
   "metadata": {},
   "outputs": [
    {
     "data": {
      "text/html": [
       "<div>\n",
       "<style scoped>\n",
       "    .dataframe tbody tr th:only-of-type {\n",
       "        vertical-align: middle;\n",
       "    }\n",
       "\n",
       "    .dataframe tbody tr th {\n",
       "        vertical-align: top;\n",
       "    }\n",
       "\n",
       "    .dataframe thead th {\n",
       "        text-align: right;\n",
       "    }\n",
       "</style>\n",
       "<table border=\"1\" class=\"dataframe\">\n",
       "  <thead>\n",
       "    <tr style=\"text-align: right;\">\n",
       "      <th></th>\n",
       "      <th>event_timestamp</th>\n",
       "      <th>best_bid_size</th>\n",
       "      <th>best_bid_price</th>\n",
       "      <th>best_ask_price</th>\n",
       "      <th>best_ask_size</th>\n",
       "      <th>market_state</th>\n",
       "      <th>primary_mic</th>\n",
       "      <th>listing_id</th>\n",
       "    </tr>\n",
       "  </thead>\n",
       "  <tbody>\n",
       "    <tr>\n",
       "      <th>245</th>\n",
       "      <td>2022-09-02 07:00:02.028662</td>\n",
       "      <td>165</td>\n",
       "      <td>46.73</td>\n",
       "      <td>47.50</td>\n",
       "      <td>197</td>\n",
       "      <td>CONTINUOUS_TRADING</td>\n",
       "      <td>XSWX</td>\n",
       "      <td>323436</td>\n",
       "    </tr>\n",
       "    <tr>\n",
       "      <th>246</th>\n",
       "      <td>2022-09-02 07:00:02.028762</td>\n",
       "      <td>450</td>\n",
       "      <td>46.40</td>\n",
       "      <td>47.50</td>\n",
       "      <td>197</td>\n",
       "      <td>CONTINUOUS_TRADING</td>\n",
       "      <td>XSWX</td>\n",
       "      <td>323436</td>\n",
       "    </tr>\n",
       "    <tr>\n",
       "      <th>248</th>\n",
       "      <td>2022-09-02 07:00:02.045976</td>\n",
       "      <td>450</td>\n",
       "      <td>46.40</td>\n",
       "      <td>46.94</td>\n",
       "      <td>76</td>\n",
       "      <td>CONTINUOUS_TRADING</td>\n",
       "      <td>XSWX</td>\n",
       "      <td>323436</td>\n",
       "    </tr>\n",
       "    <tr>\n",
       "      <th>250</th>\n",
       "      <td>2022-09-02 07:00:02.050104</td>\n",
       "      <td>170</td>\n",
       "      <td>46.41</td>\n",
       "      <td>46.94</td>\n",
       "      <td>76</td>\n",
       "      <td>CONTINUOUS_TRADING</td>\n",
       "      <td>XSWX</td>\n",
       "      <td>323436</td>\n",
       "    </tr>\n",
       "    <tr>\n",
       "      <th>251</th>\n",
       "      <td>2022-09-02 07:00:02.059316</td>\n",
       "      <td>170</td>\n",
       "      <td>46.41</td>\n",
       "      <td>47.50</td>\n",
       "      <td>197</td>\n",
       "      <td>CONTINUOUS_TRADING</td>\n",
       "      <td>XSWX</td>\n",
       "      <td>323436</td>\n",
       "    </tr>\n",
       "  </tbody>\n",
       "</table>\n",
       "</div>"
      ],
      "text/plain": [
       "               event_timestamp  best_bid_size  best_bid_price  best_ask_price  \\\n",
       "245 2022-09-02 07:00:02.028662            165           46.73           47.50   \n",
       "246 2022-09-02 07:00:02.028762            450           46.40           47.50   \n",
       "248 2022-09-02 07:00:02.045976            450           46.40           46.94   \n",
       "250 2022-09-02 07:00:02.050104            170           46.41           46.94   \n",
       "251 2022-09-02 07:00:02.059316            170           46.41           47.50   \n",
       "\n",
       "     best_ask_size        market_state primary_mic  listing_id  \n",
       "245            197  CONTINUOUS_TRADING        XSWX      323436  \n",
       "246            197  CONTINUOUS_TRADING        XSWX      323436  \n",
       "248             76  CONTINUOUS_TRADING        XSWX      323436  \n",
       "250             76  CONTINUOUS_TRADING        XSWX      323436  \n",
       "251            197  CONTINUOUS_TRADING        XSWX      323436  "
      ]
     },
     "execution_count": 10,
     "metadata": {},
     "output_type": "execute_result"
    }
   ],
   "source": [
    "marketdata.loc[marketdata['market_state'] == 'CONTINUOUS_TRADING'].sort_values(by=['listing_id','event_timestamp'], ascending=True).head()"
   ]
  },
  {
   "cell_type": "code",
   "execution_count": 11,
   "metadata": {},
   "outputs": [
    {
     "data": {
      "text/plain": [
       "event_timestamp    datetime64[ns]\n",
       "best_bid_size               int64\n",
       "best_bid_price            float64\n",
       "best_ask_price            float64\n",
       "best_ask_size               int64\n",
       "market_state             category\n",
       "primary_mic                object\n",
       "listing_id                  int64\n",
       "dtype: object"
      ]
     },
     "execution_count": 11,
     "metadata": {},
     "output_type": "execute_result"
    }
   ],
   "source": [
    "marketdata.dtypes"
   ]
  },
  {
   "cell_type": "code",
   "execution_count": 12,
   "metadata": {},
   "outputs": [
    {
     "data": {
      "text/plain": [
       "event_timestamp    1916868\n",
       "best_bid_size         6307\n",
       "best_bid_price        1874\n",
       "best_ask_price        1823\n",
       "best_ask_size         5129\n",
       "market_state             8\n",
       "primary_mic              3\n",
       "listing_id              19\n",
       "dtype: int64"
      ]
     },
     "execution_count": 12,
     "metadata": {},
     "output_type": "execute_result"
    }
   ],
   "source": [
    "marketdata.nunique()"
   ]
  },
  {
   "cell_type": "code",
   "execution_count": 13,
   "metadata": {},
   "outputs": [
    {
     "data": {
      "text/plain": [
       "market_state\n",
       "AUCTION_ON_DEMAND                          0\n",
       "CLOSED                                     9\n",
       "CLOSING_AUCTION                          297\n",
       "CONDITIONAL                                0\n",
       "CONTINUOUS_TRADING                   1916113\n",
       "CONTINUOUS_TRADING_PRIMARY_CLOSED          0\n",
       "HALTED                                     0\n",
       "INTRADAY_AUCTION                           6\n",
       "NOT_APPLICABLE                             0\n",
       "OPENING_AUCTION                          243\n",
       "POST_TRADE                                48\n",
       "PRE_OPEN                                   7\n",
       "UNKNOWN                                    0\n",
       "UNSCHEDULED_AUCTION                      179\n",
       "dtype: int64"
      ]
     },
     "execution_count": 13,
     "metadata": {},
     "output_type": "execute_result"
    }
   ],
   "source": [
    "marketdata.groupby(['market_state']).size()\n"
   ]
  },
  {
   "cell_type": "code",
   "execution_count": 14,
   "metadata": {},
   "outputs": [
    {
     "data": {
      "text/plain": [
       "listing_id\n",
       "323436        72997\n",
       "323448       288866\n",
       "323472        67265\n",
       "323478       147045\n",
       "323496       193533\n",
       "323502       204537\n",
       "323508       246199\n",
       "324072       129795\n",
       "324078       141745\n",
       "324084         7222\n",
       "324144        60888\n",
       "324162       220076\n",
       "324168       107974\n",
       "328259          842\n",
       "328336        10268\n",
       "286087258      8102\n",
       "286087398      1621\n",
       "286087896      2768\n",
       "378534881      5159\n",
       "dtype: int64"
      ]
     },
     "execution_count": 14,
     "metadata": {},
     "output_type": "execute_result"
    }
   ],
   "source": [
    "marketdata.groupby(['listing_id']).size()\n"
   ]
  },
  {
   "cell_type": "code",
   "execution_count": 15,
   "metadata": {},
   "outputs": [
    {
     "data": {
      "text/plain": [
       "<bound method Series.sort_index of primary_mic\n",
       "XBRU     683969\n",
       "XETR      12491\n",
       "XSWX    1220442\n",
       "dtype: int64>"
      ]
     },
     "execution_count": 15,
     "metadata": {},
     "output_type": "execute_result"
    }
   ],
   "source": [
    "marketdata.groupby(['primary_mic']).size().sort_index\n"
   ]
  },
  {
   "cell_type": "code",
   "execution_count": 16,
   "metadata": {},
   "outputs": [
    {
     "name": "stdout",
     "output_type": "stream",
     "text": [
      "2022-09-02 01:00:57.205489803\n",
      "2022-09-02 19:14:40.907065\n"
     ]
    }
   ],
   "source": [
    "print(marketdata.event_timestamp.min())\n",
    "print(marketdata.event_timestamp.max())"
   ]
  },
  {
   "cell_type": "markdown",
   "metadata": {},
   "source": [
    "### Refdata EDA"
   ]
  },
  {
   "cell_type": "code",
   "execution_count": 17,
   "metadata": {},
   "outputs": [
    {
     "data": {
      "text/html": [
       "<div>\n",
       "<style scoped>\n",
       "    .dataframe tbody tr th:only-of-type {\n",
       "        vertical-align: middle;\n",
       "    }\n",
       "\n",
       "    .dataframe tbody tr th {\n",
       "        vertical-align: top;\n",
       "    }\n",
       "\n",
       "    .dataframe thead th {\n",
       "        text-align: right;\n",
       "    }\n",
       "</style>\n",
       "<table border=\"1\" class=\"dataframe\">\n",
       "  <thead>\n",
       "    <tr style=\"text-align: right;\">\n",
       "      <th></th>\n",
       "      <th>ISIN</th>\n",
       "      <th>id</th>\n",
       "      <th>Currency</th>\n",
       "      <th>primary_ticker</th>\n",
       "      <th>primary_mic</th>\n",
       "    </tr>\n",
       "  </thead>\n",
       "  <tbody>\n",
       "    <tr>\n",
       "      <th>0</th>\n",
       "      <td>AT0000652011</td>\n",
       "      <td>286087258</td>\n",
       "      <td>EUR</td>\n",
       "      <td>EBO</td>\n",
       "      <td>XETR</td>\n",
       "    </tr>\n",
       "    <tr>\n",
       "      <th>1</th>\n",
       "      <td>AT0000730007</td>\n",
       "      <td>286087398</td>\n",
       "      <td>EUR</td>\n",
       "      <td>AZ2</td>\n",
       "      <td>XETR</td>\n",
       "    </tr>\n",
       "    <tr>\n",
       "      <th>2</th>\n",
       "      <td>AT0000937503</td>\n",
       "      <td>286087896</td>\n",
       "      <td>EUR</td>\n",
       "      <td>VAS</td>\n",
       "      <td>XETR</td>\n",
       "    </tr>\n",
       "    <tr>\n",
       "      <th>3</th>\n",
       "      <td>AT0000A21KS2</td>\n",
       "      <td>286088133</td>\n",
       "      <td>EUR</td>\n",
       "      <td>IMO1</td>\n",
       "      <td>XETR</td>\n",
       "    </tr>\n",
       "    <tr>\n",
       "      <th>4</th>\n",
       "      <td>BE0003470755</td>\n",
       "      <td>324072</td>\n",
       "      <td>EUR</td>\n",
       "      <td>SOLB</td>\n",
       "      <td>XBRU</td>\n",
       "    </tr>\n",
       "  </tbody>\n",
       "</table>\n",
       "</div>"
      ],
      "text/plain": [
       "           ISIN         id Currency primary_ticker primary_mic\n",
       "0  AT0000652011  286087258      EUR            EBO        XETR\n",
       "1  AT0000730007  286087398      EUR            AZ2        XETR\n",
       "2  AT0000937503  286087896      EUR            VAS        XETR\n",
       "3  AT0000A21KS2  286088133      EUR           IMO1        XETR\n",
       "4  BE0003470755     324072      EUR           SOLB        XBRU"
      ]
     },
     "execution_count": 17,
     "metadata": {},
     "output_type": "execute_result"
    }
   ],
   "source": [
    "refdata.head()"
   ]
  },
  {
   "cell_type": "code",
   "execution_count": 18,
   "metadata": {},
   "outputs": [
    {
     "data": {
      "text/plain": [
       "ISIN              object\n",
       "id                 int64\n",
       "Currency          object\n",
       "primary_ticker    object\n",
       "primary_mic       object\n",
       "dtype: object"
      ]
     },
     "execution_count": 18,
     "metadata": {},
     "output_type": "execute_result"
    }
   ],
   "source": [
    "refdata.dtypes"
   ]
  },
  {
   "cell_type": "code",
   "execution_count": 19,
   "metadata": {},
   "outputs": [
    {
     "data": {
      "text/plain": [
       "ISIN              260\n",
       "id                262\n",
       "Currency            7\n",
       "primary_ticker    261\n",
       "primary_mic        17\n",
       "dtype: int64"
      ]
     },
     "execution_count": 19,
     "metadata": {},
     "output_type": "execute_result"
    }
   ],
   "source": [
    "refdata.nunique()"
   ]
  },
  {
   "cell_type": "code",
   "execution_count": 20,
   "metadata": {},
   "outputs": [
    {
     "data": {
      "text/plain": [
       "primary_mic\n",
       "XAMS    11\n",
       "XASE     1\n",
       "XBRU     9\n",
       "XCSE    18\n",
       "XDUB     3\n",
       "XETR    33\n",
       "XHEL    11\n",
       "XLIS     2\n",
       "XLON    50\n",
       "XMAD     4\n",
       "XMIL     6\n",
       "XNAS    19\n",
       "XNYS    28\n",
       "XOSL     6\n",
       "XPAR    34\n",
       "XSTO    13\n",
       "XSWX    14\n",
       "dtype: int64"
      ]
     },
     "execution_count": 20,
     "metadata": {},
     "output_type": "execute_result"
    }
   ],
   "source": [
    "refdata.groupby(['primary_mic']).size().sort_index()"
   ]
  },
  {
   "cell_type": "markdown",
   "metadata": {},
   "source": [
    "### 1. Start\n",
    "\n",
    "Count the number of executions within the executions.parquet file, determine the unique\n",
    "number of [‘Venue’]s and the date of executions. Log output this information."
   ]
  },
  {
   "cell_type": "code",
   "execution_count": 21,
   "metadata": {},
   "outputs": [
    {
     "data": {
      "text/plain": [
       "4203"
      ]
     },
     "execution_count": 21,
     "metadata": {},
     "output_type": "execute_result"
    }
   ],
   "source": [
    "#a. Count number of unique executions, based on trades made that have volume.\n",
    "\n",
    "a = len(executions[(executions['Quantity']!=0)])\n",
    "a"
   ]
  },
  {
   "cell_type": "code",
   "execution_count": 22,
   "metadata": {},
   "outputs": [
    {
     "data": {
      "text/plain": [
       "6"
      ]
     },
     "execution_count": 22,
     "metadata": {},
     "output_type": "execute_result"
    }
   ],
   "source": [
    "#b. Count unique number of venues.\n",
    "\n",
    "b = executions['Venue'].nunique()\n",
    "b"
   ]
  },
  {
   "cell_type": "code",
   "execution_count": 23,
   "metadata": {},
   "outputs": [
    {
     "data": {
      "text/plain": [
       "1"
      ]
     },
     "execution_count": 23,
     "metadata": {},
     "output_type": "execute_result"
    }
   ],
   "source": [
    "#c. Count unique number of dates.\n",
    "\n",
    "c = executions['TradeTime'].dt.date.nunique()\n",
    "c"
   ]
  },
  {
   "cell_type": "code",
   "execution_count": 24,
   "metadata": {},
   "outputs": [],
   "source": [
    "#create and configue a information logger.\n",
    "\n",
    "logging.basicConfig(filename=\"dspp.log\", \n",
    "\t\t\t\t\tformat='%(asctime)s %(message)s', \n",
    "\t\t\t\t\tfilemode='w') \n",
    "\n",
    "logger=logging.getLogger() \n",
    "\n",
    "logger.setLevel(logging.INFO) \n",
    "\n",
    "logger.info(f\"The unique number of executions with volume are {a}\") \n",
    "logger.info(f\"The unique number of venues are {b}\")\n",
    "logger.info(f\"The unique number of dates are {c}\")\n"
   ]
  },
  {
   "cell_type": "markdown",
   "metadata": {},
   "source": [
    "### 2. Data Cleaning"
   ]
  },
  {
   "cell_type": "code",
   "execution_count": 25,
   "metadata": {},
   "outputs": [
    {
     "data": {
      "text/html": [
       "<div>\n",
       "<style scoped>\n",
       "    .dataframe tbody tr th:only-of-type {\n",
       "        vertical-align: middle;\n",
       "    }\n",
       "\n",
       "    .dataframe tbody tr th {\n",
       "        vertical-align: top;\n",
       "    }\n",
       "\n",
       "    .dataframe thead th {\n",
       "        text-align: right;\n",
       "    }\n",
       "</style>\n",
       "<table border=\"1\" class=\"dataframe\">\n",
       "  <thead>\n",
       "    <tr style=\"text-align: right;\">\n",
       "      <th></th>\n",
       "      <th>ISIN</th>\n",
       "      <th>Currency</th>\n",
       "      <th>Venue</th>\n",
       "      <th>TradeTime</th>\n",
       "      <th>Price</th>\n",
       "      <th>Trade_id</th>\n",
       "      <th>Phase</th>\n",
       "      <th>Quantity</th>\n",
       "    </tr>\n",
       "  </thead>\n",
       "  <tbody>\n",
       "    <tr>\n",
       "      <th>100</th>\n",
       "      <td>BE0003851681</td>\n",
       "      <td>EUR</td>\n",
       "      <td>XBRU</td>\n",
       "      <td>2022-09-02 07:39:39.072</td>\n",
       "      <td>91.80</td>\n",
       "      <td>100</td>\n",
       "      <td>CONTINUOUS_TRADING</td>\n",
       "      <td>11</td>\n",
       "    </tr>\n",
       "    <tr>\n",
       "      <th>101</th>\n",
       "      <td>BE0003851681</td>\n",
       "      <td>EUR</td>\n",
       "      <td>XBRU</td>\n",
       "      <td>2022-09-02 07:43:05.795</td>\n",
       "      <td>91.90</td>\n",
       "      <td>101</td>\n",
       "      <td>CONTINUOUS_TRADING</td>\n",
       "      <td>16</td>\n",
       "    </tr>\n",
       "    <tr>\n",
       "      <th>102</th>\n",
       "      <td>BE0003851681</td>\n",
       "      <td>EUR</td>\n",
       "      <td>XBRU</td>\n",
       "      <td>2022-09-02 07:47:55.688</td>\n",
       "      <td>91.85</td>\n",
       "      <td>102</td>\n",
       "      <td>CONTINUOUS_TRADING</td>\n",
       "      <td>22</td>\n",
       "    </tr>\n",
       "    <tr>\n",
       "      <th>103</th>\n",
       "      <td>BE0003851681</td>\n",
       "      <td>EUR</td>\n",
       "      <td>XBRU</td>\n",
       "      <td>2022-09-02 07:50:54.472</td>\n",
       "      <td>91.95</td>\n",
       "      <td>103</td>\n",
       "      <td>CONTINUOUS_TRADING</td>\n",
       "      <td>17</td>\n",
       "    </tr>\n",
       "    <tr>\n",
       "      <th>104</th>\n",
       "      <td>BE0003851681</td>\n",
       "      <td>EUR</td>\n",
       "      <td>XBRU</td>\n",
       "      <td>2022-09-02 07:54:06.487</td>\n",
       "      <td>92.05</td>\n",
       "      <td>104</td>\n",
       "      <td>CONTINUOUS_TRADING</td>\n",
       "      <td>23</td>\n",
       "    </tr>\n",
       "  </tbody>\n",
       "</table>\n",
       "</div>"
      ],
      "text/plain": [
       "             ISIN Currency Venue               TradeTime  Price  Trade_id  \\\n",
       "100  BE0003851681      EUR  XBRU 2022-09-02 07:39:39.072  91.80       100   \n",
       "101  BE0003851681      EUR  XBRU 2022-09-02 07:43:05.795  91.90       101   \n",
       "102  BE0003851681      EUR  XBRU 2022-09-02 07:47:55.688  91.85       102   \n",
       "103  BE0003851681      EUR  XBRU 2022-09-02 07:50:54.472  91.95       103   \n",
       "104  BE0003851681      EUR  XBRU 2022-09-02 07:54:06.487  92.05       104   \n",
       "\n",
       "                  Phase  Quantity  \n",
       "100  CONTINUOUS_TRADING        11  \n",
       "101  CONTINUOUS_TRADING        16  \n",
       "102  CONTINUOUS_TRADING        22  \n",
       "103  CONTINUOUS_TRADING        17  \n",
       "104  CONTINUOUS_TRADING        23  "
      ]
     },
     "execution_count": 25,
     "metadata": {},
     "output_type": "execute_result"
    }
   ],
   "source": [
    "#a. Filter executions.paraquet for only CONTINUOUS_TRADING trades.\n",
    "\n",
    "executions_cont = executions[executions.Phase=='CONTINUOUS_TRADING']\n",
    "executions_cont.head()"
   ]
  },
  {
   "cell_type": "code",
   "execution_count": 26,
   "metadata": {},
   "outputs": [],
   "source": [
    "#b. appending to log file.\n",
    "\n",
    "logger.info(f\"List of all trades during the CONTINUOUS_TRADING Phase {executions_cont}\")"
   ]
  },
  {
   "cell_type": "markdown",
   "metadata": {},
   "source": [
    "### 3. Data Transformations"
   ]
  },
  {
   "cell_type": "code",
   "execution_count": 27,
   "metadata": {},
   "outputs": [
    {
     "data": {
      "text/html": [
       "<div>\n",
       "<style scoped>\n",
       "    .dataframe tbody tr th:only-of-type {\n",
       "        vertical-align: middle;\n",
       "    }\n",
       "\n",
       "    .dataframe tbody tr th {\n",
       "        vertical-align: top;\n",
       "    }\n",
       "\n",
       "    .dataframe thead th {\n",
       "        text-align: right;\n",
       "    }\n",
       "</style>\n",
       "<table border=\"1\" class=\"dataframe\">\n",
       "  <thead>\n",
       "    <tr style=\"text-align: right;\">\n",
       "      <th></th>\n",
       "      <th>ISIN</th>\n",
       "      <th>Currency</th>\n",
       "      <th>Venue</th>\n",
       "      <th>TradeTime</th>\n",
       "      <th>Price</th>\n",
       "      <th>Trade_id</th>\n",
       "      <th>Phase</th>\n",
       "      <th>Quantity</th>\n",
       "      <th>side</th>\n",
       "    </tr>\n",
       "  </thead>\n",
       "  <tbody>\n",
       "    <tr>\n",
       "      <th>0</th>\n",
       "      <td>DE0006305006</td>\n",
       "      <td>EUR</td>\n",
       "      <td>XETA</td>\n",
       "      <td>2022-09-02 07:00:09.160</td>\n",
       "      <td>3.606</td>\n",
       "      <td>0</td>\n",
       "      <td>OPENING_AUCTION</td>\n",
       "      <td>-150</td>\n",
       "      <td>-1</td>\n",
       "    </tr>\n",
       "    <tr>\n",
       "      <th>1</th>\n",
       "      <td>DE0006305006</td>\n",
       "      <td>EUR</td>\n",
       "      <td>XETA</td>\n",
       "      <td>2022-09-02 07:02:32.790</td>\n",
       "      <td>3.624</td>\n",
       "      <td>1</td>\n",
       "      <td>OPENING_AUCTION</td>\n",
       "      <td>-198</td>\n",
       "      <td>-1</td>\n",
       "    </tr>\n",
       "    <tr>\n",
       "      <th>2</th>\n",
       "      <td>DE0006305006</td>\n",
       "      <td>EUR</td>\n",
       "      <td>XETA</td>\n",
       "      <td>2022-09-02 07:03:01.573</td>\n",
       "      <td>3.622</td>\n",
       "      <td>2</td>\n",
       "      <td>OPENING_AUCTION</td>\n",
       "      <td>-85</td>\n",
       "      <td>-1</td>\n",
       "    </tr>\n",
       "    <tr>\n",
       "      <th>3</th>\n",
       "      <td>DE0006305006</td>\n",
       "      <td>EUR</td>\n",
       "      <td>XETA</td>\n",
       "      <td>2022-09-02 07:03:01.829</td>\n",
       "      <td>3.622</td>\n",
       "      <td>3</td>\n",
       "      <td>OPENING_AUCTION</td>\n",
       "      <td>-89</td>\n",
       "      <td>-1</td>\n",
       "    </tr>\n",
       "    <tr>\n",
       "      <th>4</th>\n",
       "      <td>DE0006305006</td>\n",
       "      <td>EUR</td>\n",
       "      <td>XETA</td>\n",
       "      <td>2022-09-02 07:03:48.935</td>\n",
       "      <td>3.626</td>\n",
       "      <td>4</td>\n",
       "      <td>OPENING_AUCTION</td>\n",
       "      <td>-119</td>\n",
       "      <td>-1</td>\n",
       "    </tr>\n",
       "  </tbody>\n",
       "</table>\n",
       "</div>"
      ],
      "text/plain": [
       "           ISIN Currency Venue               TradeTime  Price  Trade_id  \\\n",
       "0  DE0006305006      EUR  XETA 2022-09-02 07:00:09.160  3.606         0   \n",
       "1  DE0006305006      EUR  XETA 2022-09-02 07:02:32.790  3.624         1   \n",
       "2  DE0006305006      EUR  XETA 2022-09-02 07:03:01.573  3.622         2   \n",
       "3  DE0006305006      EUR  XETA 2022-09-02 07:03:01.829  3.622         3   \n",
       "4  DE0006305006      EUR  XETA 2022-09-02 07:03:48.935  3.626         4   \n",
       "\n",
       "             Phase  Quantity  side  \n",
       "0  OPENING_AUCTION      -150    -1  \n",
       "1  OPENING_AUCTION      -198    -1  \n",
       "2  OPENING_AUCTION       -85    -1  \n",
       "3  OPENING_AUCTION       -89    -1  \n",
       "4  OPENING_AUCTION      -119    -1  "
      ]
     },
     "execution_count": 27,
     "metadata": {},
     "output_type": "execute_result"
    }
   ],
   "source": [
    "#a. adding column [‘side’], if quantity is negative, side = -1, if quantity is positive side = 1.\n",
    "\n",
    "executions['side'] = np.where(executions['Quantity']>0, 1, -1)\n",
    "executions.head()\n"
   ]
  },
  {
   "cell_type": "code",
   "execution_count": 28,
   "metadata": {},
   "outputs": [
    {
     "name": "stdout",
     "output_type": "stream",
     "text": [
      "total number of executions_ref trades = 4203\n",
      "total number of executions = trades4203\n"
     ]
    },
    {
     "data": {
      "text/html": [
       "<div>\n",
       "<style scoped>\n",
       "    .dataframe tbody tr th:only-of-type {\n",
       "        vertical-align: middle;\n",
       "    }\n",
       "\n",
       "    .dataframe tbody tr th {\n",
       "        vertical-align: top;\n",
       "    }\n",
       "\n",
       "    .dataframe thead th {\n",
       "        text-align: right;\n",
       "    }\n",
       "</style>\n",
       "<table border=\"1\" class=\"dataframe\">\n",
       "  <thead>\n",
       "    <tr style=\"text-align: right;\">\n",
       "      <th></th>\n",
       "      <th>ISIN</th>\n",
       "      <th>Currency</th>\n",
       "      <th>Venue</th>\n",
       "      <th>TradeTime</th>\n",
       "      <th>Price</th>\n",
       "      <th>Trade_id</th>\n",
       "      <th>Phase</th>\n",
       "      <th>Quantity</th>\n",
       "      <th>side</th>\n",
       "      <th>id</th>\n",
       "      <th>primary_ticker</th>\n",
       "      <th>primary_mic</th>\n",
       "    </tr>\n",
       "  </thead>\n",
       "  <tbody>\n",
       "    <tr>\n",
       "      <th>0</th>\n",
       "      <td>DE0006305006</td>\n",
       "      <td>EUR</td>\n",
       "      <td>XETA</td>\n",
       "      <td>2022-09-02 07:00:09.160</td>\n",
       "      <td>3.606</td>\n",
       "      <td>0</td>\n",
       "      <td>OPENING_AUCTION</td>\n",
       "      <td>-150</td>\n",
       "      <td>-1</td>\n",
       "      <td>331530</td>\n",
       "      <td>DEZ</td>\n",
       "      <td>XETR</td>\n",
       "    </tr>\n",
       "    <tr>\n",
       "      <th>1</th>\n",
       "      <td>DE0006305006</td>\n",
       "      <td>EUR</td>\n",
       "      <td>XETA</td>\n",
       "      <td>2022-09-02 07:02:32.790</td>\n",
       "      <td>3.624</td>\n",
       "      <td>1</td>\n",
       "      <td>OPENING_AUCTION</td>\n",
       "      <td>-198</td>\n",
       "      <td>-1</td>\n",
       "      <td>331530</td>\n",
       "      <td>DEZ</td>\n",
       "      <td>XETR</td>\n",
       "    </tr>\n",
       "    <tr>\n",
       "      <th>2</th>\n",
       "      <td>DE0006305006</td>\n",
       "      <td>EUR</td>\n",
       "      <td>XETA</td>\n",
       "      <td>2022-09-02 07:03:01.573</td>\n",
       "      <td>3.622</td>\n",
       "      <td>2</td>\n",
       "      <td>OPENING_AUCTION</td>\n",
       "      <td>-85</td>\n",
       "      <td>-1</td>\n",
       "      <td>331530</td>\n",
       "      <td>DEZ</td>\n",
       "      <td>XETR</td>\n",
       "    </tr>\n",
       "    <tr>\n",
       "      <th>3</th>\n",
       "      <td>DE0006305006</td>\n",
       "      <td>EUR</td>\n",
       "      <td>XETA</td>\n",
       "      <td>2022-09-02 07:03:01.829</td>\n",
       "      <td>3.622</td>\n",
       "      <td>3</td>\n",
       "      <td>OPENING_AUCTION</td>\n",
       "      <td>-89</td>\n",
       "      <td>-1</td>\n",
       "      <td>331530</td>\n",
       "      <td>DEZ</td>\n",
       "      <td>XETR</td>\n",
       "    </tr>\n",
       "    <tr>\n",
       "      <th>4</th>\n",
       "      <td>DE0006305006</td>\n",
       "      <td>EUR</td>\n",
       "      <td>XETA</td>\n",
       "      <td>2022-09-02 07:03:48.935</td>\n",
       "      <td>3.626</td>\n",
       "      <td>4</td>\n",
       "      <td>OPENING_AUCTION</td>\n",
       "      <td>-119</td>\n",
       "      <td>-1</td>\n",
       "      <td>331530</td>\n",
       "      <td>DEZ</td>\n",
       "      <td>XETR</td>\n",
       "    </tr>\n",
       "  </tbody>\n",
       "</table>\n",
       "</div>"
      ],
      "text/plain": [
       "           ISIN Currency Venue               TradeTime  Price  Trade_id  \\\n",
       "0  DE0006305006      EUR  XETA 2022-09-02 07:00:09.160  3.606         0   \n",
       "1  DE0006305006      EUR  XETA 2022-09-02 07:02:32.790  3.624         1   \n",
       "2  DE0006305006      EUR  XETA 2022-09-02 07:03:01.573  3.622         2   \n",
       "3  DE0006305006      EUR  XETA 2022-09-02 07:03:01.829  3.622         3   \n",
       "4  DE0006305006      EUR  XETA 2022-09-02 07:03:48.935  3.626         4   \n",
       "\n",
       "             Phase  Quantity  side      id primary_ticker primary_mic  \n",
       "0  OPENING_AUCTION      -150    -1  331530            DEZ        XETR  \n",
       "1  OPENING_AUCTION      -198    -1  331530            DEZ        XETR  \n",
       "2  OPENING_AUCTION       -85    -1  331530            DEZ        XETR  \n",
       "3  OPENING_AUCTION       -89    -1  331530            DEZ        XETR  \n",
       "4  OPENING_AUCTION      -119    -1  331530            DEZ        XETR  "
      ]
     },
     "execution_count": 28,
     "metadata": {},
     "output_type": "execute_result"
    }
   ],
   "source": [
    "#b. join refdata to map in [‘primary_ticker’] & [‘primary_mic’] on primary key ISIN.\n",
    "#Note: the driving table should be executions, to validate we can do a count to match the original executions table count.\n",
    "\n",
    "executions_ref = executions.merge(refdata, on=['ISIN','Currency'], how='left')\n",
    "\n",
    "print(\"total number of executions_ref trades = \" + str(executions_ref['Trade_id'].count()))\n",
    "print(\"total number of executions = trades\" + str(executions['Trade_id'].count()))\n",
    "executions_ref.head()"
   ]
  },
  {
   "cell_type": "markdown",
   "metadata": {},
   "source": [
    "### 4. Calculations\n",
    "\n",
    "a. Best bid price and best ask (bbo) - bbo data in marketdata.parquet\\\n",
    "i. Find bbo price at execution, 1 second before execution and 1 second after execution\\\n",
    "from the marketdata.parquet file and add this data into the final output file –\\\n",
    "respective column table names [‘best_bid’,’best_ask’,\\\n",
    "‘best_bid_min_1s’,’best_ask_min_1s’, ‘best_bid_1s’,’best_ask_1s’]\\\n",
    "\\\n",
    "*assumption: its possible to join marketdata.listing_id = refdata.id*"
   ]
  },
  {
   "cell_type": "code",
   "execution_count": 29,
   "metadata": {},
   "outputs": [
    {
     "name": "stdout",
     "output_type": "stream",
     "text": [
      "the total number of unique id's in the executions file = 67\n",
      "the total number of unique primary_ticker in the executions file = 67\n",
      "the total number of unique ISIN in the executions file = 66\n",
      "the total number of unique primary_mic in the executions file = 5\n",
      "\n",
      "the total number of unique ISIN in the marketdata file = 19\n"
     ]
    }
   ],
   "source": [
    "#Note, not all primary tickers & ISINs are available.\n",
    "\n",
    "print(\"the total number of unique id's in the executions file = \" + str(executions_ref.id.nunique()))\n",
    "print(\"the total number of unique primary_ticker in the executions file = \" + str(executions_ref.primary_ticker.nunique()))\n",
    "print(\"the total number of unique ISIN in the executions file = \" + str(executions_ref.ISIN.nunique()))\n",
    "print(\"the total number of unique primary_mic in the executions file = \" + str(executions_ref.primary_mic.nunique()))\n",
    "print(\"\")\n",
    "print(\"the total number of unique ISIN in the marketdata file = \" + str(marketdata.listing_id.nunique()))\n"
   ]
  },
  {
   "cell_type": "code",
   "execution_count": 30,
   "metadata": {},
   "outputs": [],
   "source": [
    "# function add_adjusted_trade_times that creates 2 new columns showing minus seconds and a addition of seconds.\n",
    "\n",
    "def add_adjusted_trade_times(table, time_column, seconds):\n",
    "    table['{}_min_{}'.format(time_column, seconds)] = table[time_column] + pd.Timedelta(seconds=-seconds)\n",
    "    table['{}_{}'.format(time_column, seconds)] = table[time_column] + pd.Timedelta(seconds=seconds)"
   ]
  },
  {
   "cell_type": "code",
   "execution_count": 31,
   "metadata": {},
   "outputs": [],
   "source": [
    "# in our project we are using 1 second around the TradeTime on executions_ref.\n",
    "\n",
    "add_adjusted_trade_times(executions_ref, 'TradeTime', 1)"
   ]
  },
  {
   "cell_type": "code",
   "execution_count": 32,
   "metadata": {},
   "outputs": [],
   "source": [
    "# function merge_best that specifically takes pre defined executions table as the left & marketdata on the right, employing merge_asof to join.\n",
    "# remove 'best_bid_size','best_ask_size, if you want to reduce the output and do no studies on volume. \n",
    "\n",
    "def merge_and_clean_best(left_df, right_df):\n",
    "    merged_df = pd.merge_asof(left_df.sort_values(by='TradeTime'),\n",
    "                              right_df.sort_values(by='event_timestamp'),\n",
    "                              left_by='id',\n",
    "                              right_by='listing_id',\n",
    "                              left_on='TradeTime',\n",
    "                              right_on='event_timestamp',\n",
    "                              direction='nearest',\n",
    "                              tolerance=pd.Timedelta(\"500ms\"))\n",
    "    \n",
    "    clean_df = merged_df.drop(columns=['event_timestamp', 'listing_id', 'primary_mic_y']) \\\n",
    "                        .rename(columns={'best_bid_price': 'best_bid', 'best_ask_price': 'best_ask', 'market_state': 'market_state_best'})\n",
    "    \n",
    "    return clean_df"
   ]
  },
  {
   "cell_type": "code",
   "execution_count": 33,
   "metadata": {},
   "outputs": [],
   "source": [
    "merged_best = merge_and_clean_best(executions_ref,marketdata);"
   ]
  },
  {
   "cell_type": "code",
   "execution_count": 34,
   "metadata": {},
   "outputs": [
    {
     "name": "stdout",
     "output_type": "stream",
     "text": [
      "4203\n"
     ]
    },
    {
     "data": {
      "text/html": [
       "<div>\n",
       "<style scoped>\n",
       "    .dataframe tbody tr th:only-of-type {\n",
       "        vertical-align: middle;\n",
       "    }\n",
       "\n",
       "    .dataframe tbody tr th {\n",
       "        vertical-align: top;\n",
       "    }\n",
       "\n",
       "    .dataframe thead th {\n",
       "        text-align: right;\n",
       "    }\n",
       "</style>\n",
       "<table border=\"1\" class=\"dataframe\">\n",
       "  <thead>\n",
       "    <tr style=\"text-align: right;\">\n",
       "      <th></th>\n",
       "      <th>ISIN</th>\n",
       "      <th>Currency</th>\n",
       "      <th>Venue</th>\n",
       "      <th>TradeTime</th>\n",
       "      <th>Price</th>\n",
       "      <th>Trade_id</th>\n",
       "      <th>Phase</th>\n",
       "      <th>Quantity</th>\n",
       "      <th>side</th>\n",
       "      <th>id</th>\n",
       "      <th>primary_ticker</th>\n",
       "      <th>primary_mic_x</th>\n",
       "      <th>TradeTime_min_1</th>\n",
       "      <th>TradeTime_1</th>\n",
       "      <th>best_bid_size</th>\n",
       "      <th>best_bid</th>\n",
       "      <th>best_ask</th>\n",
       "      <th>best_ask_size</th>\n",
       "      <th>market_state_best</th>\n",
       "    </tr>\n",
       "  </thead>\n",
       "  <tbody>\n",
       "    <tr>\n",
       "      <th>1</th>\n",
       "      <td>BE0003851681</td>\n",
       "      <td>EUR</td>\n",
       "      <td>XBRU</td>\n",
       "      <td>2022-09-02 07:00:25.196</td>\n",
       "      <td>92.80</td>\n",
       "      <td>82</td>\n",
       "      <td>OPENING_AUCTION</td>\n",
       "      <td>71</td>\n",
       "      <td>1</td>\n",
       "      <td>328336</td>\n",
       "      <td>AED</td>\n",
       "      <td>XBRU</td>\n",
       "      <td>2022-09-02 07:00:24.196</td>\n",
       "      <td>2022-09-02 07:00:26.196</td>\n",
       "      <td>28.0</td>\n",
       "      <td>92.80</td>\n",
       "      <td>92.90</td>\n",
       "      <td>84.0</td>\n",
       "      <td>OPENING_AUCTION</td>\n",
       "    </tr>\n",
       "    <tr>\n",
       "      <th>2</th>\n",
       "      <td>BE0003851681</td>\n",
       "      <td>EUR</td>\n",
       "      <td>XBRU</td>\n",
       "      <td>2022-09-02 07:02:02.577</td>\n",
       "      <td>93.05</td>\n",
       "      <td>83</td>\n",
       "      <td>OPENING_AUCTION</td>\n",
       "      <td>13</td>\n",
       "      <td>1</td>\n",
       "      <td>328336</td>\n",
       "      <td>AED</td>\n",
       "      <td>XBRU</td>\n",
       "      <td>2022-09-02 07:02:01.577</td>\n",
       "      <td>2022-09-02 07:02:03.577</td>\n",
       "      <td>8.0</td>\n",
       "      <td>93.05</td>\n",
       "      <td>93.35</td>\n",
       "      <td>56.0</td>\n",
       "      <td>CONTINUOUS_TRADING</td>\n",
       "    </tr>\n",
       "    <tr>\n",
       "      <th>18</th>\n",
       "      <td>BE0003851681</td>\n",
       "      <td>EUR</td>\n",
       "      <td>XBRU</td>\n",
       "      <td>2022-09-02 07:08:11.684</td>\n",
       "      <td>93.10</td>\n",
       "      <td>84</td>\n",
       "      <td>OPENING_AUCTION</td>\n",
       "      <td>42</td>\n",
       "      <td>1</td>\n",
       "      <td>328336</td>\n",
       "      <td>AED</td>\n",
       "      <td>XBRU</td>\n",
       "      <td>2022-09-02 07:08:10.684</td>\n",
       "      <td>2022-09-02 07:08:12.684</td>\n",
       "      <td>147.0</td>\n",
       "      <td>93.05</td>\n",
       "      <td>93.25</td>\n",
       "      <td>40.0</td>\n",
       "      <td>CONTINUOUS_TRADING</td>\n",
       "    </tr>\n",
       "    <tr>\n",
       "      <th>24</th>\n",
       "      <td>BE0003851681</td>\n",
       "      <td>EUR</td>\n",
       "      <td>XBRU</td>\n",
       "      <td>2022-09-02 07:09:07.953</td>\n",
       "      <td>93.15</td>\n",
       "      <td>85</td>\n",
       "      <td>OPENING_AUCTION</td>\n",
       "      <td>13</td>\n",
       "      <td>1</td>\n",
       "      <td>328336</td>\n",
       "      <td>AED</td>\n",
       "      <td>XBRU</td>\n",
       "      <td>2022-09-02 07:09:06.953</td>\n",
       "      <td>2022-09-02 07:09:08.953</td>\n",
       "      <td>87.0</td>\n",
       "      <td>93.05</td>\n",
       "      <td>93.25</td>\n",
       "      <td>48.0</td>\n",
       "      <td>CONTINUOUS_TRADING</td>\n",
       "    </tr>\n",
       "    <tr>\n",
       "      <th>29</th>\n",
       "      <td>BE0003851681</td>\n",
       "      <td>EUR</td>\n",
       "      <td>XBRU</td>\n",
       "      <td>2022-09-02 07:10:16.279</td>\n",
       "      <td>92.85</td>\n",
       "      <td>86</td>\n",
       "      <td>OPENING_AUCTION</td>\n",
       "      <td>15</td>\n",
       "      <td>1</td>\n",
       "      <td>328336</td>\n",
       "      <td>AED</td>\n",
       "      <td>XBRU</td>\n",
       "      <td>2022-09-02 07:10:15.279</td>\n",
       "      <td>2022-09-02 07:10:17.279</td>\n",
       "      <td>107.0</td>\n",
       "      <td>92.75</td>\n",
       "      <td>92.90</td>\n",
       "      <td>55.0</td>\n",
       "      <td>CONTINUOUS_TRADING</td>\n",
       "    </tr>\n",
       "  </tbody>\n",
       "</table>\n",
       "</div>"
      ],
      "text/plain": [
       "            ISIN Currency Venue               TradeTime  Price  Trade_id  \\\n",
       "1   BE0003851681      EUR  XBRU 2022-09-02 07:00:25.196  92.80        82   \n",
       "2   BE0003851681      EUR  XBRU 2022-09-02 07:02:02.577  93.05        83   \n",
       "18  BE0003851681      EUR  XBRU 2022-09-02 07:08:11.684  93.10        84   \n",
       "24  BE0003851681      EUR  XBRU 2022-09-02 07:09:07.953  93.15        85   \n",
       "29  BE0003851681      EUR  XBRU 2022-09-02 07:10:16.279  92.85        86   \n",
       "\n",
       "              Phase  Quantity  side      id primary_ticker primary_mic_x  \\\n",
       "1   OPENING_AUCTION        71     1  328336            AED          XBRU   \n",
       "2   OPENING_AUCTION        13     1  328336            AED          XBRU   \n",
       "18  OPENING_AUCTION        42     1  328336            AED          XBRU   \n",
       "24  OPENING_AUCTION        13     1  328336            AED          XBRU   \n",
       "29  OPENING_AUCTION        15     1  328336            AED          XBRU   \n",
       "\n",
       "           TradeTime_min_1             TradeTime_1  best_bid_size  best_bid  \\\n",
       "1  2022-09-02 07:00:24.196 2022-09-02 07:00:26.196           28.0     92.80   \n",
       "2  2022-09-02 07:02:01.577 2022-09-02 07:02:03.577            8.0     93.05   \n",
       "18 2022-09-02 07:08:10.684 2022-09-02 07:08:12.684          147.0     93.05   \n",
       "24 2022-09-02 07:09:06.953 2022-09-02 07:09:08.953           87.0     93.05   \n",
       "29 2022-09-02 07:10:15.279 2022-09-02 07:10:17.279          107.0     92.75   \n",
       "\n",
       "    best_ask  best_ask_size   market_state_best  \n",
       "1      92.90           84.0     OPENING_AUCTION  \n",
       "2      93.35           56.0  CONTINUOUS_TRADING  \n",
       "18     93.25           40.0  CONTINUOUS_TRADING  \n",
       "24     93.25           48.0  CONTINUOUS_TRADING  \n",
       "29     92.90           55.0  CONTINUOUS_TRADING  "
      ]
     },
     "execution_count": 34,
     "metadata": {},
     "output_type": "execute_result"
    }
   ],
   "source": [
    "print(len(merged_best))\n",
    "merged_best.loc[merged_best['primary_ticker'] == 'AED'].sort_values(by=['Trade_id'], ascending=True).head()"
   ]
  },
  {
   "cell_type": "code",
   "execution_count": 35,
   "metadata": {},
   "outputs": [],
   "source": [
    "# function merge_and_clean_min_1 that adds in -1 second market data.\n",
    "\n",
    "def merge_and_clean_min_1(left_df, right_df):\n",
    "   merged_df = pd.merge_asof(left_df.sort_values(by='TradeTime_min_1'),\n",
    "                             right_df.sort_values(by='event_timestamp'),\n",
    "                             left_by='id',\n",
    "                             right_by='listing_id',\n",
    "                             left_on='TradeTime_min_1',\n",
    "                             right_on='event_timestamp',\n",
    "                             direction='nearest',\n",
    "                             tolerance=pd.Timedelta(\"100ms\"))\n",
    "   \n",
    "   clean_df = merged_df.drop(columns=['event_timestamp','listing_id','primary_mic']) \\\n",
    "                        .rename(columns={'best_bid_price': 'best_bid_min_1s', 'best_ask_price': 'best_ask_min_1s','market_state':'market_state_min_1s'})\n",
    "\n",
    "   return clean_df\n",
    "    "
   ]
  },
  {
   "cell_type": "code",
   "execution_count": 36,
   "metadata": {},
   "outputs": [],
   "source": [
    "merged_min_1 = merge_and_clean_min_1(merged_best,marketdata);"
   ]
  },
  {
   "cell_type": "code",
   "execution_count": 37,
   "metadata": {},
   "outputs": [
    {
     "name": "stdout",
     "output_type": "stream",
     "text": [
      "4203\n"
     ]
    },
    {
     "data": {
      "text/html": [
       "<div>\n",
       "<style scoped>\n",
       "    .dataframe tbody tr th:only-of-type {\n",
       "        vertical-align: middle;\n",
       "    }\n",
       "\n",
       "    .dataframe tbody tr th {\n",
       "        vertical-align: top;\n",
       "    }\n",
       "\n",
       "    .dataframe thead th {\n",
       "        text-align: right;\n",
       "    }\n",
       "</style>\n",
       "<table border=\"1\" class=\"dataframe\">\n",
       "  <thead>\n",
       "    <tr style=\"text-align: right;\">\n",
       "      <th></th>\n",
       "      <th>ISIN</th>\n",
       "      <th>Currency</th>\n",
       "      <th>Venue</th>\n",
       "      <th>TradeTime</th>\n",
       "      <th>Price</th>\n",
       "      <th>Trade_id</th>\n",
       "      <th>Phase</th>\n",
       "      <th>Quantity</th>\n",
       "      <th>side</th>\n",
       "      <th>id</th>\n",
       "      <th>primary_ticker</th>\n",
       "      <th>primary_mic_x</th>\n",
       "      <th>TradeTime_min_1</th>\n",
       "      <th>TradeTime_1</th>\n",
       "      <th>best_bid_size_x</th>\n",
       "      <th>best_bid</th>\n",
       "      <th>best_ask</th>\n",
       "      <th>best_ask_size_x</th>\n",
       "      <th>market_state_best</th>\n",
       "      <th>best_bid_size_y</th>\n",
       "      <th>best_bid_min_1s</th>\n",
       "      <th>best_ask_min_1s</th>\n",
       "      <th>best_ask_size_y</th>\n",
       "      <th>market_state_min_1s</th>\n",
       "    </tr>\n",
       "  </thead>\n",
       "  <tbody>\n",
       "    <tr>\n",
       "      <th>1</th>\n",
       "      <td>BE0003851681</td>\n",
       "      <td>EUR</td>\n",
       "      <td>XBRU</td>\n",
       "      <td>2022-09-02 07:00:25.196</td>\n",
       "      <td>92.80</td>\n",
       "      <td>82</td>\n",
       "      <td>OPENING_AUCTION</td>\n",
       "      <td>71</td>\n",
       "      <td>1</td>\n",
       "      <td>328336</td>\n",
       "      <td>AED</td>\n",
       "      <td>XBRU</td>\n",
       "      <td>2022-09-02 07:00:24.196</td>\n",
       "      <td>2022-09-02 07:00:26.196</td>\n",
       "      <td>28.0</td>\n",
       "      <td>92.80</td>\n",
       "      <td>92.90</td>\n",
       "      <td>84.0</td>\n",
       "      <td>OPENING_AUCTION</td>\n",
       "      <td>NaN</td>\n",
       "      <td>NaN</td>\n",
       "      <td>NaN</td>\n",
       "      <td>NaN</td>\n",
       "      <td>NaN</td>\n",
       "    </tr>\n",
       "    <tr>\n",
       "      <th>2</th>\n",
       "      <td>BE0003851681</td>\n",
       "      <td>EUR</td>\n",
       "      <td>XBRU</td>\n",
       "      <td>2022-09-02 07:02:02.577</td>\n",
       "      <td>93.05</td>\n",
       "      <td>83</td>\n",
       "      <td>OPENING_AUCTION</td>\n",
       "      <td>13</td>\n",
       "      <td>1</td>\n",
       "      <td>328336</td>\n",
       "      <td>AED</td>\n",
       "      <td>XBRU</td>\n",
       "      <td>2022-09-02 07:02:01.577</td>\n",
       "      <td>2022-09-02 07:02:03.577</td>\n",
       "      <td>8.0</td>\n",
       "      <td>93.05</td>\n",
       "      <td>93.35</td>\n",
       "      <td>56.0</td>\n",
       "      <td>CONTINUOUS_TRADING</td>\n",
       "      <td>NaN</td>\n",
       "      <td>NaN</td>\n",
       "      <td>NaN</td>\n",
       "      <td>NaN</td>\n",
       "      <td>NaN</td>\n",
       "    </tr>\n",
       "    <tr>\n",
       "      <th>18</th>\n",
       "      <td>BE0003851681</td>\n",
       "      <td>EUR</td>\n",
       "      <td>XBRU</td>\n",
       "      <td>2022-09-02 07:08:11.684</td>\n",
       "      <td>93.10</td>\n",
       "      <td>84</td>\n",
       "      <td>OPENING_AUCTION</td>\n",
       "      <td>42</td>\n",
       "      <td>1</td>\n",
       "      <td>328336</td>\n",
       "      <td>AED</td>\n",
       "      <td>XBRU</td>\n",
       "      <td>2022-09-02 07:08:10.684</td>\n",
       "      <td>2022-09-02 07:08:12.684</td>\n",
       "      <td>147.0</td>\n",
       "      <td>93.05</td>\n",
       "      <td>93.25</td>\n",
       "      <td>40.0</td>\n",
       "      <td>CONTINUOUS_TRADING</td>\n",
       "      <td>NaN</td>\n",
       "      <td>NaN</td>\n",
       "      <td>NaN</td>\n",
       "      <td>NaN</td>\n",
       "      <td>NaN</td>\n",
       "    </tr>\n",
       "    <tr>\n",
       "      <th>24</th>\n",
       "      <td>BE0003851681</td>\n",
       "      <td>EUR</td>\n",
       "      <td>XBRU</td>\n",
       "      <td>2022-09-02 07:09:07.953</td>\n",
       "      <td>93.15</td>\n",
       "      <td>85</td>\n",
       "      <td>OPENING_AUCTION</td>\n",
       "      <td>13</td>\n",
       "      <td>1</td>\n",
       "      <td>328336</td>\n",
       "      <td>AED</td>\n",
       "      <td>XBRU</td>\n",
       "      <td>2022-09-02 07:09:06.953</td>\n",
       "      <td>2022-09-02 07:09:08.953</td>\n",
       "      <td>87.0</td>\n",
       "      <td>93.05</td>\n",
       "      <td>93.25</td>\n",
       "      <td>48.0</td>\n",
       "      <td>CONTINUOUS_TRADING</td>\n",
       "      <td>NaN</td>\n",
       "      <td>NaN</td>\n",
       "      <td>NaN</td>\n",
       "      <td>NaN</td>\n",
       "      <td>NaN</td>\n",
       "    </tr>\n",
       "    <tr>\n",
       "      <th>29</th>\n",
       "      <td>BE0003851681</td>\n",
       "      <td>EUR</td>\n",
       "      <td>XBRU</td>\n",
       "      <td>2022-09-02 07:10:16.279</td>\n",
       "      <td>92.85</td>\n",
       "      <td>86</td>\n",
       "      <td>OPENING_AUCTION</td>\n",
       "      <td>15</td>\n",
       "      <td>1</td>\n",
       "      <td>328336</td>\n",
       "      <td>AED</td>\n",
       "      <td>XBRU</td>\n",
       "      <td>2022-09-02 07:10:15.279</td>\n",
       "      <td>2022-09-02 07:10:17.279</td>\n",
       "      <td>107.0</td>\n",
       "      <td>92.75</td>\n",
       "      <td>92.90</td>\n",
       "      <td>55.0</td>\n",
       "      <td>CONTINUOUS_TRADING</td>\n",
       "      <td>NaN</td>\n",
       "      <td>NaN</td>\n",
       "      <td>NaN</td>\n",
       "      <td>NaN</td>\n",
       "      <td>NaN</td>\n",
       "    </tr>\n",
       "  </tbody>\n",
       "</table>\n",
       "</div>"
      ],
      "text/plain": [
       "            ISIN Currency Venue               TradeTime  Price  Trade_id  \\\n",
       "1   BE0003851681      EUR  XBRU 2022-09-02 07:00:25.196  92.80        82   \n",
       "2   BE0003851681      EUR  XBRU 2022-09-02 07:02:02.577  93.05        83   \n",
       "18  BE0003851681      EUR  XBRU 2022-09-02 07:08:11.684  93.10        84   \n",
       "24  BE0003851681      EUR  XBRU 2022-09-02 07:09:07.953  93.15        85   \n",
       "29  BE0003851681      EUR  XBRU 2022-09-02 07:10:16.279  92.85        86   \n",
       "\n",
       "              Phase  Quantity  side      id primary_ticker primary_mic_x  \\\n",
       "1   OPENING_AUCTION        71     1  328336            AED          XBRU   \n",
       "2   OPENING_AUCTION        13     1  328336            AED          XBRU   \n",
       "18  OPENING_AUCTION        42     1  328336            AED          XBRU   \n",
       "24  OPENING_AUCTION        13     1  328336            AED          XBRU   \n",
       "29  OPENING_AUCTION        15     1  328336            AED          XBRU   \n",
       "\n",
       "           TradeTime_min_1             TradeTime_1  best_bid_size_x  best_bid  \\\n",
       "1  2022-09-02 07:00:24.196 2022-09-02 07:00:26.196             28.0     92.80   \n",
       "2  2022-09-02 07:02:01.577 2022-09-02 07:02:03.577              8.0     93.05   \n",
       "18 2022-09-02 07:08:10.684 2022-09-02 07:08:12.684            147.0     93.05   \n",
       "24 2022-09-02 07:09:06.953 2022-09-02 07:09:08.953             87.0     93.05   \n",
       "29 2022-09-02 07:10:15.279 2022-09-02 07:10:17.279            107.0     92.75   \n",
       "\n",
       "    best_ask  best_ask_size_x   market_state_best  best_bid_size_y  \\\n",
       "1      92.90             84.0     OPENING_AUCTION              NaN   \n",
       "2      93.35             56.0  CONTINUOUS_TRADING              NaN   \n",
       "18     93.25             40.0  CONTINUOUS_TRADING              NaN   \n",
       "24     93.25             48.0  CONTINUOUS_TRADING              NaN   \n",
       "29     92.90             55.0  CONTINUOUS_TRADING              NaN   \n",
       "\n",
       "    best_bid_min_1s  best_ask_min_1s  best_ask_size_y market_state_min_1s  \n",
       "1               NaN              NaN              NaN                 NaN  \n",
       "2               NaN              NaN              NaN                 NaN  \n",
       "18              NaN              NaN              NaN                 NaN  \n",
       "24              NaN              NaN              NaN                 NaN  \n",
       "29              NaN              NaN              NaN                 NaN  "
      ]
     },
     "execution_count": 37,
     "metadata": {},
     "output_type": "execute_result"
    }
   ],
   "source": [
    "print(len(merged_min_1))\n",
    "merged_min_1.loc[merged_min_1['primary_ticker'] == 'AED'].sort_values(by=['Trade_id'], ascending=True).head()"
   ]
  },
  {
   "cell_type": "code",
   "execution_count": 38,
   "metadata": {},
   "outputs": [],
   "source": [
    "# function merge_and_clean_1 that adds in +1 second market data.\n",
    "\n",
    "def merge_and_clean_1(left_df, right_df):\n",
    "   merged_df = pd.merge_asof(merged_min_1.sort_values(by='TradeTime_1'),\n",
    "                             marketdata.sort_values(by='event_timestamp'),\n",
    "                             left_by='id',\n",
    "                             right_by='listing_id',\n",
    "                             left_on='TradeTime_1',\n",
    "                             right_on='event_timestamp',\n",
    "                             direction='nearest',\n",
    "                             tolerance=pd.Timedelta(\"100ms\"))\n",
    "   \n",
    "   clean_df = merged_df.drop(columns=['event_timestamp','listing_id','best_bid_size_y','best_ask_size_y','primary_mic']) \\\n",
    "               .rename(columns={'best_bid_price': 'best_bid_1s', 'best_ask_price': 'best_ask_1s','market_state':'market_state_1s', 'primary_mic_x': 'primary_mic', 'best_bid_size_x':'best_bid_size', 'best_ask_size_x':'best_ask_size' })\n",
    "\n",
    "   return clean_df\n"
   ]
  },
  {
   "cell_type": "code",
   "execution_count": 39,
   "metadata": {},
   "outputs": [],
   "source": [
    "merged_all = merge_and_clean_1(merged_min_1,marketdata);"
   ]
  },
  {
   "cell_type": "code",
   "execution_count": 40,
   "metadata": {},
   "outputs": [
    {
     "name": "stdout",
     "output_type": "stream",
     "text": [
      "4203\n"
     ]
    },
    {
     "data": {
      "text/html": [
       "<div>\n",
       "<style scoped>\n",
       "    .dataframe tbody tr th:only-of-type {\n",
       "        vertical-align: middle;\n",
       "    }\n",
       "\n",
       "    .dataframe tbody tr th {\n",
       "        vertical-align: top;\n",
       "    }\n",
       "\n",
       "    .dataframe thead th {\n",
       "        text-align: right;\n",
       "    }\n",
       "</style>\n",
       "<table border=\"1\" class=\"dataframe\">\n",
       "  <thead>\n",
       "    <tr style=\"text-align: right;\">\n",
       "      <th></th>\n",
       "      <th>ISIN</th>\n",
       "      <th>Currency</th>\n",
       "      <th>Venue</th>\n",
       "      <th>TradeTime</th>\n",
       "      <th>Price</th>\n",
       "      <th>Trade_id</th>\n",
       "      <th>Phase</th>\n",
       "      <th>Quantity</th>\n",
       "      <th>side</th>\n",
       "      <th>id</th>\n",
       "      <th>primary_ticker</th>\n",
       "      <th>primary_mic</th>\n",
       "      <th>TradeTime_min_1</th>\n",
       "      <th>TradeTime_1</th>\n",
       "      <th>best_bid_size</th>\n",
       "      <th>best_bid</th>\n",
       "      <th>best_ask</th>\n",
       "      <th>best_ask_size</th>\n",
       "      <th>market_state_best</th>\n",
       "      <th>best_bid_min_1s</th>\n",
       "      <th>best_ask_min_1s</th>\n",
       "      <th>market_state_min_1s</th>\n",
       "      <th>best_bid_size</th>\n",
       "      <th>best_bid_1s</th>\n",
       "      <th>best_ask_1s</th>\n",
       "      <th>best_ask_size</th>\n",
       "      <th>market_state_1s</th>\n",
       "    </tr>\n",
       "  </thead>\n",
       "  <tbody>\n",
       "    <tr>\n",
       "      <th>1</th>\n",
       "      <td>BE0003851681</td>\n",
       "      <td>EUR</td>\n",
       "      <td>XBRU</td>\n",
       "      <td>2022-09-02 07:00:25.196</td>\n",
       "      <td>92.80</td>\n",
       "      <td>82</td>\n",
       "      <td>OPENING_AUCTION</td>\n",
       "      <td>71</td>\n",
       "      <td>1</td>\n",
       "      <td>328336</td>\n",
       "      <td>AED</td>\n",
       "      <td>XBRU</td>\n",
       "      <td>2022-09-02 07:00:24.196</td>\n",
       "      <td>2022-09-02 07:00:26.196</td>\n",
       "      <td>28.0</td>\n",
       "      <td>92.80</td>\n",
       "      <td>92.90</td>\n",
       "      <td>84.0</td>\n",
       "      <td>OPENING_AUCTION</td>\n",
       "      <td>NaN</td>\n",
       "      <td>NaN</td>\n",
       "      <td>NaN</td>\n",
       "      <td>NaN</td>\n",
       "      <td>NaN</td>\n",
       "      <td>NaN</td>\n",
       "      <td>NaN</td>\n",
       "      <td>NaN</td>\n",
       "    </tr>\n",
       "    <tr>\n",
       "      <th>2</th>\n",
       "      <td>BE0003851681</td>\n",
       "      <td>EUR</td>\n",
       "      <td>XBRU</td>\n",
       "      <td>2022-09-02 07:02:02.577</td>\n",
       "      <td>93.05</td>\n",
       "      <td>83</td>\n",
       "      <td>OPENING_AUCTION</td>\n",
       "      <td>13</td>\n",
       "      <td>1</td>\n",
       "      <td>328336</td>\n",
       "      <td>AED</td>\n",
       "      <td>XBRU</td>\n",
       "      <td>2022-09-02 07:02:01.577</td>\n",
       "      <td>2022-09-02 07:02:03.577</td>\n",
       "      <td>8.0</td>\n",
       "      <td>93.05</td>\n",
       "      <td>93.35</td>\n",
       "      <td>56.0</td>\n",
       "      <td>CONTINUOUS_TRADING</td>\n",
       "      <td>NaN</td>\n",
       "      <td>NaN</td>\n",
       "      <td>NaN</td>\n",
       "      <td>NaN</td>\n",
       "      <td>NaN</td>\n",
       "      <td>NaN</td>\n",
       "      <td>NaN</td>\n",
       "      <td>NaN</td>\n",
       "    </tr>\n",
       "    <tr>\n",
       "      <th>18</th>\n",
       "      <td>BE0003851681</td>\n",
       "      <td>EUR</td>\n",
       "      <td>XBRU</td>\n",
       "      <td>2022-09-02 07:08:11.684</td>\n",
       "      <td>93.10</td>\n",
       "      <td>84</td>\n",
       "      <td>OPENING_AUCTION</td>\n",
       "      <td>42</td>\n",
       "      <td>1</td>\n",
       "      <td>328336</td>\n",
       "      <td>AED</td>\n",
       "      <td>XBRU</td>\n",
       "      <td>2022-09-02 07:08:10.684</td>\n",
       "      <td>2022-09-02 07:08:12.684</td>\n",
       "      <td>147.0</td>\n",
       "      <td>93.05</td>\n",
       "      <td>93.25</td>\n",
       "      <td>40.0</td>\n",
       "      <td>CONTINUOUS_TRADING</td>\n",
       "      <td>NaN</td>\n",
       "      <td>NaN</td>\n",
       "      <td>NaN</td>\n",
       "      <td>26.0</td>\n",
       "      <td>93.05</td>\n",
       "      <td>93.25</td>\n",
       "      <td>88.0</td>\n",
       "      <td>CONTINUOUS_TRADING</td>\n",
       "    </tr>\n",
       "    <tr>\n",
       "      <th>24</th>\n",
       "      <td>BE0003851681</td>\n",
       "      <td>EUR</td>\n",
       "      <td>XBRU</td>\n",
       "      <td>2022-09-02 07:09:07.953</td>\n",
       "      <td>93.15</td>\n",
       "      <td>85</td>\n",
       "      <td>OPENING_AUCTION</td>\n",
       "      <td>13</td>\n",
       "      <td>1</td>\n",
       "      <td>328336</td>\n",
       "      <td>AED</td>\n",
       "      <td>XBRU</td>\n",
       "      <td>2022-09-02 07:09:06.953</td>\n",
       "      <td>2022-09-02 07:09:08.953</td>\n",
       "      <td>87.0</td>\n",
       "      <td>93.05</td>\n",
       "      <td>93.25</td>\n",
       "      <td>48.0</td>\n",
       "      <td>CONTINUOUS_TRADING</td>\n",
       "      <td>NaN</td>\n",
       "      <td>NaN</td>\n",
       "      <td>NaN</td>\n",
       "      <td>NaN</td>\n",
       "      <td>NaN</td>\n",
       "      <td>NaN</td>\n",
       "      <td>NaN</td>\n",
       "      <td>NaN</td>\n",
       "    </tr>\n",
       "    <tr>\n",
       "      <th>29</th>\n",
       "      <td>BE0003851681</td>\n",
       "      <td>EUR</td>\n",
       "      <td>XBRU</td>\n",
       "      <td>2022-09-02 07:10:16.279</td>\n",
       "      <td>92.85</td>\n",
       "      <td>86</td>\n",
       "      <td>OPENING_AUCTION</td>\n",
       "      <td>15</td>\n",
       "      <td>1</td>\n",
       "      <td>328336</td>\n",
       "      <td>AED</td>\n",
       "      <td>XBRU</td>\n",
       "      <td>2022-09-02 07:10:15.279</td>\n",
       "      <td>2022-09-02 07:10:17.279</td>\n",
       "      <td>107.0</td>\n",
       "      <td>92.75</td>\n",
       "      <td>92.90</td>\n",
       "      <td>55.0</td>\n",
       "      <td>CONTINUOUS_TRADING</td>\n",
       "      <td>NaN</td>\n",
       "      <td>NaN</td>\n",
       "      <td>NaN</td>\n",
       "      <td>164.0</td>\n",
       "      <td>92.70</td>\n",
       "      <td>92.85</td>\n",
       "      <td>55.0</td>\n",
       "      <td>CONTINUOUS_TRADING</td>\n",
       "    </tr>\n",
       "  </tbody>\n",
       "</table>\n",
       "</div>"
      ],
      "text/plain": [
       "            ISIN Currency Venue               TradeTime  Price  Trade_id  \\\n",
       "1   BE0003851681      EUR  XBRU 2022-09-02 07:00:25.196  92.80        82   \n",
       "2   BE0003851681      EUR  XBRU 2022-09-02 07:02:02.577  93.05        83   \n",
       "18  BE0003851681      EUR  XBRU 2022-09-02 07:08:11.684  93.10        84   \n",
       "24  BE0003851681      EUR  XBRU 2022-09-02 07:09:07.953  93.15        85   \n",
       "29  BE0003851681      EUR  XBRU 2022-09-02 07:10:16.279  92.85        86   \n",
       "\n",
       "              Phase  Quantity  side      id primary_ticker primary_mic  \\\n",
       "1   OPENING_AUCTION        71     1  328336            AED        XBRU   \n",
       "2   OPENING_AUCTION        13     1  328336            AED        XBRU   \n",
       "18  OPENING_AUCTION        42     1  328336            AED        XBRU   \n",
       "24  OPENING_AUCTION        13     1  328336            AED        XBRU   \n",
       "29  OPENING_AUCTION        15     1  328336            AED        XBRU   \n",
       "\n",
       "           TradeTime_min_1             TradeTime_1  best_bid_size  best_bid  \\\n",
       "1  2022-09-02 07:00:24.196 2022-09-02 07:00:26.196           28.0     92.80   \n",
       "2  2022-09-02 07:02:01.577 2022-09-02 07:02:03.577            8.0     93.05   \n",
       "18 2022-09-02 07:08:10.684 2022-09-02 07:08:12.684          147.0     93.05   \n",
       "24 2022-09-02 07:09:06.953 2022-09-02 07:09:08.953           87.0     93.05   \n",
       "29 2022-09-02 07:10:15.279 2022-09-02 07:10:17.279          107.0     92.75   \n",
       "\n",
       "    best_ask  best_ask_size   market_state_best  best_bid_min_1s  \\\n",
       "1      92.90           84.0     OPENING_AUCTION              NaN   \n",
       "2      93.35           56.0  CONTINUOUS_TRADING              NaN   \n",
       "18     93.25           40.0  CONTINUOUS_TRADING              NaN   \n",
       "24     93.25           48.0  CONTINUOUS_TRADING              NaN   \n",
       "29     92.90           55.0  CONTINUOUS_TRADING              NaN   \n",
       "\n",
       "    best_ask_min_1s market_state_min_1s  best_bid_size  best_bid_1s  \\\n",
       "1               NaN                 NaN            NaN          NaN   \n",
       "2               NaN                 NaN            NaN          NaN   \n",
       "18              NaN                 NaN           26.0        93.05   \n",
       "24              NaN                 NaN            NaN          NaN   \n",
       "29              NaN                 NaN          164.0        92.70   \n",
       "\n",
       "    best_ask_1s  best_ask_size     market_state_1s  \n",
       "1           NaN            NaN                 NaN  \n",
       "2           NaN            NaN                 NaN  \n",
       "18        93.25           88.0  CONTINUOUS_TRADING  \n",
       "24          NaN            NaN                 NaN  \n",
       "29        92.85           55.0  CONTINUOUS_TRADING  "
      ]
     },
     "execution_count": 40,
     "metadata": {},
     "output_type": "execute_result"
    }
   ],
   "source": [
    "print(len(merged_all))\n",
    "merged_all.loc[merged_all['primary_ticker'] == 'AED'].sort_values(by=['Trade_id'], ascending=True).head()"
   ]
  },
  {
   "cell_type": "markdown",
   "metadata": {},
   "source": [
    "b. Mid-Price – bbo data in marketdata.parquet \\\n",
    "i. Find the Mid-Price at execution, 1s before the execution and 1s after the execution \\\n",
    "– respective column table names [‘mid_price’, ‘mid_price_min_1s’ ‘mid_price_1s’]"
   ]
  },
  {
   "cell_type": "code",
   "execution_count": 41,
   "metadata": {},
   "outputs": [],
   "source": [
    "# function that calculates and adds in mid prices for best, +1 & -1.\n",
    "\n",
    "def find_mid_price(table):\n",
    "    table['mid_price'] = round(((table['best_bid'] + table['best_ask']) / 2), 2)\n",
    "    table['mid_price_min_1s'] = round((table['best_bid_min_1s'] + table['best_ask_min_1s']) / 2)\n",
    "    table['mid_price_1s'] = round((table['best_bid_1s'] + table['best_ask_1s']) / 2)"
   ]
  },
  {
   "cell_type": "code",
   "execution_count": 42,
   "metadata": {},
   "outputs": [],
   "source": [
    "find_mid_price(merged_all)"
   ]
  },
  {
   "cell_type": "markdown",
   "metadata": {},
   "source": [
    "c. Calculate Slippage [‘slippage’] at execution price \\\n",
    "i. For SELL: (execution_price – best_bid) / (best_ask – best_bid) \\\n",
    "ii. For BUY : (best_ask – execution_price) / (best_ask – best_bid)"
   ]
  },
  {
   "cell_type": "code",
   "execution_count": 43,
   "metadata": {},
   "outputs": [],
   "source": [
    "#function that takes a dataframe, calculated slippage & appends the column to the end of the same dataframe.\n",
    "#note: in both cases for short (SELL) or long (BUY), postive slippage is a good outcome, meaning you relatively got a better price than expected. \n",
    "\n",
    "def calculate_slippage(df):\n",
    "\n",
    "    slippage = []\n",
    "\n",
    "    # Calculate slippage based on SELL and BUY scenarios, including the handling of side != 1 or -1\n",
    "    for index, row in df.iterrows():\n",
    "        if row['side'] == -1:\n",
    "            slippage.append((row['Price'] - row['best_bid']) / (row['best_ask'] - row['best_bid']))\n",
    "        elif row['side'] == 1:\n",
    "            slippage.append((row['best_ask'] - row['Price']) / (row['best_ask'] - row['best_bid']))\n",
    "        else:\n",
    "            slippage.append(None)\n",
    "\n",
    "    df['slippage'] = slippage"
   ]
  },
  {
   "cell_type": "code",
   "execution_count": 44,
   "metadata": {},
   "outputs": [],
   "source": [
    "calculate_slippage(merged_all)"
   ]
  },
  {
   "cell_type": "code",
   "execution_count": 69,
   "metadata": {},
   "outputs": [
    {
     "data": {
      "text/html": [
       "<div>\n",
       "<style scoped>\n",
       "    .dataframe tbody tr th:only-of-type {\n",
       "        vertical-align: middle;\n",
       "    }\n",
       "\n",
       "    .dataframe tbody tr th {\n",
       "        vertical-align: top;\n",
       "    }\n",
       "\n",
       "    .dataframe thead th {\n",
       "        text-align: right;\n",
       "    }\n",
       "</style>\n",
       "<table border=\"1\" class=\"dataframe\">\n",
       "  <thead>\n",
       "    <tr style=\"text-align: right;\">\n",
       "      <th></th>\n",
       "      <th>ISIN</th>\n",
       "      <th>Currency</th>\n",
       "      <th>Venue</th>\n",
       "      <th>TradeTime</th>\n",
       "      <th>Price</th>\n",
       "      <th>Trade_id</th>\n",
       "      <th>Phase</th>\n",
       "      <th>Quantity</th>\n",
       "      <th>side</th>\n",
       "      <th>id</th>\n",
       "      <th>primary_ticker</th>\n",
       "      <th>primary_mic</th>\n",
       "      <th>TradeTime_min_1</th>\n",
       "      <th>TradeTime_1</th>\n",
       "      <th>best_bid_size</th>\n",
       "      <th>best_bid</th>\n",
       "      <th>best_ask</th>\n",
       "      <th>best_ask_size</th>\n",
       "      <th>market_state_best</th>\n",
       "      <th>best_bid_min_1s</th>\n",
       "      <th>best_ask_min_1s</th>\n",
       "      <th>market_state_min_1s</th>\n",
       "      <th>best_bid_size</th>\n",
       "      <th>best_bid_1s</th>\n",
       "      <th>best_ask_1s</th>\n",
       "      <th>best_ask_size</th>\n",
       "      <th>market_state_1s</th>\n",
       "      <th>mid_price</th>\n",
       "      <th>mid_price_min_1s</th>\n",
       "      <th>mid_price_1s</th>\n",
       "      <th>slippage</th>\n",
       "    </tr>\n",
       "  </thead>\n",
       "  <tbody>\n",
       "    <tr>\n",
       "      <th>1</th>\n",
       "      <td>BE0003851681</td>\n",
       "      <td>EUR</td>\n",
       "      <td>XBRU</td>\n",
       "      <td>2022-09-02 07:00:25.196</td>\n",
       "      <td>92.80</td>\n",
       "      <td>82</td>\n",
       "      <td>OPENING_AUCTION</td>\n",
       "      <td>71</td>\n",
       "      <td>1</td>\n",
       "      <td>328336</td>\n",
       "      <td>AED</td>\n",
       "      <td>XBRU</td>\n",
       "      <td>2022-09-02 07:00:24.196</td>\n",
       "      <td>2022-09-02 07:00:26.196</td>\n",
       "      <td>28.0</td>\n",
       "      <td>92.80</td>\n",
       "      <td>92.90</td>\n",
       "      <td>84.0</td>\n",
       "      <td>OPENING_AUCTION</td>\n",
       "      <td>NaN</td>\n",
       "      <td>NaN</td>\n",
       "      <td>NaN</td>\n",
       "      <td>NaN</td>\n",
       "      <td>NaN</td>\n",
       "      <td>NaN</td>\n",
       "      <td>NaN</td>\n",
       "      <td>NaN</td>\n",
       "      <td>92.85</td>\n",
       "      <td>NaN</td>\n",
       "      <td>NaN</td>\n",
       "      <td>1.000000</td>\n",
       "    </tr>\n",
       "    <tr>\n",
       "      <th>2</th>\n",
       "      <td>BE0003851681</td>\n",
       "      <td>EUR</td>\n",
       "      <td>XBRU</td>\n",
       "      <td>2022-09-02 07:02:02.577</td>\n",
       "      <td>93.05</td>\n",
       "      <td>83</td>\n",
       "      <td>OPENING_AUCTION</td>\n",
       "      <td>13</td>\n",
       "      <td>1</td>\n",
       "      <td>328336</td>\n",
       "      <td>AED</td>\n",
       "      <td>XBRU</td>\n",
       "      <td>2022-09-02 07:02:01.577</td>\n",
       "      <td>2022-09-02 07:02:03.577</td>\n",
       "      <td>8.0</td>\n",
       "      <td>93.05</td>\n",
       "      <td>93.35</td>\n",
       "      <td>56.0</td>\n",
       "      <td>CONTINUOUS_TRADING</td>\n",
       "      <td>NaN</td>\n",
       "      <td>NaN</td>\n",
       "      <td>NaN</td>\n",
       "      <td>NaN</td>\n",
       "      <td>NaN</td>\n",
       "      <td>NaN</td>\n",
       "      <td>NaN</td>\n",
       "      <td>NaN</td>\n",
       "      <td>93.20</td>\n",
       "      <td>NaN</td>\n",
       "      <td>NaN</td>\n",
       "      <td>1.000000</td>\n",
       "    </tr>\n",
       "    <tr>\n",
       "      <th>18</th>\n",
       "      <td>BE0003851681</td>\n",
       "      <td>EUR</td>\n",
       "      <td>XBRU</td>\n",
       "      <td>2022-09-02 07:08:11.684</td>\n",
       "      <td>93.10</td>\n",
       "      <td>84</td>\n",
       "      <td>OPENING_AUCTION</td>\n",
       "      <td>42</td>\n",
       "      <td>1</td>\n",
       "      <td>328336</td>\n",
       "      <td>AED</td>\n",
       "      <td>XBRU</td>\n",
       "      <td>2022-09-02 07:08:10.684</td>\n",
       "      <td>2022-09-02 07:08:12.684</td>\n",
       "      <td>147.0</td>\n",
       "      <td>93.05</td>\n",
       "      <td>93.25</td>\n",
       "      <td>40.0</td>\n",
       "      <td>CONTINUOUS_TRADING</td>\n",
       "      <td>NaN</td>\n",
       "      <td>NaN</td>\n",
       "      <td>NaN</td>\n",
       "      <td>26.0</td>\n",
       "      <td>93.05</td>\n",
       "      <td>93.25</td>\n",
       "      <td>88.0</td>\n",
       "      <td>CONTINUOUS_TRADING</td>\n",
       "      <td>93.15</td>\n",
       "      <td>NaN</td>\n",
       "      <td>93.0</td>\n",
       "      <td>0.750000</td>\n",
       "    </tr>\n",
       "    <tr>\n",
       "      <th>24</th>\n",
       "      <td>BE0003851681</td>\n",
       "      <td>EUR</td>\n",
       "      <td>XBRU</td>\n",
       "      <td>2022-09-02 07:09:07.953</td>\n",
       "      <td>93.15</td>\n",
       "      <td>85</td>\n",
       "      <td>OPENING_AUCTION</td>\n",
       "      <td>13</td>\n",
       "      <td>1</td>\n",
       "      <td>328336</td>\n",
       "      <td>AED</td>\n",
       "      <td>XBRU</td>\n",
       "      <td>2022-09-02 07:09:06.953</td>\n",
       "      <td>2022-09-02 07:09:08.953</td>\n",
       "      <td>87.0</td>\n",
       "      <td>93.05</td>\n",
       "      <td>93.25</td>\n",
       "      <td>48.0</td>\n",
       "      <td>CONTINUOUS_TRADING</td>\n",
       "      <td>NaN</td>\n",
       "      <td>NaN</td>\n",
       "      <td>NaN</td>\n",
       "      <td>NaN</td>\n",
       "      <td>NaN</td>\n",
       "      <td>NaN</td>\n",
       "      <td>NaN</td>\n",
       "      <td>NaN</td>\n",
       "      <td>93.15</td>\n",
       "      <td>NaN</td>\n",
       "      <td>NaN</td>\n",
       "      <td>0.500000</td>\n",
       "    </tr>\n",
       "    <tr>\n",
       "      <th>29</th>\n",
       "      <td>BE0003851681</td>\n",
       "      <td>EUR</td>\n",
       "      <td>XBRU</td>\n",
       "      <td>2022-09-02 07:10:16.279</td>\n",
       "      <td>92.85</td>\n",
       "      <td>86</td>\n",
       "      <td>OPENING_AUCTION</td>\n",
       "      <td>15</td>\n",
       "      <td>1</td>\n",
       "      <td>328336</td>\n",
       "      <td>AED</td>\n",
       "      <td>XBRU</td>\n",
       "      <td>2022-09-02 07:10:15.279</td>\n",
       "      <td>2022-09-02 07:10:17.279</td>\n",
       "      <td>107.0</td>\n",
       "      <td>92.75</td>\n",
       "      <td>92.90</td>\n",
       "      <td>55.0</td>\n",
       "      <td>CONTINUOUS_TRADING</td>\n",
       "      <td>NaN</td>\n",
       "      <td>NaN</td>\n",
       "      <td>NaN</td>\n",
       "      <td>164.0</td>\n",
       "      <td>92.70</td>\n",
       "      <td>92.85</td>\n",
       "      <td>55.0</td>\n",
       "      <td>CONTINUOUS_TRADING</td>\n",
       "      <td>92.82</td>\n",
       "      <td>NaN</td>\n",
       "      <td>93.0</td>\n",
       "      <td>0.333333</td>\n",
       "    </tr>\n",
       "  </tbody>\n",
       "</table>\n",
       "</div>"
      ],
      "text/plain": [
       "            ISIN Currency Venue               TradeTime  Price  Trade_id  \\\n",
       "1   BE0003851681      EUR  XBRU 2022-09-02 07:00:25.196  92.80        82   \n",
       "2   BE0003851681      EUR  XBRU 2022-09-02 07:02:02.577  93.05        83   \n",
       "18  BE0003851681      EUR  XBRU 2022-09-02 07:08:11.684  93.10        84   \n",
       "24  BE0003851681      EUR  XBRU 2022-09-02 07:09:07.953  93.15        85   \n",
       "29  BE0003851681      EUR  XBRU 2022-09-02 07:10:16.279  92.85        86   \n",
       "\n",
       "              Phase  Quantity  side      id primary_ticker primary_mic  \\\n",
       "1   OPENING_AUCTION        71     1  328336            AED        XBRU   \n",
       "2   OPENING_AUCTION        13     1  328336            AED        XBRU   \n",
       "18  OPENING_AUCTION        42     1  328336            AED        XBRU   \n",
       "24  OPENING_AUCTION        13     1  328336            AED        XBRU   \n",
       "29  OPENING_AUCTION        15     1  328336            AED        XBRU   \n",
       "\n",
       "           TradeTime_min_1             TradeTime_1  best_bid_size  best_bid  \\\n",
       "1  2022-09-02 07:00:24.196 2022-09-02 07:00:26.196           28.0     92.80   \n",
       "2  2022-09-02 07:02:01.577 2022-09-02 07:02:03.577            8.0     93.05   \n",
       "18 2022-09-02 07:08:10.684 2022-09-02 07:08:12.684          147.0     93.05   \n",
       "24 2022-09-02 07:09:06.953 2022-09-02 07:09:08.953           87.0     93.05   \n",
       "29 2022-09-02 07:10:15.279 2022-09-02 07:10:17.279          107.0     92.75   \n",
       "\n",
       "    best_ask  best_ask_size   market_state_best  best_bid_min_1s  \\\n",
       "1      92.90           84.0     OPENING_AUCTION              NaN   \n",
       "2      93.35           56.0  CONTINUOUS_TRADING              NaN   \n",
       "18     93.25           40.0  CONTINUOUS_TRADING              NaN   \n",
       "24     93.25           48.0  CONTINUOUS_TRADING              NaN   \n",
       "29     92.90           55.0  CONTINUOUS_TRADING              NaN   \n",
       "\n",
       "    best_ask_min_1s market_state_min_1s  best_bid_size  best_bid_1s  \\\n",
       "1               NaN                 NaN            NaN          NaN   \n",
       "2               NaN                 NaN            NaN          NaN   \n",
       "18              NaN                 NaN           26.0        93.05   \n",
       "24              NaN                 NaN            NaN          NaN   \n",
       "29              NaN                 NaN          164.0        92.70   \n",
       "\n",
       "    best_ask_1s  best_ask_size     market_state_1s  mid_price  \\\n",
       "1           NaN            NaN                 NaN      92.85   \n",
       "2           NaN            NaN                 NaN      93.20   \n",
       "18        93.25           88.0  CONTINUOUS_TRADING      93.15   \n",
       "24          NaN            NaN                 NaN      93.15   \n",
       "29        92.85           55.0  CONTINUOUS_TRADING      92.82   \n",
       "\n",
       "    mid_price_min_1s  mid_price_1s  slippage  \n",
       "1                NaN           NaN  1.000000  \n",
       "2                NaN           NaN  1.000000  \n",
       "18               NaN          93.0  0.750000  \n",
       "24               NaN           NaN  0.500000  \n",
       "29               NaN          93.0  0.333333  "
      ]
     },
     "execution_count": 69,
     "metadata": {},
     "output_type": "execute_result"
    }
   ],
   "source": [
    "merged_all.loc[merged_all['primary_ticker'] == 'AED'].sort_values(by=['Trade_id'], ascending=True).head()"
   ]
  },
  {
   "cell_type": "markdown",
   "metadata": {},
   "source": [
    "### Saving the output to csv"
   ]
  },
  {
   "cell_type": "code",
   "execution_count": 46,
   "metadata": {},
   "outputs": [],
   "source": [
    "#function that saves the file to a csv with the production timestamp leading the file name.\n",
    "\n",
    "def df_to_csv(df, file_name):\n",
    "    timestamp = datetime.now().strftime(\"%Y-%m-%d_%H-%M-%S\")\n",
    "    file_path = f\"{timestamp}_{file_name}.csv\"\n",
    "    df.to_csv(file_path, index=False)"
   ]
  },
  {
   "cell_type": "code",
   "execution_count": 70,
   "metadata": {},
   "outputs": [],
   "source": [
    "df_to_csv(merged_all, \"merged_all\")"
   ]
  },
  {
   "cell_type": "markdown",
   "metadata": {},
   "source": [
    "### Graphing isolated IDs"
   ]
  },
  {
   "cell_type": "code",
   "execution_count": 48,
   "metadata": {},
   "outputs": [],
   "source": [
    "import matplotlib.pyplot as plt\n"
   ]
  },
  {
   "cell_type": "code",
   "execution_count": 49,
   "metadata": {},
   "outputs": [],
   "source": [
    "# setup a stock in soliation for study from variaous output tables\n",
    "\n",
    "stock_id = 328336\n",
    "\n",
    "executions_ref_stock = executions_ref.loc[(executions_ref['id']==stock_id)].sort_values(by='TradeTime',ascending=True)\n",
    "marketdata_stock = marketdata.loc[(marketdata['listing_id']==stock_id) & (marketdata['market_state']!='CLOSED')].sort_values(by='event_timestamp',ascending=True)\n",
    "merged_all = merged_all.loc[(merged_all['id']==stock_id) & (marketdata['market_state']!='CLOSED')].sort_values(by='TradeTime',ascending=True)"
   ]
  },
  {
   "cell_type": "code",
   "execution_count": 50,
   "metadata": {},
   "outputs": [
    {
     "data": {
      "text/plain": [
       "<AxesSubplot:xlabel='event_timestamp'>"
      ]
     },
     "execution_count": 50,
     "metadata": {},
     "output_type": "execute_result"
    },
    {
     "data": {
      "image/png": "[encoded data removed]",
      "text/plain": [
       "<Figure size 1080x360 with 1 Axes>"
      ]
     },
     "metadata": {
      "needs_background": "light"
     },
     "output_type": "display_data"
    }
   ],
   "source": [
    "# isolate a stock id from both marketdata to understand the colour of demand/supply over all market states including closed markets\n",
    "\n",
    "marketdata_stock.plot(kind='line', x='event_timestamp', y=['best_bid_price','best_ask_price'], figsize=(15, 5))"
   ]
  },
  {
   "cell_type": "code",
   "execution_count": null,
   "metadata": {},
   "outputs": [
    {
     "data": {
      "application/vnd.plotly.v1+json": {
       "config": {
        "plotlyServerURL": "https://plot.ly"
       },
       "data": [
        {
         "marker": {
          "color": [
           "green",
           "green",
           "green",
           "green",
           "green",
           "green",
           "green",
           "green",
           "green",
           "green",
           "green",
           "green",
           "green",
           "green",
           "green",
           "green",
           "green",
           "green",
           "green",
           "green",
           "green",
           "green",
           "green",
           "green",
           "green",
           "green",
           "green",
           "green",
           "green",
           "green",
           "green",
           "green",
           "green",
           "green",
           "green",
           "green",
           "green",
           "green",
           "green",
           "green",
           "green",
           "green",
           "green",
           "green",
           "green",
           "green",
           "green",
           "green",
           "green",
           "green",
           "green",
           "green",
           "green",
           "green",
           "green",
           "green",
           "green",
           "green",
           "green",
           "green",
           "green",
           "green",
           "green",
           "green",
           "green",
           "green",
           "green",
           "green",
           "green",
           "green",
           "green",
           "green",
           "green",
           "green",
           "green",
           "green",
           "green",
           "green",
           "green",
           "green",
           "green",
           "green",
           "green",
           "green",
           "green",
           "green",
           "green",
           "green",
           "green",
           "green",
           "green",
           "green",
           "green",
           "green",
           "green",
           "green",
           "green",
           "green",
           "green",
           "green",
           "green",
           "green",
           "green",
           "green",
           "green",
           "green",
           "green",
           "green",
           "green",
           "green",
           "green",
           "green",
           "green",
           "green",
           "green",
           "green",
           "green",
           "green",
           "green",
           "green",
           "green",
           "green",
           "green",
           "green",
           "green",
           "green",
           "green",
           "green",
           "green",
           "green",
           "green",
           "green",
           "green",
           "green",
           "green",
           "green",
           "green",
           "green",
           "green",
           "green",
           "green",
           "green",
           "green",
           "green",
           "green",
           "green",
           "green",
           "green",
           "green",
           "green",
           "green",
           "green",
           "green",
           "green",
           "green",
           "green",
           "green",
           "green",
           "green",
           "green",
           "green",
           "green",
           "green",
           "green",
           "green",
           "green",
           "green",
           "green",
           "green",
           "green",
           "green",
           "green",
           "green",
           "green",
           "green",
           "green",
           "green",
           "green",
           "green",
           "green"
          ]
         },
         "mode": "markers",
         "name": "Price",
         "type": "scatter",
         "x": [
          "2022-09-02T07:08:11.684000",
          "2022-09-02T07:09:07.953000",
          "2022-09-02T07:10:16.279000",
          "2022-09-02T07:11:53.645000",
          "2022-09-02T07:13:29.127000",
          "2022-09-02T07:15:01.279000",
          "2022-09-02T07:15:05.734000",
          "2022-09-02T07:19:30.125000",
          "2022-09-02T07:19:39.090000",
          "2022-09-02T07:25:02.559000",
          "2022-09-02T07:26:13.225000",
          "2022-09-02T07:27:56.226000",
          "2022-09-02T07:31:56.676000",
          "2022-09-02T07:34:22.275000",
          "2022-09-02T07:37:23.964000",
          "2022-09-02T07:38:25.470000",
          "2022-09-02T07:39:39.072000",
          "2022-09-02T07:43:05.795000",
          "2022-09-02T07:47:55.688000",
          "2022-09-02T07:50:54.472000",
          "2022-09-02T07:54:06.487000",
          "2022-09-02T07:56:58.899000",
          "2022-09-02T08:00:49.155000",
          "2022-09-02T08:10:32.016000",
          "2022-09-02T08:13:22.049000",
          "2022-09-02T08:17:58.129000",
          "2022-09-02T08:19:58.243000",
          "2022-09-02T08:22:56.189000",
          "2022-09-02T08:23:43.410000",
          "2022-09-02T08:25:57.558000",
          "2022-09-02T08:26:34.978000",
          "2022-09-02T08:31:26.044000",
          "2022-09-02T08:32:48.171000",
          "2022-09-02T08:36:35.539000",
          "2022-09-02T08:36:35.539000",
          "2022-09-02T08:49:32.833000",
          "2022-09-02T08:55:36.519000",
          "2022-09-02T09:01:05.889000",
          "2022-09-02T09:03:17.675000",
          "2022-09-02T09:04:56.140000",
          "2022-09-02T09:10:56.123000",
          "2022-09-02T09:20:55.961000",
          "2022-09-02T09:22:54.673000",
          "2022-09-02T09:23:36.227000",
          "2022-09-02T09:49:54.106000",
          "2022-09-02T09:53:15.992000",
          "2022-09-02T09:54:04.179000",
          "2022-09-02T09:54:04.179000",
          "2022-09-02T09:56:02.300000",
          "2022-09-02T09:58:54.903000",
          "2022-09-02T10:02:57.299000",
          "2022-09-02T10:05:11.634000",
          "2022-09-02T10:05:11.634000",
          "2022-09-02T10:07:53.177000",
          "2022-09-02T10:19:50.953000",
          "2022-09-02T10:19:50.960000",
          "2022-09-02T10:23:32.157000",
          "2022-09-02T10:23:32.157000",
          "2022-09-02T10:27:23.429000",
          "2022-09-02T10:31:42.843000",
          "2022-09-02T10:36:57.656000",
          "2022-09-02T10:37:53.959000",
          "2022-09-02T10:37:53.961000",
          "2022-09-02T10:38:55.342000",
          "2022-09-02T10:38:55.342000",
          "2022-09-02T10:41:25.352000",
          "2022-09-02T10:42:08.750000",
          "2022-09-02T10:42:08.769000",
          "2022-09-02T10:43:43.520000",
          "2022-09-02T10:43:55.870000",
          "2022-09-02T10:43:55.871000",
          "2022-09-02T10:44:20.918000",
          "2022-09-02T10:46:27.716000",
          "2022-09-02T10:50:19.266000",
          "2022-09-02T10:53:56.716000",
          "2022-09-02T10:53:56.717000",
          "2022-09-02T10:56:42.385000",
          "2022-09-02T10:56:56.667000",
          "2022-09-02T11:00:58.132000",
          "2022-09-02T11:05:15.776000",
          "2022-09-02T11:11:44.382000",
          "2022-09-02T11:20:53.921000",
          "2022-09-02T11:26:48.744000",
          "2022-09-02T11:38:42.547000",
          "2022-09-02T11:40:40.721000",
          "2022-09-02T11:43:19.849000",
          "2022-09-02T11:49:20.158000",
          "2022-09-02T11:49:20.159000",
          "2022-09-02T11:57:46.488000",
          "2022-09-02T12:10:10.532000",
          "2022-09-02T12:16:51.645000",
          "2022-09-02T12:29:30.703000",
          "2022-09-02T12:30:22.589000",
          "2022-09-02T12:31:27.428000",
          "2022-09-02T12:35:48.192000",
          "2022-09-02T12:35:48.192000",
          "2022-09-02T12:37:02.817000",
          "2022-09-02T12:37:11.250000",
          "2022-09-02T12:39:54.317000",
          "2022-09-02T12:41:08.420000",
          "2022-09-02T12:41:09.032000",
          "2022-09-02T12:42:51.445000",
          "2022-09-02T12:43:32.862000",
          "2022-09-02T12:44:42.141000",
          "2022-09-02T12:47:05.325000",
          "2022-09-02T12:47:05.325000",
          "2022-09-02T12:51:31.488000",
          "2022-09-02T12:54:33.297000",
          "2022-09-02T12:57:49.902000",
          "2022-09-02T13:05:50.187000",
          "2022-09-02T13:06:09.338000",
          "2022-09-02T13:09:53.934000",
          "2022-09-02T13:09:53.935000",
          "2022-09-02T13:09:53.938000",
          "2022-09-02T13:09:53.989000",
          "2022-09-02T13:20:47.219000",
          "2022-09-02T13:25:29.134000",
          "2022-09-02T13:26:09.861000",
          "2022-09-02T13:30:32.401000",
          "2022-09-02T13:30:43.977000",
          "2022-09-02T13:33:42.498000",
          "2022-09-02T13:34:28.692000",
          "2022-09-02T13:35:44.275000",
          "2022-09-02T13:35:44.292000",
          "2022-09-02T13:38:50.224000",
          "2022-09-02T13:40:03.753000",
          "2022-09-02T13:40:14.862000",
          "2022-09-02T13:40:41.518000",
          "2022-09-02T13:45:22.131000",
          "2022-09-02T13:49:56.412000",
          "2022-09-02T13:51:08.410000",
          "2022-09-02T13:51:44.828000",
          "2022-09-02T13:52:51.552000",
          "2022-09-02T13:55:25.137000",
          "2022-09-02T13:57:00.103000",
          "2022-09-02T14:01:13.140000",
          "2022-09-02T14:01:58.846000",
          "2022-09-02T14:03:15.679000",
          "2022-09-02T14:04:31.843000",
          "2022-09-02T14:06:02.240000",
          "2022-09-02T14:07:37.373000",
          "2022-09-02T14:07:37.374000",
          "2022-09-02T14:08:15.382000",
          "2022-09-02T14:08:22.815000",
          "2022-09-02T14:12:56.784000",
          "2022-09-02T14:12:56.784000",
          "2022-09-02T14:14:17.011000",
          "2022-09-02T14:17:53.020000",
          "2022-09-02T14:20:56.498000",
          "2022-09-02T14:27:27.282000",
          "2022-09-02T14:31:57.238000",
          "2022-09-02T14:31:57.244000",
          "2022-09-02T14:33:29.736000",
          "2022-09-02T14:33:29.745000",
          "2022-09-02T14:38:16.264000",
          "2022-09-02T14:40:32.767000",
          "2022-09-02T14:43:00.683000",
          "2022-09-02T14:43:54.458000",
          "2022-09-02T14:48:24.438000",
          "2022-09-02T14:50:22.532000",
          "2022-09-02T14:53:08.780000",
          "2022-09-02T14:56:50.233000",
          "2022-09-02T15:00:04.931000",
          "2022-09-02T15:02:36.910000",
          "2022-09-02T15:05:08.069000",
          "2022-09-02T15:06:28.535000",
          "2022-09-02T15:08:56.502000",
          "2022-09-02T15:11:31.472000",
          "2022-09-02T15:11:31.499000",
          "2022-09-02T15:11:31.538000",
          "2022-09-02T15:11:55.757000",
          "2022-09-02T15:21:08.245000",
          "2022-09-02T15:21:53.728000",
          "2022-09-02T15:24:18.893000",
          "2022-09-02T15:27:55.073000",
          "2022-09-02T15:35:08.547000",
          "2022-09-02T15:35:08.547000",
          "2022-09-02T15:35:08.547000",
          "2022-09-02T15:35:08.547000",
          "2022-09-02T15:35:08.547000"
         ],
         "y": [
          93.1,
          93.15,
          92.85,
          92.75,
          92.75,
          92.7,
          92.65,
          92.75,
          92.5,
          92.75,
          92.6,
          92.4,
          92.3,
          92.3,
          92,
          91.9,
          91.8,
          91.9,
          91.85,
          91.95,
          92.05,
          92,
          92,
          92.05,
          92.15,
          92.3,
          92.35,
          92.45,
          92.4,
          92.3,
          92.3,
          92.25,
          92.2,
          92.35,
          92.35,
          92.45,
          92.45,
          92.3,
          92.25,
          92.15,
          92.05,
          92.25,
          92.15,
          92.05,
          92.45,
          92.45,
          92.45,
          92.45,
          92.5,
          92.6,
          92.55,
          92.65,
          92.65,
          92.5,
          93.05,
          93.05,
          93.05,
          93.05,
          92.85,
          92.75,
          92.75,
          92.75,
          92.75,
          92.75,
          92.75,
          92.9,
          92.9,
          92.9,
          92.85,
          92.85,
          92.85,
          92.85,
          92.85,
          92.65,
          92.65,
          92.65,
          92.65,
          92.65,
          92.85,
          92.8,
          92.8,
          92.75,
          92.6,
          92.75,
          92.8,
          92.75,
          92.8,
          92.8,
          92.9,
          92.95,
          93.05,
          92.95,
          92.95,
          93.25,
          93.4,
          93.4,
          93.35,
          93.35,
          93.45,
          93.35,
          93.35,
          93.3,
          93.25,
          93.1,
          93.1,
          93.1,
          93.2,
          93.2,
          93.15,
          93.3,
          93.25,
          93.3,
          93.3,
          93.3,
          93.3,
          93.7,
          93.8,
          93.8,
          93.85,
          93.8,
          93.8,
          93.9,
          93.85,
          93.85,
          93.75,
          93.7,
          93.65,
          93.65,
          93.9,
          94.05,
          94,
          94.05,
          94,
          94,
          94.1,
          94.15,
          94.1,
          94,
          93.9,
          93.85,
          93.85,
          93.85,
          93.8,
          93.8,
          93.9,
          93.9,
          93.85,
          93.8,
          93.75,
          94.2,
          94.3,
          94.3,
          94.3,
          94.3,
          94.45,
          94.4,
          94.45,
          94.35,
          94.3,
          94.25,
          94.55,
          94.5,
          94.55,
          94.55,
          94.55,
          94.55,
          94.5,
          94.45,
          94.45,
          94.45,
          94.4,
          94.35,
          94.35,
          94.25,
          94.25,
          94.05,
          94.05,
          94.05,
          94.05,
          94.05
         ]
        },
        {
         "line": {
          "color": "blue"
         },
         "mode": "lines",
         "name": "best_bid",
         "type": "scatter",
         "x": [
          "2022-09-02T07:08:11.684000",
          "2022-09-02T07:09:07.953000",
          "2022-09-02T07:10:16.279000",
          "2022-09-02T07:11:53.645000",
          "2022-09-02T07:13:29.127000",
          "2022-09-02T07:15:01.279000",
          "2022-09-02T07:15:05.734000",
          "2022-09-02T07:19:30.125000",
          "2022-09-02T07:19:39.090000",
          "2022-09-02T07:25:02.559000",
          "2022-09-02T07:26:13.225000",
          "2022-09-02T07:27:56.226000",
          "2022-09-02T07:31:56.676000",
          "2022-09-02T07:34:22.275000",
          "2022-09-02T07:37:23.964000",
          "2022-09-02T07:38:25.470000",
          "2022-09-02T07:39:39.072000",
          "2022-09-02T07:43:05.795000",
          "2022-09-02T07:47:55.688000",
          "2022-09-02T07:50:54.472000",
          "2022-09-02T07:54:06.487000",
          "2022-09-02T07:56:58.899000",
          "2022-09-02T08:00:49.155000",
          "2022-09-02T08:10:32.016000",
          "2022-09-02T08:13:22.049000",
          "2022-09-02T08:17:58.129000",
          "2022-09-02T08:19:58.243000",
          "2022-09-02T08:22:56.189000",
          "2022-09-02T08:23:43.410000",
          "2022-09-02T08:25:57.558000",
          "2022-09-02T08:26:34.978000",
          "2022-09-02T08:31:26.044000",
          "2022-09-02T08:32:48.171000",
          "2022-09-02T08:36:35.539000",
          "2022-09-02T08:36:35.539000",
          "2022-09-02T08:49:32.833000",
          "2022-09-02T08:55:36.519000",
          "2022-09-02T09:01:05.889000",
          "2022-09-02T09:03:17.675000",
          "2022-09-02T09:04:56.140000",
          "2022-09-02T09:10:56.123000",
          "2022-09-02T09:20:55.961000",
          "2022-09-02T09:22:54.673000",
          "2022-09-02T09:23:36.227000",
          "2022-09-02T09:49:54.106000",
          "2022-09-02T09:53:15.992000",
          "2022-09-02T09:54:04.179000",
          "2022-09-02T09:54:04.179000",
          "2022-09-02T09:56:02.300000",
          "2022-09-02T09:58:54.903000",
          "2022-09-02T10:02:57.299000",
          "2022-09-02T10:05:11.634000",
          "2022-09-02T10:05:11.634000",
          "2022-09-02T10:07:53.177000",
          "2022-09-02T10:19:50.953000",
          "2022-09-02T10:19:50.960000",
          "2022-09-02T10:23:32.157000",
          "2022-09-02T10:23:32.157000",
          "2022-09-02T10:27:23.429000",
          "2022-09-02T10:31:42.843000",
          "2022-09-02T10:36:57.656000",
          "2022-09-02T10:37:53.959000",
          "2022-09-02T10:37:53.961000",
          "2022-09-02T10:38:55.342000",
          "2022-09-02T10:38:55.342000",
          "2022-09-02T10:41:25.352000",
          "2022-09-02T10:42:08.750000",
          "2022-09-02T10:42:08.769000",
          "2022-09-02T10:43:43.520000",
          "2022-09-02T10:43:55.870000",
          "2022-09-02T10:43:55.871000",
          "2022-09-02T10:44:20.918000",
          "2022-09-02T10:46:27.716000",
          "2022-09-02T10:50:19.266000",
          "2022-09-02T10:53:56.716000",
          "2022-09-02T10:53:56.717000",
          "2022-09-02T10:56:42.385000",
          "2022-09-02T10:56:56.667000",
          "2022-09-02T11:00:58.132000",
          "2022-09-02T11:05:15.776000",
          "2022-09-02T11:11:44.382000",
          "2022-09-02T11:20:53.921000",
          "2022-09-02T11:26:48.744000",
          "2022-09-02T11:38:42.547000",
          "2022-09-02T11:40:40.721000",
          "2022-09-02T11:43:19.849000",
          "2022-09-02T11:49:20.158000",
          "2022-09-02T11:49:20.159000",
          "2022-09-02T11:57:46.488000",
          "2022-09-02T12:10:10.532000",
          "2022-09-02T12:16:51.645000",
          "2022-09-02T12:29:30.703000",
          "2022-09-02T12:30:22.589000",
          "2022-09-02T12:31:27.428000",
          "2022-09-02T12:35:48.192000",
          "2022-09-02T12:35:48.192000",
          "2022-09-02T12:37:02.817000",
          "2022-09-02T12:37:11.250000",
          "2022-09-02T12:39:54.317000",
          "2022-09-02T12:41:08.420000",
          "2022-09-02T12:41:09.032000",
          "2022-09-02T12:42:51.445000",
          "2022-09-02T12:43:32.862000",
          "2022-09-02T12:44:42.141000",
          "2022-09-02T12:47:05.325000",
          "2022-09-02T12:47:05.325000",
          "2022-09-02T12:51:31.488000",
          "2022-09-02T12:54:33.297000",
          "2022-09-02T12:57:49.902000",
          "2022-09-02T13:05:50.187000",
          "2022-09-02T13:06:09.338000",
          "2022-09-02T13:09:53.934000",
          "2022-09-02T13:09:53.935000",
          "2022-09-02T13:09:53.938000",
          "2022-09-02T13:09:53.989000",
          "2022-09-02T13:20:47.219000",
          "2022-09-02T13:25:29.134000",
          "2022-09-02T13:26:09.861000",
          "2022-09-02T13:30:32.401000",
          "2022-09-02T13:30:43.977000",
          "2022-09-02T13:33:42.498000",
          "2022-09-02T13:34:28.692000",
          "2022-09-02T13:35:44.275000",
          "2022-09-02T13:35:44.292000",
          "2022-09-02T13:38:50.224000",
          "2022-09-02T13:40:03.753000",
          "2022-09-02T13:40:14.862000",
          "2022-09-02T13:40:41.518000",
          "2022-09-02T13:45:22.131000",
          "2022-09-02T13:49:56.412000",
          "2022-09-02T13:51:08.410000",
          "2022-09-02T13:51:44.828000",
          "2022-09-02T13:52:51.552000",
          "2022-09-02T13:55:25.137000",
          "2022-09-02T13:57:00.103000",
          "2022-09-02T14:01:13.140000",
          "2022-09-02T14:01:58.846000",
          "2022-09-02T14:03:15.679000",
          "2022-09-02T14:04:31.843000",
          "2022-09-02T14:06:02.240000",
          "2022-09-02T14:07:37.373000",
          "2022-09-02T14:07:37.374000",
          "2022-09-02T14:08:15.382000",
          "2022-09-02T14:08:22.815000",
          "2022-09-02T14:12:56.784000",
          "2022-09-02T14:12:56.784000",
          "2022-09-02T14:14:17.011000",
          "2022-09-02T14:17:53.020000",
          "2022-09-02T14:20:56.498000",
          "2022-09-02T14:27:27.282000",
          "2022-09-02T14:31:57.238000",
          "2022-09-02T14:31:57.244000",
          "2022-09-02T14:33:29.736000",
          "2022-09-02T14:33:29.745000",
          "2022-09-02T14:38:16.264000",
          "2022-09-02T14:40:32.767000",
          "2022-09-02T14:43:00.683000",
          "2022-09-02T14:43:54.458000",
          "2022-09-02T14:48:24.438000",
          "2022-09-02T14:50:22.532000",
          "2022-09-02T14:53:08.780000",
          "2022-09-02T14:56:50.233000",
          "2022-09-02T15:00:04.931000",
          "2022-09-02T15:02:36.910000",
          "2022-09-02T15:05:08.069000",
          "2022-09-02T15:06:28.535000",
          "2022-09-02T15:08:56.502000",
          "2022-09-02T15:11:31.472000",
          "2022-09-02T15:11:31.499000",
          "2022-09-02T15:11:31.538000",
          "2022-09-02T15:11:55.757000",
          "2022-09-02T15:21:08.245000",
          "2022-09-02T15:21:53.728000",
          "2022-09-02T15:24:18.893000",
          "2022-09-02T15:27:55.073000",
          "2022-09-02T15:35:08.547000",
          "2022-09-02T15:35:08.547000",
          "2022-09-02T15:35:08.547000",
          "2022-09-02T15:35:08.547000",
          "2022-09-02T15:35:08.547000"
         ],
         "y": [
          93.05,
          93.05,
          92.75,
          92.7,
          92.7,
          92.65,
          92.65,
          92.7,
          92.45,
          92.7,
          92.55,
          92.35,
          92.3,
          92.3,
          92,
          91.9,
          91.75,
          91.85,
          91.8,
          91.9,
          92,
          91.9,
          91.95,
          92,
          92.15,
          92.25,
          92.35,
          92.4,
          92.3,
          92.3,
          92.25,
          92.2,
          92.2,
          92.35,
          92.35,
          92.4,
          92.4,
          92.25,
          92.2,
          92.1,
          92.05,
          92.2,
          92.1,
          92,
          92.45,
          92.45,
          92.45,
          92.45,
          92.45,
          92.55,
          92.55,
          92.65,
          92.65,
          92.45,
          93.05,
          92.95,
          93.05,
          93.05,
          92.85,
          92.7,
          92.75,
          92.75,
          92.75,
          92.75,
          92.75,
          92.9,
          92.9,
          92.85,
          92.85,
          92.85,
          92.85,
          92.8,
          92.8,
          92.6,
          92.65,
          92.65,
          92.65,
          92.65,
          92.8,
          92.8,
          92.7,
          92.7,
          92.55,
          92.7,
          92.75,
          92.65,
          92.8,
          92.8,
          92.85,
          92.9,
          93,
          92.9,
          92.95,
          93.15,
          93.4,
          93.4,
          93.35,
          93.3,
          93.4,
          93.35,
          93.3,
          93.25,
          93.15,
          93.1,
          93.1,
          93.1,
          93.15,
          93.15,
          93.15,
          93.25,
          93.15,
          93.3,
          93.3,
          93.3,
          93.2,
          93.65,
          93.75,
          93.75,
          93.8,
          93.75,
          93.75,
          93.85,
          93.85,
          93.85,
          93.7,
          93.65,
          93.65,
          93.6,
          93.85,
          94,
          94,
          94.05,
          93.95,
          93.95,
          94.1,
          94.15,
          94,
          93.9,
          93.85,
          93.85,
          93.85,
          93.75,
          93.8,
          93.7,
          93.9,
          93.9,
          93.8,
          93.75,
          93.7,
          94.15,
          94.3,
          94.3,
          94.3,
          94.3,
          94.4,
          94.35,
          94.4,
          94.25,
          94.25,
          94.1,
          94.55,
          94.4,
          94.5,
          94.5,
          94.5,
          94.5,
          94.45,
          94.45,
          94.45,
          94.4,
          94.4,
          94.35,
          94.35,
          94.2,
          94.15,
          94.05,
          94.05,
          94.05,
          94.05,
          94.05
         ]
        },
        {
         "line": {
          "color": "orange"
         },
         "mode": "lines",
         "name": "best_ask",
         "type": "scatter",
         "x": [
          "2022-09-02T07:08:11.684000",
          "2022-09-02T07:09:07.953000",
          "2022-09-02T07:10:16.279000",
          "2022-09-02T07:11:53.645000",
          "2022-09-02T07:13:29.127000",
          "2022-09-02T07:15:01.279000",
          "2022-09-02T07:15:05.734000",
          "2022-09-02T07:19:30.125000",
          "2022-09-02T07:19:39.090000",
          "2022-09-02T07:25:02.559000",
          "2022-09-02T07:26:13.225000",
          "2022-09-02T07:27:56.226000",
          "2022-09-02T07:31:56.676000",
          "2022-09-02T07:34:22.275000",
          "2022-09-02T07:37:23.964000",
          "2022-09-02T07:38:25.470000",
          "2022-09-02T07:39:39.072000",
          "2022-09-02T07:43:05.795000",
          "2022-09-02T07:47:55.688000",
          "2022-09-02T07:50:54.472000",
          "2022-09-02T07:54:06.487000",
          "2022-09-02T07:56:58.899000",
          "2022-09-02T08:00:49.155000",
          "2022-09-02T08:10:32.016000",
          "2022-09-02T08:13:22.049000",
          "2022-09-02T08:17:58.129000",
          "2022-09-02T08:19:58.243000",
          "2022-09-02T08:22:56.189000",
          "2022-09-02T08:23:43.410000",
          "2022-09-02T08:25:57.558000",
          "2022-09-02T08:26:34.978000",
          "2022-09-02T08:31:26.044000",
          "2022-09-02T08:32:48.171000",
          "2022-09-02T08:36:35.539000",
          "2022-09-02T08:36:35.539000",
          "2022-09-02T08:49:32.833000",
          "2022-09-02T08:55:36.519000",
          "2022-09-02T09:01:05.889000",
          "2022-09-02T09:03:17.675000",
          "2022-09-02T09:04:56.140000",
          "2022-09-02T09:10:56.123000",
          "2022-09-02T09:20:55.961000",
          "2022-09-02T09:22:54.673000",
          "2022-09-02T09:23:36.227000",
          "2022-09-02T09:49:54.106000",
          "2022-09-02T09:53:15.992000",
          "2022-09-02T09:54:04.179000",
          "2022-09-02T09:54:04.179000",
          "2022-09-02T09:56:02.300000",
          "2022-09-02T09:58:54.903000",
          "2022-09-02T10:02:57.299000",
          "2022-09-02T10:05:11.634000",
          "2022-09-02T10:05:11.634000",
          "2022-09-02T10:07:53.177000",
          "2022-09-02T10:19:50.953000",
          "2022-09-02T10:19:50.960000",
          "2022-09-02T10:23:32.157000",
          "2022-09-02T10:23:32.157000",
          "2022-09-02T10:27:23.429000",
          "2022-09-02T10:31:42.843000",
          "2022-09-02T10:36:57.656000",
          "2022-09-02T10:37:53.959000",
          "2022-09-02T10:37:53.961000",
          "2022-09-02T10:38:55.342000",
          "2022-09-02T10:38:55.342000",
          "2022-09-02T10:41:25.352000",
          "2022-09-02T10:42:08.750000",
          "2022-09-02T10:42:08.769000",
          "2022-09-02T10:43:43.520000",
          "2022-09-02T10:43:55.870000",
          "2022-09-02T10:43:55.871000",
          "2022-09-02T10:44:20.918000",
          "2022-09-02T10:46:27.716000",
          "2022-09-02T10:50:19.266000",
          "2022-09-02T10:53:56.716000",
          "2022-09-02T10:53:56.717000",
          "2022-09-02T10:56:42.385000",
          "2022-09-02T10:56:56.667000",
          "2022-09-02T11:00:58.132000",
          "2022-09-02T11:05:15.776000",
          "2022-09-02T11:11:44.382000",
          "2022-09-02T11:20:53.921000",
          "2022-09-02T11:26:48.744000",
          "2022-09-02T11:38:42.547000",
          "2022-09-02T11:40:40.721000",
          "2022-09-02T11:43:19.849000",
          "2022-09-02T11:49:20.158000",
          "2022-09-02T11:49:20.159000",
          "2022-09-02T11:57:46.488000",
          "2022-09-02T12:10:10.532000",
          "2022-09-02T12:16:51.645000",
          "2022-09-02T12:29:30.703000",
          "2022-09-02T12:30:22.589000",
          "2022-09-02T12:31:27.428000",
          "2022-09-02T12:35:48.192000",
          "2022-09-02T12:35:48.192000",
          "2022-09-02T12:37:02.817000",
          "2022-09-02T12:37:11.250000",
          "2022-09-02T12:39:54.317000",
          "2022-09-02T12:41:08.420000",
          "2022-09-02T12:41:09.032000",
          "2022-09-02T12:42:51.445000",
          "2022-09-02T12:43:32.862000",
          "2022-09-02T12:44:42.141000",
          "2022-09-02T12:47:05.325000",
          "2022-09-02T12:47:05.325000",
          "2022-09-02T12:51:31.488000",
          "2022-09-02T12:54:33.297000",
          "2022-09-02T12:57:49.902000",
          "2022-09-02T13:05:50.187000",
          "2022-09-02T13:06:09.338000",
          "2022-09-02T13:09:53.934000",
          "2022-09-02T13:09:53.935000",
          "2022-09-02T13:09:53.938000",
          "2022-09-02T13:09:53.989000",
          "2022-09-02T13:20:47.219000",
          "2022-09-02T13:25:29.134000",
          "2022-09-02T13:26:09.861000",
          "2022-09-02T13:30:32.401000",
          "2022-09-02T13:30:43.977000",
          "2022-09-02T13:33:42.498000",
          "2022-09-02T13:34:28.692000",
          "2022-09-02T13:35:44.275000",
          "2022-09-02T13:35:44.292000",
          "2022-09-02T13:38:50.224000",
          "2022-09-02T13:40:03.753000",
          "2022-09-02T13:40:14.862000",
          "2022-09-02T13:40:41.518000",
          "2022-09-02T13:45:22.131000",
          "2022-09-02T13:49:56.412000",
          "2022-09-02T13:51:08.410000",
          "2022-09-02T13:51:44.828000",
          "2022-09-02T13:52:51.552000",
          "2022-09-02T13:55:25.137000",
          "2022-09-02T13:57:00.103000",
          "2022-09-02T14:01:13.140000",
          "2022-09-02T14:01:58.846000",
          "2022-09-02T14:03:15.679000",
          "2022-09-02T14:04:31.843000",
          "2022-09-02T14:06:02.240000",
          "2022-09-02T14:07:37.373000",
          "2022-09-02T14:07:37.374000",
          "2022-09-02T14:08:15.382000",
          "2022-09-02T14:08:22.815000",
          "2022-09-02T14:12:56.784000",
          "2022-09-02T14:12:56.784000",
          "2022-09-02T14:14:17.011000",
          "2022-09-02T14:17:53.020000",
          "2022-09-02T14:20:56.498000",
          "2022-09-02T14:27:27.282000",
          "2022-09-02T14:31:57.238000",
          "2022-09-02T14:31:57.244000",
          "2022-09-02T14:33:29.736000",
          "2022-09-02T14:33:29.745000",
          "2022-09-02T14:38:16.264000",
          "2022-09-02T14:40:32.767000",
          "2022-09-02T14:43:00.683000",
          "2022-09-02T14:43:54.458000",
          "2022-09-02T14:48:24.438000",
          "2022-09-02T14:50:22.532000",
          "2022-09-02T14:53:08.780000",
          "2022-09-02T14:56:50.233000",
          "2022-09-02T15:00:04.931000",
          "2022-09-02T15:02:36.910000",
          "2022-09-02T15:05:08.069000",
          "2022-09-02T15:06:28.535000",
          "2022-09-02T15:08:56.502000",
          "2022-09-02T15:11:31.472000",
          "2022-09-02T15:11:31.499000",
          "2022-09-02T15:11:31.538000",
          "2022-09-02T15:11:55.757000",
          "2022-09-02T15:21:08.245000",
          "2022-09-02T15:21:53.728000",
          "2022-09-02T15:24:18.893000",
          "2022-09-02T15:27:55.073000",
          "2022-09-02T15:35:08.547000",
          "2022-09-02T15:35:08.547000",
          "2022-09-02T15:35:08.547000",
          "2022-09-02T15:35:08.547000",
          "2022-09-02T15:35:08.547000"
         ],
         "y": [
          93.25,
          93.25,
          92.9,
          92.9,
          93,
          92.8,
          92.8,
          92.9,
          92.7,
          92.95,
          92.7,
          92.5,
          92.45,
          92.45,
          92.15,
          91.95,
          91.85,
          91.95,
          91.95,
          92,
          92.15,
          92.1,
          92.15,
          92.15,
          92.25,
          92.45,
          92.5,
          92.55,
          92.5,
          92.4,
          92.4,
          92.35,
          92.3,
          92.4,
          92.4,
          92.6,
          92.6,
          92.4,
          92.35,
          92.2,
          92.15,
          92.35,
          92.2,
          92.2,
          92.55,
          92.5,
          92.6,
          92.6,
          92.6,
          92.65,
          92.65,
          92.7,
          92.7,
          92.6,
          93.1,
          93.1,
          93.2,
          93.2,
          93,
          92.8,
          92.9,
          92.9,
          92.9,
          92.9,
          92.9,
          93,
          93,
          93,
          92.95,
          92.95,
          92.95,
          92.95,
          92.95,
          92.65,
          92.75,
          92.75,
          92.7,
          92.7,
          93,
          92.9,
          92.85,
          92.85,
          92.65,
          92.85,
          92.9,
          92.75,
          92.95,
          92.95,
          93,
          93.05,
          93.15,
          93.05,
          93.05,
          93.35,
          93.5,
          93.5,
          93.4,
          93.4,
          93.55,
          93.4,
          93.4,
          93.35,
          93.3,
          93.15,
          93.15,
          93.15,
          93.3,
          93.25,
          93.2,
          93.35,
          93.35,
          93.4,
          93.4,
          93.4,
          93.3,
          93.8,
          93.9,
          93.9,
          93.95,
          93.9,
          93.9,
          94,
          93.95,
          93.9,
          93.8,
          93.8,
          93.7,
          93.75,
          93.95,
          94.15,
          94.1,
          94.1,
          94.1,
          94.05,
          94.2,
          94.2,
          94.2,
          94.1,
          94,
          93.95,
          93.95,
          93.95,
          93.85,
          93.85,
          94,
          94,
          93.9,
          93.85,
          93.8,
          94.3,
          94.4,
          94.35,
          94.4,
          94.35,
          94.55,
          94.5,
          94.5,
          94.45,
          94.35,
          94.3,
          94.6,
          94.6,
          94.6,
          94.6,
          94.6,
          94.6,
          94.5,
          94.5,
          94.5,
          94.5,
          94.45,
          94.45,
          94.45,
          94.3,
          94.25,
          94.1,
          94.1,
          94.1,
          94.1,
          94.1
         ]
        }
       ],
       "layout": {
        "hovermode": "x",
        "legend": {
         "x": 0,
         "y": 1
        },
        "template": {
         "data": {
          "bar": [
           {
            "error_x": {
             "color": "#2a3f5f"
            },
            "error_y": {
             "color": "#2a3f5f"
            },
            "marker": {
             "line": {
              "color": "#E5ECF6",
              "width": 0.5
             },
             "pattern": {
              "fillmode": "overlay",
              "size": 10,
              "solidity": 0.2
             }
            },
            "type": "bar"
           }
          ],
          "barpolar": [
           {
            "marker": {
             "line": {
              "color": "#E5ECF6",
              "width": 0.5
             },
             "pattern": {
              "fillmode": "overlay",
              "size": 10,
              "solidity": 0.2
             }
            },
            "type": "barpolar"
           }
          ],
          "carpet": [
           {
            "aaxis": {
             "endlinecolor": "#2a3f5f",
             "gridcolor": "white",
             "linecolor": "white",
             "minorgridcolor": "white",
             "startlinecolor": "#2a3f5f"
            },
            "baxis": {
             "endlinecolor": "#2a3f5f",
             "gridcolor": "white",
             "linecolor": "white",
             "minorgridcolor": "white",
             "startlinecolor": "#2a3f5f"
            },
            "type": "carpet"
           }
          ],
          "choropleth": [
           {
            "colorbar": {
             "outlinewidth": 0,
             "ticks": ""
            },
            "type": "choropleth"
           }
          ],
          "contour": [
           {
            "colorbar": {
             "outlinewidth": 0,
             "ticks": ""
            },
            "colorscale": [
             [
              0,
              "#0d0887"
             ],
             [
              0.1111111111111111,
              "#46039f"
             ],
             [
              0.2222222222222222,
              "#7201a8"
             ],
             [
              0.3333333333333333,
              "#9c179e"
             ],
             [
              0.4444444444444444,
              "#bd3786"
             ],
             [
              0.5555555555555556,
              "#d8576b"
             ],
             [
              0.6666666666666666,
              "#ed7953"
             ],
             [
              0.7777777777777778,
              "#fb9f3a"
             ],
             [
              0.8888888888888888,
              "#fdca26"
             ],
             [
              1,
              "#f0f921"
             ]
            ],
            "type": "contour"
           }
          ],
          "contourcarpet": [
           {
            "colorbar": {
             "outlinewidth": 0,
             "ticks": ""
            },
            "type": "contourcarpet"
           }
          ],
          "heatmap": [
           {
            "colorbar": {
             "outlinewidth": 0,
             "ticks": ""
            },
            "colorscale": [
             [
              0,
              "#0d0887"
             ],
             [
              0.1111111111111111,
              "#46039f"
             ],
             [
              0.2222222222222222,
              "#7201a8"
             ],
             [
              0.3333333333333333,
              "#9c179e"
             ],
             [
              0.4444444444444444,
              "#bd3786"
             ],
             [
              0.5555555555555556,
              "#d8576b"
             ],
             [
              0.6666666666666666,
              "#ed7953"
             ],
             [
              0.7777777777777778,
              "#fb9f3a"
             ],
             [
              0.8888888888888888,
              "#fdca26"
             ],
             [
              1,
              "#f0f921"
             ]
            ],
            "type": "heatmap"
           }
          ],
          "heatmapgl": [
           {
            "colorbar": {
             "outlinewidth": 0,
             "ticks": ""
            },
            "colorscale": [
             [
              0,
              "#0d0887"
             ],
             [
              0.1111111111111111,
              "#46039f"
             ],
             [
              0.2222222222222222,
              "#7201a8"
             ],
             [
              0.3333333333333333,
              "#9c179e"
             ],
             [
              0.4444444444444444,
              "#bd3786"
             ],
             [
              0.5555555555555556,
              "#d8576b"
             ],
             [
              0.6666666666666666,
              "#ed7953"
             ],
             [
              0.7777777777777778,
              "#fb9f3a"
             ],
             [
              0.8888888888888888,
              "#fdca26"
             ],
             [
              1,
              "#f0f921"
             ]
            ],
            "type": "heatmapgl"
           }
          ],
          "histogram": [
           {
            "marker": {
             "pattern": {
              "fillmode": "overlay",
              "size": 10,
              "solidity": 0.2
             }
            },
            "type": "histogram"
           }
          ],
          "histogram2d": [
           {
            "colorbar": {
             "outlinewidth": 0,
             "ticks": ""
            },
            "colorscale": [
             [
              0,
              "#0d0887"
             ],
             [
              0.1111111111111111,
              "#46039f"
             ],
             [
              0.2222222222222222,
              "#7201a8"
             ],
             [
              0.3333333333333333,
              "#9c179e"
             ],
             [
              0.4444444444444444,
              "#bd3786"
             ],
             [
              0.5555555555555556,
              "#d8576b"
             ],
             [
              0.6666666666666666,
              "#ed7953"
             ],
             [
              0.7777777777777778,
              "#fb9f3a"
             ],
             [
              0.8888888888888888,
              "#fdca26"
             ],
             [
              1,
              "#f0f921"
             ]
            ],
            "type": "histogram2d"
           }
          ],
          "histogram2dcontour": [
           {
            "colorbar": {
             "outlinewidth": 0,
             "ticks": ""
            },
            "colorscale": [
             [
              0,
              "#0d0887"
             ],
             [
              0.1111111111111111,
              "#46039f"
             ],
             [
              0.2222222222222222,
              "#7201a8"
             ],
             [
              0.3333333333333333,
              "#9c179e"
             ],
             [
              0.4444444444444444,
              "#bd3786"
             ],
             [
              0.5555555555555556,
              "#d8576b"
             ],
             [
              0.6666666666666666,
              "#ed7953"
             ],
             [
              0.7777777777777778,
              "#fb9f3a"
             ],
             [
              0.8888888888888888,
              "#fdca26"
             ],
             [
              1,
              "#f0f921"
             ]
            ],
            "type": "histogram2dcontour"
           }
          ],
          "mesh3d": [
           {
            "colorbar": {
             "outlinewidth": 0,
             "ticks": ""
            },
            "type": "mesh3d"
           }
          ],
          "parcoords": [
           {
            "line": {
             "colorbar": {
              "outlinewidth": 0,
              "ticks": ""
             }
            },
            "type": "parcoords"
           }
          ],
          "pie": [
           {
            "automargin": true,
            "type": "pie"
           }
          ],
          "scatter": [
           {
            "marker": {
             "colorbar": {
              "outlinewidth": 0,
              "ticks": ""
             }
            },
            "type": "scatter"
           }
          ],
          "scatter3d": [
           {
            "line": {
             "colorbar": {
              "outlinewidth": 0,
              "ticks": ""
             }
            },
            "marker": {
             "colorbar": {
              "outlinewidth": 0,
              "ticks": ""
             }
            },
            "type": "scatter3d"
           }
          ],
          "scattercarpet": [
           {
            "marker": {
             "colorbar": {
              "outlinewidth": 0,
              "ticks": ""
             }
            },
            "type": "scattercarpet"
           }
          ],
          "scattergeo": [
           {
            "marker": {
             "colorbar": {
              "outlinewidth": 0,
              "ticks": ""
             }
            },
            "type": "scattergeo"
           }
          ],
          "scattergl": [
           {
            "marker": {
             "colorbar": {
              "outlinewidth": 0,
              "ticks": ""
             }
            },
            "type": "scattergl"
           }
          ],
          "scattermapbox": [
           {
            "marker": {
             "colorbar": {
              "outlinewidth": 0,
              "ticks": ""
             }
            },
            "type": "scattermapbox"
           }
          ],
          "scatterpolar": [
           {
            "marker": {
             "colorbar": {
              "outlinewidth": 0,
              "ticks": ""
             }
            },
            "type": "scatterpolar"
           }
          ],
          "scatterpolargl": [
           {
            "marker": {
             "colorbar": {
              "outlinewidth": 0,
              "ticks": ""
             }
            },
            "type": "scatterpolargl"
           }
          ],
          "scatterternary": [
           {
            "marker": {
             "colorbar": {
              "outlinewidth": 0,
              "ticks": ""
             }
            },
            "type": "scatterternary"
           }
          ],
          "surface": [
           {
            "colorbar": {
             "outlinewidth": 0,
             "ticks": ""
            },
            "colorscale": [
             [
              0,
              "#0d0887"
             ],
             [
              0.1111111111111111,
              "#46039f"
             ],
             [
              0.2222222222222222,
              "#7201a8"
             ],
             [
              0.3333333333333333,
              "#9c179e"
             ],
             [
              0.4444444444444444,
              "#bd3786"
             ],
             [
              0.5555555555555556,
              "#d8576b"
             ],
             [
              0.6666666666666666,
              "#ed7953"
             ],
             [
              0.7777777777777778,
              "#fb9f3a"
             ],
             [
              0.8888888888888888,
              "#fdca26"
             ],
             [
              1,
              "#f0f921"
             ]
            ],
            "type": "surface"
           }
          ],
          "table": [
           {
            "cells": {
             "fill": {
              "color": "#EBF0F8"
             },
             "line": {
              "color": "white"
             }
            },
            "header": {
             "fill": {
              "color": "#C8D4E3"
             },
             "line": {
              "color": "white"
             }
            },
            "type": "table"
           }
          ]
         },
         "layout": {
          "annotationdefaults": {
           "arrowcolor": "#2a3f5f",
           "arrowhead": 0,
           "arrowwidth": 1
          },
          "autotypenumbers": "strict",
          "coloraxis": {
           "colorbar": {
            "outlinewidth": 0,
            "ticks": ""
           }
          },
          "colorscale": {
           "diverging": [
            [
             0,
             "#8e0152"
            ],
            [
             0.1,
             "#c51b7d"
            ],
            [
             0.2,
             "#de77ae"
            ],
            [
             0.3,
             "#f1b6da"
            ],
            [
             0.4,
             "#fde0ef"
            ],
            [
             0.5,
             "#f7f7f7"
            ],
            [
             0.6,
             "#e6f5d0"
            ],
            [
             0.7,
             "#b8e186"
            ],
            [
             0.8,
             "#7fbc41"
            ],
            [
             0.9,
             "#4d9221"
            ],
            [
             1,
             "#276419"
            ]
           ],
           "sequential": [
            [
             0,
             "#0d0887"
            ],
            [
             0.1111111111111111,
             "#46039f"
            ],
            [
             0.2222222222222222,
             "#7201a8"
            ],
            [
             0.3333333333333333,
             "#9c179e"
            ],
            [
             0.4444444444444444,
             "#bd3786"
            ],
            [
             0.5555555555555556,
             "#d8576b"
            ],
            [
             0.6666666666666666,
             "#ed7953"
            ],
            [
             0.7777777777777778,
             "#fb9f3a"
            ],
            [
             0.8888888888888888,
             "#fdca26"
            ],
            [
             1,
             "#f0f921"
            ]
           ],
           "sequentialminus": [
            [
             0,
             "#0d0887"
            ],
            [
             0.1111111111111111,
             "#46039f"
            ],
            [
             0.2222222222222222,
             "#7201a8"
            ],
            [
             0.3333333333333333,
             "#9c179e"
            ],
            [
             0.4444444444444444,
             "#bd3786"
            ],
            [
             0.5555555555555556,
             "#d8576b"
            ],
            [
             0.6666666666666666,
             "#ed7953"
            ],
            [
             0.7777777777777778,
             "#fb9f3a"
            ],
            [
             0.8888888888888888,
             "#fdca26"
            ],
            [
             1,
             "#f0f921"
            ]
           ]
          },
          "colorway": [
           "#636efa",
           "#EF553B",
           "#00cc96",
           "#ab63fa",
           "#FFA15A",
           "#19d3f3",
           "#FF6692",
           "#B6E880",
           "#FF97FF",
           "#FECB52"
          ],
          "font": {
           "color": "#2a3f5f"
          },
          "geo": {
           "bgcolor": "white",
           "lakecolor": "white",
           "landcolor": "#E5ECF6",
           "showlakes": true,
           "showland": true,
           "subunitcolor": "white"
          },
          "hoverlabel": {
           "align": "left"
          },
          "hovermode": "closest",
          "mapbox": {
           "style": "light"
          },
          "paper_bgcolor": "white",
          "plot_bgcolor": "#E5ECF6",
          "polar": {
           "angularaxis": {
            "gridcolor": "white",
            "linecolor": "white",
            "ticks": ""
           },
           "bgcolor": "#E5ECF6",
           "radialaxis": {
            "gridcolor": "white",
            "linecolor": "white",
            "ticks": ""
           }
          },
          "scene": {
           "xaxis": {
            "backgroundcolor": "#E5ECF6",
            "gridcolor": "white",
            "gridwidth": 2,
            "linecolor": "white",
            "showbackground": true,
            "ticks": "",
            "zerolinecolor": "white"
           },
           "yaxis": {
            "backgroundcolor": "#E5ECF6",
            "gridcolor": "white",
            "gridwidth": 2,
            "linecolor": "white",
            "showbackground": true,
            "ticks": "",
            "zerolinecolor": "white"
           },
           "zaxis": {
            "backgroundcolor": "#E5ECF6",
            "gridcolor": "white",
            "gridwidth": 2,
            "linecolor": "white",
            "showbackground": true,
            "ticks": "",
            "zerolinecolor": "white"
           }
          },
          "shapedefaults": {
           "line": {
            "color": "#2a3f5f"
           }
          },
          "ternary": {
           "aaxis": {
            "gridcolor": "white",
            "linecolor": "white",
            "ticks": ""
           },
           "baxis": {
            "gridcolor": "white",
            "linecolor": "white",
            "ticks": ""
           },
           "bgcolor": "#E5ECF6",
           "caxis": {
            "gridcolor": "white",
            "linecolor": "white",
            "ticks": ""
           }
          },
          "title": {
           "x": 0.05
          },
          "xaxis": {
           "automargin": true,
           "gridcolor": "white",
           "linecolor": "white",
           "ticks": "",
           "title": {
            "standoff": 15
           },
           "zerolinecolor": "white",
           "zerolinewidth": 2
          },
          "yaxis": {
           "automargin": true,
           "gridcolor": "white",
           "linecolor": "white",
           "ticks": "",
           "title": {
            "standoff": 15
           },
           "zerolinecolor": "white",
           "zerolinewidth": 2
          }
         }
        },
        "title": {
         "text": "Scatter and Line Plot"
        },
        "xaxis": {
         "title": {
          "text": "X-axis"
         }
        },
        "yaxis": {
         "title": {
          "text": "Y-axis"
         }
        }
       }
      }
     },
     "metadata": {},
     "output_type": "display_data"
    }
   ],
   "source": [
    "# Create a Plotly figure\n",
    "fig = go.Figure()\n",
    "\n",
    "# Scatter plot\n",
    "fig.add_trace(go.Scatter(x=merged_all.TradeTime, y=merged_all.Price, mode='markers', marker=dict(color=color_map), name='Price'))\n",
    "\n",
    "# Line plots\n",
    "fig.add_trace(go.Scatter(x=merged_all.TradeTime, y=merged_all.best_bid, mode='lines', line=dict(color='blue'), name='best_bid'))\n",
    "fig.add_trace(go.Scatter(x=merged_all.TradeTime, y=merged_all.best_ask, mode='lines', line=dict(color='orange'), name='best_ask'))\n",
    "\n",
    "# Update layout\n",
    "fig.update_layout(\n",
    "    title='Scatter and Line Plot',\n",
    "    xaxis_title='X-axis',\n",
    "    yaxis_title='Y-axis',\n",
    "    legend=dict(x=0, y=1),\n",
    "    hovermode='x'  # Hover mode set to 'x' to display hover information for the nearest point on the x-axis\n",
    ")\n",
    "\n",
    "# Show plot\n",
    "fig.show()"
   ]
  },
  {
   "cell_type": "code",
   "execution_count": 66,
   "metadata": {},
   "outputs": [
    {
     "data": {
      "text/html": [
       "\n",
       "        <iframe\n",
       "            width=\"100%\"\n",
       "            height=\"650\"\n",
       "            src=\"http://127.0.0.1:8050/\"\n",
       "            frameborder=\"0\"\n",
       "            allowfullscreen\n",
       "            \n",
       "        ></iframe>\n",
       "        "
      ],
      "text/plain": [
       "<IPython.lib.display.IFrame at 0x15a578940>"
      ]
     },
     "metadata": {},
     "output_type": "display_data"
    }
   ],
   "source": [
    "import plotly.graph_objects as go\n",
    "import dash\n",
    "import dash_core_components as dcc\n",
    "import dash_html_components as html\n",
    "from dash.dependencies import Input, Output\n",
    "\n",
    "# Assume merged_all is a DataFrame containing the data\n",
    "\n",
    "# Create a Dash app\n",
    "app = dash.Dash(__name__)\n",
    "\n",
    "# Create a Plotly figure\n",
    "fig = go.Figure()\n",
    "\n",
    "# Scatter plot\n",
    "fig.add_trace(go.Scatter(x=merged_all.TradeTime, y=merged_all.Price, mode='markers', marker=dict(color=color_map), name='Price'))\n",
    "\n",
    "# Line plots\n",
    "fig.add_trace(go.Scatter(x=merged_all.TradeTime, y=merged_all.best_bid, mode='lines', line=dict(color='blue'), name='best_bid'))\n",
    "fig.add_trace(go.Scatter(x=merged_all.TradeTime, y=merged_all.best_ask, mode='lines', line=dict(color='orange'), name='best_ask'))\n",
    "\n",
    "# Define the options for the dropdown\n",
    "dropdown_options = [{'label': stock, 'value': stock} for stock in merged_all.primary_ticker.unique()]\n",
    "\n",
    "# Create a Dash layout\n",
    "app.layout = html.Div([\n",
    "    dcc.Dropdown(\n",
    "        id='stock-dropdown',\n",
    "        options=dropdown_options,\n",
    "        value=merged_all.primary_ticker.unique()[0],  # Set default value to the first stock in the list\n",
    "        clearable=False  # Prevents the user from clearing the dropdown\n",
    "    ),\n",
    "    dcc.Graph(\n",
    "        id='stock-graph',\n",
    "        figure=fig\n",
    "    )\n",
    "])\n",
    "\n",
    "# Define callback to update the graph based on dropdown selection\n",
    "@app.callback(\n",
    "    Output('stock-graph', 'figure'),\n",
    "    [Input('stock-dropdown', 'value')]\n",
    ")\n",
    "def update_graph(selected_stock):\n",
    "    filtered_df = merged_all[merged_all.primary_ticker == selected_stock]\n",
    "    updated_fig = go.Figure()\n",
    "    updated_fig.add_trace(go.Scatter(x=filtered_df.TradeTime, y=filtered_df.Price, mode='markers', marker=dict(color=color_map), name='Price'))\n",
    "    updated_fig.add_trace(go.Scatter(x=filtered_df.TradeTime, y=filtered_df.best_bid, mode='lines', line=dict(color='blue'), name='best_bid'))\n",
    "    updated_fig.add_trace(go.Scatter(x=filtered_df.TradeTime, y=filtered_df.best_ask, mode='lines', line=dict(color='orange'), name='best_ask'))\n",
    "    updated_fig.update_layout(\n",
    "        title='Scatter and Line Plot for {}'.format(selected_stock),\n",
    "        xaxis_title='X-axis',\n",
    "        yaxis_title='Y-axis',\n",
    "        legend=dict(x=0, y=1),\n",
    "        hovermode='x'\n",
    "    )\n",
    "    return updated_fig\n",
    "\n",
    "# Run the Dash app\n",
    "if __name__ == '__main__':\n",
    "    app.run_server(debug=True)\n"
   ]
  },
  {
   "cell_type": "code",
   "execution_count": null,
   "metadata": {},
   "outputs": [],
   "source": []
  }
 ],
 "metadata": {
  "kernelspec": {
   "display_name": "Python 3",
   "language": "python",
   "name": "python3"
  },
  "language_info": {
   "codemirror_mode": {
    "name": "ipython",
    "version": 3
   },
   "file_extension": ".py",
   "mimetype": "text/x-python",
   "name": "python",
   "nbconvert_exporter": "python",
   "pygments_lexer": "ipython3",
   "version": "3.10.2"
  }
 },
 "nbformat": 4,
 "nbformat_minor": 2
}
